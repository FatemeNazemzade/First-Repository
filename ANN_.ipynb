{
  "cells": [
    {
      "cell_type": "markdown",
      "metadata": {
        "id": "view-in-github",
        "colab_type": "text"
      },
      "source": [
        "<a href=\"https://colab.research.google.com/github/FatemeNazemzade/First-Repository/blob/main/ANN_.ipynb\" target=\"_parent\"><img src=\"https://colab.research.google.com/assets/colab-badge.svg\" alt=\"Open In Colab\"/></a>"
      ]
    },
    {
      "cell_type": "markdown",
      "metadata": {
        "id": "gWZyYmS_UE_L"
      },
      "source": [
        "### Importing the libraries"
      ]
    },
    {
      "cell_type": "code",
      "execution_count": null,
      "metadata": {
        "id": "MxkJoQBkUIHC"
      },
      "outputs": [],
      "source": [
        "import numpy as np\n",
        "import pandas as pd\n",
        "import tensorflow as tf\n",
        "from sklearn.preprocessing import LabelEncoder\n",
        "from sklearn.compose import ColumnTransformer\n",
        "from sklearn.preprocessing import OneHotEncoder\n",
        "from sklearn.model_selection import train_test_split\n",
        "from sklearn.preprocessing import StandardScaler\n",
        "from sklearn.metrics import confusion_matrix, classification_report\n",
        "import matplotlib.pyplot as plt\n",
        "import seaborn as sns\n",
        "from sklearn.metrics import r2_score , accuracy_score\n",
        "from mlxtend.plotting import plot_decision_regions\n",
        "from tensorflow.keras import regularizers\n",
        "import tensorflow as tf\n",
        "from tensorflow import keras\n",
        "from keras import preprocessing\n",
        "from keras.models import Sequential\n",
        "from tensorflow.keras.layers import Dense, Dropout\n",
        "from tensorflow.keras.callbacks import ReduceLROnPlateau, EarlyStopping, ModelCheckpoint, LearningRateScheduler\n",
        "import random\n",
        "from imblearn.under_sampling import RandomUnderSampler"
      ]
    },
    {
      "cell_type": "markdown",
      "metadata": {
        "id": "1E0Q3aoKUCRX"
      },
      "source": [
        "## Part 1 - Data Preprocessing"
      ]
    },
    {
      "cell_type": "markdown",
      "metadata": {
        "id": "cKWAkFVGUU0Z"
      },
      "source": [
        "### Importing the dataset"
      ]
    },
    {
      "cell_type": "code",
      "execution_count": null,
      "metadata": {
        "colab": {
          "base_uri": "https://localhost:8080/"
        },
        "id": "PoHRIbXA87D2",
        "outputId": "4c2d143d-fe00-461f-ebd3-117f66638c41"
      },
      "outputs": [
        {
          "name": "stdout",
          "output_type": "stream",
          "text": [
            "Requirement already satisfied: gdown in /usr/local/lib/python3.10/dist-packages (4.7.3)\n",
            "Collecting gdown\n",
            "  Downloading gdown-5.0.1-py3-none-any.whl (16 kB)\n",
            "Requirement already satisfied: beautifulsoup4 in /usr/local/lib/python3.10/dist-packages (from gdown) (4.11.2)\n",
            "Requirement already satisfied: filelock in /usr/local/lib/python3.10/dist-packages (from gdown) (3.13.1)\n",
            "Requirement already satisfied: requests[socks] in /usr/local/lib/python3.10/dist-packages (from gdown) (2.31.0)\n",
            "Requirement already satisfied: tqdm in /usr/local/lib/python3.10/dist-packages (from gdown) (4.66.1)\n",
            "Requirement already satisfied: soupsieve>1.2 in /usr/local/lib/python3.10/dist-packages (from beautifulsoup4->gdown) (2.5)\n",
            "Requirement already satisfied: charset-normalizer<4,>=2 in /usr/local/lib/python3.10/dist-packages (from requests[socks]->gdown) (3.3.2)\n",
            "Requirement already satisfied: idna<4,>=2.5 in /usr/local/lib/python3.10/dist-packages (from requests[socks]->gdown) (3.6)\n",
            "Requirement already satisfied: urllib3<3,>=1.21.1 in /usr/local/lib/python3.10/dist-packages (from requests[socks]->gdown) (2.0.7)\n",
            "Requirement already satisfied: certifi>=2017.4.17 in /usr/local/lib/python3.10/dist-packages (from requests[socks]->gdown) (2023.11.17)\n",
            "Requirement already satisfied: PySocks!=1.5.7,>=1.5.6 in /usr/local/lib/python3.10/dist-packages (from requests[socks]->gdown) (1.7.1)\n",
            "Installing collected packages: gdown\n",
            "  Attempting uninstall: gdown\n",
            "    Found existing installation: gdown 4.7.3\n",
            "    Uninstalling gdown-4.7.3:\n",
            "      Successfully uninstalled gdown-4.7.3\n",
            "Successfully installed gdown-5.0.1\n",
            "Downloading...\n",
            "From: https://drive.google.com/uc?id=1zJJ_1OKNJZzmIXYmpsmgRgX_SpKR_tA0\n",
            "To: /content/Churn_Modelling.csv\n",
            "100% 685k/685k [00:00<00:00, 140MB/s]\n"
          ]
        }
      ],
      "source": [
        "!pip install --upgrade --no-cache-dir gdown\n",
        "!gdown 1zJJ_1OKNJZzmIXYmpsmgRgX_SpKR_tA0"
      ]
    },
    {
      "cell_type": "code",
      "execution_count": null,
      "metadata": {
        "colab": {
          "base_uri": "https://localhost:8080/",
          "height": 206
        },
        "id": "g-NoKeJV8IG8",
        "outputId": "f7c4dc94-a76a-4eed-aaf4-9dd8555c31f6"
      },
      "outputs": [
        {
          "data": {
            "text/html": [
              "\n",
              "  <div id=\"df-cf04c718-5a7d-4df8-8f7b-d38efad0abeb\" class=\"colab-df-container\">\n",
              "    <div>\n",
              "<style scoped>\n",
              "    .dataframe tbody tr th:only-of-type {\n",
              "        vertical-align: middle;\n",
              "    }\n",
              "\n",
              "    .dataframe tbody tr th {\n",
              "        vertical-align: top;\n",
              "    }\n",
              "\n",
              "    .dataframe thead th {\n",
              "        text-align: right;\n",
              "    }\n",
              "</style>\n",
              "<table border=\"1\" class=\"dataframe\">\n",
              "  <thead>\n",
              "    <tr style=\"text-align: right;\">\n",
              "      <th></th>\n",
              "      <th>RowNumber</th>\n",
              "      <th>CustomerId</th>\n",
              "      <th>Surname</th>\n",
              "      <th>CreditScore</th>\n",
              "      <th>Geography</th>\n",
              "      <th>Gender</th>\n",
              "      <th>Age</th>\n",
              "      <th>Tenure</th>\n",
              "      <th>Balance</th>\n",
              "      <th>NumOfProducts</th>\n",
              "      <th>HasCrCard</th>\n",
              "      <th>IsActiveMember</th>\n",
              "      <th>EstimatedSalary</th>\n",
              "      <th>Exited</th>\n",
              "    </tr>\n",
              "  </thead>\n",
              "  <tbody>\n",
              "    <tr>\n",
              "      <th>0</th>\n",
              "      <td>1</td>\n",
              "      <td>15634602</td>\n",
              "      <td>Hargrave</td>\n",
              "      <td>619</td>\n",
              "      <td>France</td>\n",
              "      <td>Female</td>\n",
              "      <td>42</td>\n",
              "      <td>2</td>\n",
              "      <td>0.00</td>\n",
              "      <td>1</td>\n",
              "      <td>1</td>\n",
              "      <td>1</td>\n",
              "      <td>101348.88</td>\n",
              "      <td>1</td>\n",
              "    </tr>\n",
              "    <tr>\n",
              "      <th>1</th>\n",
              "      <td>2</td>\n",
              "      <td>15647311</td>\n",
              "      <td>Hill</td>\n",
              "      <td>608</td>\n",
              "      <td>Spain</td>\n",
              "      <td>Female</td>\n",
              "      <td>41</td>\n",
              "      <td>1</td>\n",
              "      <td>83807.86</td>\n",
              "      <td>1</td>\n",
              "      <td>0</td>\n",
              "      <td>1</td>\n",
              "      <td>112542.58</td>\n",
              "      <td>0</td>\n",
              "    </tr>\n",
              "    <tr>\n",
              "      <th>2</th>\n",
              "      <td>3</td>\n",
              "      <td>15619304</td>\n",
              "      <td>Onio</td>\n",
              "      <td>502</td>\n",
              "      <td>France</td>\n",
              "      <td>Female</td>\n",
              "      <td>42</td>\n",
              "      <td>8</td>\n",
              "      <td>159660.80</td>\n",
              "      <td>3</td>\n",
              "      <td>1</td>\n",
              "      <td>0</td>\n",
              "      <td>113931.57</td>\n",
              "      <td>1</td>\n",
              "    </tr>\n",
              "    <tr>\n",
              "      <th>3</th>\n",
              "      <td>4</td>\n",
              "      <td>15701354</td>\n",
              "      <td>Boni</td>\n",
              "      <td>699</td>\n",
              "      <td>France</td>\n",
              "      <td>Female</td>\n",
              "      <td>39</td>\n",
              "      <td>1</td>\n",
              "      <td>0.00</td>\n",
              "      <td>2</td>\n",
              "      <td>0</td>\n",
              "      <td>0</td>\n",
              "      <td>93826.63</td>\n",
              "      <td>0</td>\n",
              "    </tr>\n",
              "    <tr>\n",
              "      <th>4</th>\n",
              "      <td>5</td>\n",
              "      <td>15737888</td>\n",
              "      <td>Mitchell</td>\n",
              "      <td>850</td>\n",
              "      <td>Spain</td>\n",
              "      <td>Female</td>\n",
              "      <td>43</td>\n",
              "      <td>2</td>\n",
              "      <td>125510.82</td>\n",
              "      <td>1</td>\n",
              "      <td>1</td>\n",
              "      <td>1</td>\n",
              "      <td>79084.10</td>\n",
              "      <td>0</td>\n",
              "    </tr>\n",
              "  </tbody>\n",
              "</table>\n",
              "</div>\n",
              "    <div class=\"colab-df-buttons\">\n",
              "\n",
              "  <div class=\"colab-df-container\">\n",
              "    <button class=\"colab-df-convert\" onclick=\"convertToInteractive('df-cf04c718-5a7d-4df8-8f7b-d38efad0abeb')\"\n",
              "            title=\"Convert this dataframe to an interactive table.\"\n",
              "            style=\"display:none;\">\n",
              "\n",
              "  <svg xmlns=\"http://www.w3.org/2000/svg\" height=\"24px\" viewBox=\"0 -960 960 960\">\n",
              "    <path d=\"M120-120v-720h720v720H120Zm60-500h600v-160H180v160Zm220 220h160v-160H400v160Zm0 220h160v-160H400v160ZM180-400h160v-160H180v160Zm440 0h160v-160H620v160ZM180-180h160v-160H180v160Zm440 0h160v-160H620v160Z\"/>\n",
              "  </svg>\n",
              "    </button>\n",
              "\n",
              "  <style>\n",
              "    .colab-df-container {\n",
              "      display:flex;\n",
              "      gap: 12px;\n",
              "    }\n",
              "\n",
              "    .colab-df-convert {\n",
              "      background-color: #E8F0FE;\n",
              "      border: none;\n",
              "      border-radius: 50%;\n",
              "      cursor: pointer;\n",
              "      display: none;\n",
              "      fill: #1967D2;\n",
              "      height: 32px;\n",
              "      padding: 0 0 0 0;\n",
              "      width: 32px;\n",
              "    }\n",
              "\n",
              "    .colab-df-convert:hover {\n",
              "      background-color: #E2EBFA;\n",
              "      box-shadow: 0px 1px 2px rgba(60, 64, 67, 0.3), 0px 1px 3px 1px rgba(60, 64, 67, 0.15);\n",
              "      fill: #174EA6;\n",
              "    }\n",
              "\n",
              "    .colab-df-buttons div {\n",
              "      margin-bottom: 4px;\n",
              "    }\n",
              "\n",
              "    [theme=dark] .colab-df-convert {\n",
              "      background-color: #3B4455;\n",
              "      fill: #D2E3FC;\n",
              "    }\n",
              "\n",
              "    [theme=dark] .colab-df-convert:hover {\n",
              "      background-color: #434B5C;\n",
              "      box-shadow: 0px 1px 3px 1px rgba(0, 0, 0, 0.15);\n",
              "      filter: drop-shadow(0px 1px 2px rgba(0, 0, 0, 0.3));\n",
              "      fill: #FFFFFF;\n",
              "    }\n",
              "  </style>\n",
              "\n",
              "    <script>\n",
              "      const buttonEl =\n",
              "        document.querySelector('#df-cf04c718-5a7d-4df8-8f7b-d38efad0abeb button.colab-df-convert');\n",
              "      buttonEl.style.display =\n",
              "        google.colab.kernel.accessAllowed ? 'block' : 'none';\n",
              "\n",
              "      async function convertToInteractive(key) {\n",
              "        const element = document.querySelector('#df-cf04c718-5a7d-4df8-8f7b-d38efad0abeb');\n",
              "        const dataTable =\n",
              "          await google.colab.kernel.invokeFunction('convertToInteractive',\n",
              "                                                    [key], {});\n",
              "        if (!dataTable) return;\n",
              "\n",
              "        const docLinkHtml = 'Like what you see? Visit the ' +\n",
              "          '<a target=\"_blank\" href=https://colab.research.google.com/notebooks/data_table.ipynb>data table notebook</a>'\n",
              "          + ' to learn more about interactive tables.';\n",
              "        element.innerHTML = '';\n",
              "        dataTable['output_type'] = 'display_data';\n",
              "        await google.colab.output.renderOutput(dataTable, element);\n",
              "        const docLink = document.createElement('div');\n",
              "        docLink.innerHTML = docLinkHtml;\n",
              "        element.appendChild(docLink);\n",
              "      }\n",
              "    </script>\n",
              "  </div>\n",
              "\n",
              "\n",
              "<div id=\"df-19cd9c65-e8fd-44dc-b143-6eed7dbd2b21\">\n",
              "  <button class=\"colab-df-quickchart\" onclick=\"quickchart('df-19cd9c65-e8fd-44dc-b143-6eed7dbd2b21')\"\n",
              "            title=\"Suggest charts\"\n",
              "            style=\"display:none;\">\n",
              "\n",
              "<svg xmlns=\"http://www.w3.org/2000/svg\" height=\"24px\"viewBox=\"0 0 24 24\"\n",
              "     width=\"24px\">\n",
              "    <g>\n",
              "        <path d=\"M19 3H5c-1.1 0-2 .9-2 2v14c0 1.1.9 2 2 2h14c1.1 0 2-.9 2-2V5c0-1.1-.9-2-2-2zM9 17H7v-7h2v7zm4 0h-2V7h2v10zm4 0h-2v-4h2v4z\"/>\n",
              "    </g>\n",
              "</svg>\n",
              "  </button>\n",
              "\n",
              "<style>\n",
              "  .colab-df-quickchart {\n",
              "      --bg-color: #E8F0FE;\n",
              "      --fill-color: #1967D2;\n",
              "      --hover-bg-color: #E2EBFA;\n",
              "      --hover-fill-color: #174EA6;\n",
              "      --disabled-fill-color: #AAA;\n",
              "      --disabled-bg-color: #DDD;\n",
              "  }\n",
              "\n",
              "  [theme=dark] .colab-df-quickchart {\n",
              "      --bg-color: #3B4455;\n",
              "      --fill-color: #D2E3FC;\n",
              "      --hover-bg-color: #434B5C;\n",
              "      --hover-fill-color: #FFFFFF;\n",
              "      --disabled-bg-color: #3B4455;\n",
              "      --disabled-fill-color: #666;\n",
              "  }\n",
              "\n",
              "  .colab-df-quickchart {\n",
              "    background-color: var(--bg-color);\n",
              "    border: none;\n",
              "    border-radius: 50%;\n",
              "    cursor: pointer;\n",
              "    display: none;\n",
              "    fill: var(--fill-color);\n",
              "    height: 32px;\n",
              "    padding: 0;\n",
              "    width: 32px;\n",
              "  }\n",
              "\n",
              "  .colab-df-quickchart:hover {\n",
              "    background-color: var(--hover-bg-color);\n",
              "    box-shadow: 0 1px 2px rgba(60, 64, 67, 0.3), 0 1px 3px 1px rgba(60, 64, 67, 0.15);\n",
              "    fill: var(--button-hover-fill-color);\n",
              "  }\n",
              "\n",
              "  .colab-df-quickchart-complete:disabled,\n",
              "  .colab-df-quickchart-complete:disabled:hover {\n",
              "    background-color: var(--disabled-bg-color);\n",
              "    fill: var(--disabled-fill-color);\n",
              "    box-shadow: none;\n",
              "  }\n",
              "\n",
              "  .colab-df-spinner {\n",
              "    border: 2px solid var(--fill-color);\n",
              "    border-color: transparent;\n",
              "    border-bottom-color: var(--fill-color);\n",
              "    animation:\n",
              "      spin 1s steps(1) infinite;\n",
              "  }\n",
              "\n",
              "  @keyframes spin {\n",
              "    0% {\n",
              "      border-color: transparent;\n",
              "      border-bottom-color: var(--fill-color);\n",
              "      border-left-color: var(--fill-color);\n",
              "    }\n",
              "    20% {\n",
              "      border-color: transparent;\n",
              "      border-left-color: var(--fill-color);\n",
              "      border-top-color: var(--fill-color);\n",
              "    }\n",
              "    30% {\n",
              "      border-color: transparent;\n",
              "      border-left-color: var(--fill-color);\n",
              "      border-top-color: var(--fill-color);\n",
              "      border-right-color: var(--fill-color);\n",
              "    }\n",
              "    40% {\n",
              "      border-color: transparent;\n",
              "      border-right-color: var(--fill-color);\n",
              "      border-top-color: var(--fill-color);\n",
              "    }\n",
              "    60% {\n",
              "      border-color: transparent;\n",
              "      border-right-color: var(--fill-color);\n",
              "    }\n",
              "    80% {\n",
              "      border-color: transparent;\n",
              "      border-right-color: var(--fill-color);\n",
              "      border-bottom-color: var(--fill-color);\n",
              "    }\n",
              "    90% {\n",
              "      border-color: transparent;\n",
              "      border-bottom-color: var(--fill-color);\n",
              "    }\n",
              "  }\n",
              "</style>\n",
              "\n",
              "  <script>\n",
              "    async function quickchart(key) {\n",
              "      const quickchartButtonEl =\n",
              "        document.querySelector('#' + key + ' button');\n",
              "      quickchartButtonEl.disabled = true;  // To prevent multiple clicks.\n",
              "      quickchartButtonEl.classList.add('colab-df-spinner');\n",
              "      try {\n",
              "        const charts = await google.colab.kernel.invokeFunction(\n",
              "            'suggestCharts', [key], {});\n",
              "      } catch (error) {\n",
              "        console.error('Error during call to suggestCharts:', error);\n",
              "      }\n",
              "      quickchartButtonEl.classList.remove('colab-df-spinner');\n",
              "      quickchartButtonEl.classList.add('colab-df-quickchart-complete');\n",
              "    }\n",
              "    (() => {\n",
              "      let quickchartButtonEl =\n",
              "        document.querySelector('#df-19cd9c65-e8fd-44dc-b143-6eed7dbd2b21 button');\n",
              "      quickchartButtonEl.style.display =\n",
              "        google.colab.kernel.accessAllowed ? 'block' : 'none';\n",
              "    })();\n",
              "  </script>\n",
              "</div>\n",
              "    </div>\n",
              "  </div>\n"
            ],
            "text/plain": [
              "   RowNumber  CustomerId   Surname  CreditScore Geography  Gender  Age  \\\n",
              "0          1    15634602  Hargrave          619    France  Female   42   \n",
              "1          2    15647311      Hill          608     Spain  Female   41   \n",
              "2          3    15619304      Onio          502    France  Female   42   \n",
              "3          4    15701354      Boni          699    France  Female   39   \n",
              "4          5    15737888  Mitchell          850     Spain  Female   43   \n",
              "\n",
              "   Tenure    Balance  NumOfProducts  HasCrCard  IsActiveMember  \\\n",
              "0       2       0.00              1          1               1   \n",
              "1       1   83807.86              1          0               1   \n",
              "2       8  159660.80              3          1               0   \n",
              "3       1       0.00              2          0               0   \n",
              "4       2  125510.82              1          1               1   \n",
              "\n",
              "   EstimatedSalary  Exited  \n",
              "0        101348.88       1  \n",
              "1        112542.58       0  \n",
              "2        113931.57       1  \n",
              "3         93826.63       0  \n",
              "4         79084.10       0  "
            ]
          },
          "execution_count": 3,
          "metadata": {},
          "output_type": "execute_result"
        }
      ],
      "source": [
        "dataset = pd.read_csv('/content/Churn_Modelling.csv')\n",
        "dataset.head()"
      ]
    },
    {
      "cell_type": "code",
      "execution_count": null,
      "metadata": {
        "colab": {
          "base_uri": "https://localhost:8080/",
          "height": 206
        },
        "id": "RQBMRMqh9C0O",
        "outputId": "d521ff2e-0d02-4f05-f6ee-1628bdaf5eb3"
      },
      "outputs": [
        {
          "data": {
            "text/html": [
              "\n",
              "  <div id=\"df-45e3fa1b-3a42-454d-a42c-28d45da4b4aa\" class=\"colab-df-container\">\n",
              "    <div>\n",
              "<style scoped>\n",
              "    .dataframe tbody tr th:only-of-type {\n",
              "        vertical-align: middle;\n",
              "    }\n",
              "\n",
              "    .dataframe tbody tr th {\n",
              "        vertical-align: top;\n",
              "    }\n",
              "\n",
              "    .dataframe thead th {\n",
              "        text-align: right;\n",
              "    }\n",
              "</style>\n",
              "<table border=\"1\" class=\"dataframe\">\n",
              "  <thead>\n",
              "    <tr style=\"text-align: right;\">\n",
              "      <th></th>\n",
              "      <th>RowNumber</th>\n",
              "      <th>CustomerId</th>\n",
              "      <th>Surname</th>\n",
              "      <th>CreditScore</th>\n",
              "      <th>Geography</th>\n",
              "      <th>Gender</th>\n",
              "      <th>Age</th>\n",
              "      <th>Tenure</th>\n",
              "      <th>Balance</th>\n",
              "      <th>NumOfProducts</th>\n",
              "      <th>HasCrCard</th>\n",
              "      <th>IsActiveMember</th>\n",
              "      <th>EstimatedSalary</th>\n",
              "      <th>Exited</th>\n",
              "    </tr>\n",
              "  </thead>\n",
              "  <tbody>\n",
              "    <tr>\n",
              "      <th>9995</th>\n",
              "      <td>9996</td>\n",
              "      <td>15606229</td>\n",
              "      <td>Obijiaku</td>\n",
              "      <td>771</td>\n",
              "      <td>France</td>\n",
              "      <td>Male</td>\n",
              "      <td>39</td>\n",
              "      <td>5</td>\n",
              "      <td>0.00</td>\n",
              "      <td>2</td>\n",
              "      <td>1</td>\n",
              "      <td>0</td>\n",
              "      <td>96270.64</td>\n",
              "      <td>0</td>\n",
              "    </tr>\n",
              "    <tr>\n",
              "      <th>9996</th>\n",
              "      <td>9997</td>\n",
              "      <td>15569892</td>\n",
              "      <td>Johnstone</td>\n",
              "      <td>516</td>\n",
              "      <td>France</td>\n",
              "      <td>Male</td>\n",
              "      <td>35</td>\n",
              "      <td>10</td>\n",
              "      <td>57369.61</td>\n",
              "      <td>1</td>\n",
              "      <td>1</td>\n",
              "      <td>1</td>\n",
              "      <td>101699.77</td>\n",
              "      <td>0</td>\n",
              "    </tr>\n",
              "    <tr>\n",
              "      <th>9997</th>\n",
              "      <td>9998</td>\n",
              "      <td>15584532</td>\n",
              "      <td>Liu</td>\n",
              "      <td>709</td>\n",
              "      <td>France</td>\n",
              "      <td>Female</td>\n",
              "      <td>36</td>\n",
              "      <td>7</td>\n",
              "      <td>0.00</td>\n",
              "      <td>1</td>\n",
              "      <td>0</td>\n",
              "      <td>1</td>\n",
              "      <td>42085.58</td>\n",
              "      <td>1</td>\n",
              "    </tr>\n",
              "    <tr>\n",
              "      <th>9998</th>\n",
              "      <td>9999</td>\n",
              "      <td>15682355</td>\n",
              "      <td>Sabbatini</td>\n",
              "      <td>772</td>\n",
              "      <td>Germany</td>\n",
              "      <td>Male</td>\n",
              "      <td>42</td>\n",
              "      <td>3</td>\n",
              "      <td>75075.31</td>\n",
              "      <td>2</td>\n",
              "      <td>1</td>\n",
              "      <td>0</td>\n",
              "      <td>92888.52</td>\n",
              "      <td>1</td>\n",
              "    </tr>\n",
              "    <tr>\n",
              "      <th>9999</th>\n",
              "      <td>10000</td>\n",
              "      <td>15628319</td>\n",
              "      <td>Walker</td>\n",
              "      <td>792</td>\n",
              "      <td>France</td>\n",
              "      <td>Female</td>\n",
              "      <td>28</td>\n",
              "      <td>4</td>\n",
              "      <td>130142.79</td>\n",
              "      <td>1</td>\n",
              "      <td>1</td>\n",
              "      <td>0</td>\n",
              "      <td>38190.78</td>\n",
              "      <td>0</td>\n",
              "    </tr>\n",
              "  </tbody>\n",
              "</table>\n",
              "</div>\n",
              "    <div class=\"colab-df-buttons\">\n",
              "\n",
              "  <div class=\"colab-df-container\">\n",
              "    <button class=\"colab-df-convert\" onclick=\"convertToInteractive('df-45e3fa1b-3a42-454d-a42c-28d45da4b4aa')\"\n",
              "            title=\"Convert this dataframe to an interactive table.\"\n",
              "            style=\"display:none;\">\n",
              "\n",
              "  <svg xmlns=\"http://www.w3.org/2000/svg\" height=\"24px\" viewBox=\"0 -960 960 960\">\n",
              "    <path d=\"M120-120v-720h720v720H120Zm60-500h600v-160H180v160Zm220 220h160v-160H400v160Zm0 220h160v-160H400v160ZM180-400h160v-160H180v160Zm440 0h160v-160H620v160ZM180-180h160v-160H180v160Zm440 0h160v-160H620v160Z\"/>\n",
              "  </svg>\n",
              "    </button>\n",
              "\n",
              "  <style>\n",
              "    .colab-df-container {\n",
              "      display:flex;\n",
              "      gap: 12px;\n",
              "    }\n",
              "\n",
              "    .colab-df-convert {\n",
              "      background-color: #E8F0FE;\n",
              "      border: none;\n",
              "      border-radius: 50%;\n",
              "      cursor: pointer;\n",
              "      display: none;\n",
              "      fill: #1967D2;\n",
              "      height: 32px;\n",
              "      padding: 0 0 0 0;\n",
              "      width: 32px;\n",
              "    }\n",
              "\n",
              "    .colab-df-convert:hover {\n",
              "      background-color: #E2EBFA;\n",
              "      box-shadow: 0px 1px 2px rgba(60, 64, 67, 0.3), 0px 1px 3px 1px rgba(60, 64, 67, 0.15);\n",
              "      fill: #174EA6;\n",
              "    }\n",
              "\n",
              "    .colab-df-buttons div {\n",
              "      margin-bottom: 4px;\n",
              "    }\n",
              "\n",
              "    [theme=dark] .colab-df-convert {\n",
              "      background-color: #3B4455;\n",
              "      fill: #D2E3FC;\n",
              "    }\n",
              "\n",
              "    [theme=dark] .colab-df-convert:hover {\n",
              "      background-color: #434B5C;\n",
              "      box-shadow: 0px 1px 3px 1px rgba(0, 0, 0, 0.15);\n",
              "      filter: drop-shadow(0px 1px 2px rgba(0, 0, 0, 0.3));\n",
              "      fill: #FFFFFF;\n",
              "    }\n",
              "  </style>\n",
              "\n",
              "    <script>\n",
              "      const buttonEl =\n",
              "        document.querySelector('#df-45e3fa1b-3a42-454d-a42c-28d45da4b4aa button.colab-df-convert');\n",
              "      buttonEl.style.display =\n",
              "        google.colab.kernel.accessAllowed ? 'block' : 'none';\n",
              "\n",
              "      async function convertToInteractive(key) {\n",
              "        const element = document.querySelector('#df-45e3fa1b-3a42-454d-a42c-28d45da4b4aa');\n",
              "        const dataTable =\n",
              "          await google.colab.kernel.invokeFunction('convertToInteractive',\n",
              "                                                    [key], {});\n",
              "        if (!dataTable) return;\n",
              "\n",
              "        const docLinkHtml = 'Like what you see? Visit the ' +\n",
              "          '<a target=\"_blank\" href=https://colab.research.google.com/notebooks/data_table.ipynb>data table notebook</a>'\n",
              "          + ' to learn more about interactive tables.';\n",
              "        element.innerHTML = '';\n",
              "        dataTable['output_type'] = 'display_data';\n",
              "        await google.colab.output.renderOutput(dataTable, element);\n",
              "        const docLink = document.createElement('div');\n",
              "        docLink.innerHTML = docLinkHtml;\n",
              "        element.appendChild(docLink);\n",
              "      }\n",
              "    </script>\n",
              "  </div>\n",
              "\n",
              "\n",
              "<div id=\"df-3c1b082a-ba98-4dc1-939f-f9552b8c75af\">\n",
              "  <button class=\"colab-df-quickchart\" onclick=\"quickchart('df-3c1b082a-ba98-4dc1-939f-f9552b8c75af')\"\n",
              "            title=\"Suggest charts\"\n",
              "            style=\"display:none;\">\n",
              "\n",
              "<svg xmlns=\"http://www.w3.org/2000/svg\" height=\"24px\"viewBox=\"0 0 24 24\"\n",
              "     width=\"24px\">\n",
              "    <g>\n",
              "        <path d=\"M19 3H5c-1.1 0-2 .9-2 2v14c0 1.1.9 2 2 2h14c1.1 0 2-.9 2-2V5c0-1.1-.9-2-2-2zM9 17H7v-7h2v7zm4 0h-2V7h2v10zm4 0h-2v-4h2v4z\"/>\n",
              "    </g>\n",
              "</svg>\n",
              "  </button>\n",
              "\n",
              "<style>\n",
              "  .colab-df-quickchart {\n",
              "      --bg-color: #E8F0FE;\n",
              "      --fill-color: #1967D2;\n",
              "      --hover-bg-color: #E2EBFA;\n",
              "      --hover-fill-color: #174EA6;\n",
              "      --disabled-fill-color: #AAA;\n",
              "      --disabled-bg-color: #DDD;\n",
              "  }\n",
              "\n",
              "  [theme=dark] .colab-df-quickchart {\n",
              "      --bg-color: #3B4455;\n",
              "      --fill-color: #D2E3FC;\n",
              "      --hover-bg-color: #434B5C;\n",
              "      --hover-fill-color: #FFFFFF;\n",
              "      --disabled-bg-color: #3B4455;\n",
              "      --disabled-fill-color: #666;\n",
              "  }\n",
              "\n",
              "  .colab-df-quickchart {\n",
              "    background-color: var(--bg-color);\n",
              "    border: none;\n",
              "    border-radius: 50%;\n",
              "    cursor: pointer;\n",
              "    display: none;\n",
              "    fill: var(--fill-color);\n",
              "    height: 32px;\n",
              "    padding: 0;\n",
              "    width: 32px;\n",
              "  }\n",
              "\n",
              "  .colab-df-quickchart:hover {\n",
              "    background-color: var(--hover-bg-color);\n",
              "    box-shadow: 0 1px 2px rgba(60, 64, 67, 0.3), 0 1px 3px 1px rgba(60, 64, 67, 0.15);\n",
              "    fill: var(--button-hover-fill-color);\n",
              "  }\n",
              "\n",
              "  .colab-df-quickchart-complete:disabled,\n",
              "  .colab-df-quickchart-complete:disabled:hover {\n",
              "    background-color: var(--disabled-bg-color);\n",
              "    fill: var(--disabled-fill-color);\n",
              "    box-shadow: none;\n",
              "  }\n",
              "\n",
              "  .colab-df-spinner {\n",
              "    border: 2px solid var(--fill-color);\n",
              "    border-color: transparent;\n",
              "    border-bottom-color: var(--fill-color);\n",
              "    animation:\n",
              "      spin 1s steps(1) infinite;\n",
              "  }\n",
              "\n",
              "  @keyframes spin {\n",
              "    0% {\n",
              "      border-color: transparent;\n",
              "      border-bottom-color: var(--fill-color);\n",
              "      border-left-color: var(--fill-color);\n",
              "    }\n",
              "    20% {\n",
              "      border-color: transparent;\n",
              "      border-left-color: var(--fill-color);\n",
              "      border-top-color: var(--fill-color);\n",
              "    }\n",
              "    30% {\n",
              "      border-color: transparent;\n",
              "      border-left-color: var(--fill-color);\n",
              "      border-top-color: var(--fill-color);\n",
              "      border-right-color: var(--fill-color);\n",
              "    }\n",
              "    40% {\n",
              "      border-color: transparent;\n",
              "      border-right-color: var(--fill-color);\n",
              "      border-top-color: var(--fill-color);\n",
              "    }\n",
              "    60% {\n",
              "      border-color: transparent;\n",
              "      border-right-color: var(--fill-color);\n",
              "    }\n",
              "    80% {\n",
              "      border-color: transparent;\n",
              "      border-right-color: var(--fill-color);\n",
              "      border-bottom-color: var(--fill-color);\n",
              "    }\n",
              "    90% {\n",
              "      border-color: transparent;\n",
              "      border-bottom-color: var(--fill-color);\n",
              "    }\n",
              "  }\n",
              "</style>\n",
              "\n",
              "  <script>\n",
              "    async function quickchart(key) {\n",
              "      const quickchartButtonEl =\n",
              "        document.querySelector('#' + key + ' button');\n",
              "      quickchartButtonEl.disabled = true;  // To prevent multiple clicks.\n",
              "      quickchartButtonEl.classList.add('colab-df-spinner');\n",
              "      try {\n",
              "        const charts = await google.colab.kernel.invokeFunction(\n",
              "            'suggestCharts', [key], {});\n",
              "      } catch (error) {\n",
              "        console.error('Error during call to suggestCharts:', error);\n",
              "      }\n",
              "      quickchartButtonEl.classList.remove('colab-df-spinner');\n",
              "      quickchartButtonEl.classList.add('colab-df-quickchart-complete');\n",
              "    }\n",
              "    (() => {\n",
              "      let quickchartButtonEl =\n",
              "        document.querySelector('#df-3c1b082a-ba98-4dc1-939f-f9552b8c75af button');\n",
              "      quickchartButtonEl.style.display =\n",
              "        google.colab.kernel.accessAllowed ? 'block' : 'none';\n",
              "    })();\n",
              "  </script>\n",
              "</div>\n",
              "    </div>\n",
              "  </div>\n"
            ],
            "text/plain": [
              "      RowNumber  CustomerId    Surname  CreditScore Geography  Gender  Age  \\\n",
              "9995       9996    15606229   Obijiaku          771    France    Male   39   \n",
              "9996       9997    15569892  Johnstone          516    France    Male   35   \n",
              "9997       9998    15584532        Liu          709    France  Female   36   \n",
              "9998       9999    15682355  Sabbatini          772   Germany    Male   42   \n",
              "9999      10000    15628319     Walker          792    France  Female   28   \n",
              "\n",
              "      Tenure    Balance  NumOfProducts  HasCrCard  IsActiveMember  \\\n",
              "9995       5       0.00              2          1               0   \n",
              "9996      10   57369.61              1          1               1   \n",
              "9997       7       0.00              1          0               1   \n",
              "9998       3   75075.31              2          1               0   \n",
              "9999       4  130142.79              1          1               0   \n",
              "\n",
              "      EstimatedSalary  Exited  \n",
              "9995         96270.64       0  \n",
              "9996        101699.77       0  \n",
              "9997         42085.58       1  \n",
              "9998         92888.52       1  \n",
              "9999         38190.78       0  "
            ]
          },
          "execution_count": 234,
          "metadata": {},
          "output_type": "execute_result"
        }
      ],
      "source": [
        "dataset.tail()"
      ]
    },
    {
      "cell_type": "code",
      "execution_count": null,
      "metadata": {
        "colab": {
          "base_uri": "https://localhost:8080/"
        },
        "id": "hhBF_hR69GhJ",
        "outputId": "ddae0d45-c541-4750-d558-a66c68a098e7"
      },
      "outputs": [
        {
          "name": "stdout",
          "output_type": "stream",
          "text": [
            "<class 'pandas.core.frame.DataFrame'>\n",
            "RangeIndex: 10000 entries, 0 to 9999\n",
            "Data columns (total 14 columns):\n",
            " #   Column           Non-Null Count  Dtype  \n",
            "---  ------           --------------  -----  \n",
            " 0   RowNumber        10000 non-null  int64  \n",
            " 1   CustomerId       10000 non-null  int64  \n",
            " 2   Surname          10000 non-null  object \n",
            " 3   CreditScore      10000 non-null  int64  \n",
            " 4   Geography        10000 non-null  object \n",
            " 5   Gender           10000 non-null  object \n",
            " 6   Age              10000 non-null  int64  \n",
            " 7   Tenure           10000 non-null  int64  \n",
            " 8   Balance          10000 non-null  float64\n",
            " 9   NumOfProducts    10000 non-null  int64  \n",
            " 10  HasCrCard        10000 non-null  int64  \n",
            " 11  IsActiveMember   10000 non-null  int64  \n",
            " 12  EstimatedSalary  10000 non-null  float64\n",
            " 13  Exited           10000 non-null  int64  \n",
            "dtypes: float64(2), int64(9), object(3)\n",
            "memory usage: 1.1+ MB\n"
          ]
        }
      ],
      "source": [
        "dataset.info()"
      ]
    },
    {
      "cell_type": "code",
      "execution_count": null,
      "metadata": {
        "id": "VZV8XSydKlGn"
      },
      "outputs": [],
      "source": [
        "dataset = dataset.drop(['RowNumber','CustomerId','Surname'], axis=1)"
      ]
    },
    {
      "cell_type": "code",
      "execution_count": null,
      "metadata": {
        "colab": {
          "base_uri": "https://localhost:8080/"
        },
        "id": "hpbJaOOHDIHl",
        "outputId": "55a4fb47-12b5-4269-b6ea-0ea2d7f8d82e"
      },
      "outputs": [
        {
          "data": {
            "text/plain": [
              "CreditScore        0\n",
              "Geography          0\n",
              "Gender             0\n",
              "Age                0\n",
              "Tenure             0\n",
              "Balance            0\n",
              "NumOfProducts      0\n",
              "HasCrCard          0\n",
              "IsActiveMember     0\n",
              "EstimatedSalary    0\n",
              "Exited             0\n",
              "dtype: int64"
            ]
          },
          "execution_count": 6,
          "metadata": {},
          "output_type": "execute_result"
        }
      ],
      "source": [
        "dataset.isnull().sum()"
      ]
    },
    {
      "cell_type": "code",
      "execution_count": null,
      "metadata": {
        "colab": {
          "base_uri": "https://localhost:8080/"
        },
        "id": "fz84ngdYKBBB",
        "outputId": "c797fe0c-a8a3-4ff8-c5e8-4cd5267d4713"
      },
      "outputs": [
        {
          "data": {
            "text/plain": [
              "Exited             1.000000\n",
              "Age                0.285323\n",
              "Balance            0.118533\n",
              "EstimatedSalary    0.012097\n",
              "HasCrCard         -0.007138\n",
              "Tenure            -0.014001\n",
              "CreditScore       -0.027094\n",
              "NumOfProducts     -0.047820\n",
              "IsActiveMember    -0.156128\n",
              "Name: Exited, dtype: float64"
            ]
          },
          "execution_count": 242,
          "metadata": {},
          "output_type": "execute_result"
        }
      ],
      "source": [
        "correlation_matrix = dataset.corr()['Exited'].sort_values(ascending=False)\n",
        "correlation_matrix"
      ]
    },
    {
      "cell_type": "code",
      "execution_count": null,
      "metadata": {
        "colab": {
          "base_uri": "https://localhost:8080/"
        },
        "id": "UyXdBow9LinF",
        "outputId": "64074b3b-d72e-4582-cd8b-7884685035e9"
      },
      "outputs": [
        {
          "name": "stdout",
          "output_type": "stream",
          "text": [
            "<class 'pandas.core.frame.DataFrame'>\n",
            "RangeIndex: 10000 entries, 0 to 9999\n",
            "Data columns (total 11 columns):\n",
            " #   Column           Non-Null Count  Dtype  \n",
            "---  ------           --------------  -----  \n",
            " 0   CreditScore      10000 non-null  int64  \n",
            " 1   Geography        10000 non-null  object \n",
            " 2   Gender           10000 non-null  object \n",
            " 3   Age              10000 non-null  int64  \n",
            " 4   Tenure           10000 non-null  int64  \n",
            " 5   Balance          10000 non-null  float64\n",
            " 6   NumOfProducts    10000 non-null  int64  \n",
            " 7   HasCrCard        10000 non-null  int64  \n",
            " 8   IsActiveMember   10000 non-null  int64  \n",
            " 9   EstimatedSalary  10000 non-null  float64\n",
            " 10  Exited           10000 non-null  int64  \n",
            "dtypes: float64(2), int64(7), object(2)\n",
            "memory usage: 859.5+ KB\n"
          ]
        }
      ],
      "source": [
        "dataset.info()"
      ]
    },
    {
      "cell_type": "code",
      "execution_count": null,
      "metadata": {
        "id": "MXUkhkMfU4wq"
      },
      "outputs": [],
      "source": [
        "X = dataset.iloc[:, :-1].values\n",
        "y = dataset.iloc[:, -1].values"
      ]
    },
    {
      "cell_type": "code",
      "execution_count": null,
      "metadata": {
        "colab": {
          "base_uri": "https://localhost:8080/"
        },
        "id": "RovLTfND3_9M",
        "outputId": "dd802dc2-8d87-4b94-d20e-809c9be3a389"
      },
      "outputs": [
        {
          "name": "stdout",
          "output_type": "stream",
          "text": [
            "Class counts before balancing: {0: 7963, 1: 2037}\n"
          ]
        }
      ],
      "source": [
        "unique, counts = np.unique(y, return_counts=True)\n",
        "print(\"Class counts before balancing:\", dict(zip(unique, counts)))"
      ]
    },
    {
      "cell_type": "code",
      "execution_count": null,
      "metadata": {
        "colab": {
          "base_uri": "https://localhost:8080/"
        },
        "id": "j5-Y00Tu4JOu",
        "outputId": "cad07410-5a5d-47a6-8878-07ff0cb5dadc"
      },
      "outputs": [
        {
          "name": "stdout",
          "output_type": "stream",
          "text": [
            "Class counts after balancing: {0: 2037, 1: 2037}\n",
            "\n",
            "\n",
            "New balanced dataset shape: (4074, 10) (4074,)\n"
          ]
        }
      ],
      "source": [
        "rus = RandomUnderSampler(random_state=42)\n",
        "X_resampled, y_resampled = rus.fit_resample(X, y)\n",
        "\n",
        "unique_resampled, counts_resampled = np.unique(y_resampled, return_counts=True)\n",
        "print(\"Class counts after balancing:\", dict(zip(unique_resampled, counts_resampled)))\n",
        "print('\\n')\n",
        "print(\"New balanced dataset shape:\", X_resampled.shape, y_resampled.shape)"
      ]
    },
    {
      "cell_type": "code",
      "execution_count": null,
      "metadata": {
        "colab": {
          "base_uri": "https://localhost:8080/"
        },
        "id": "Ho0SL4ag4RaG",
        "outputId": "c7b053bd-32bf-4354-f4c5-94b181ebd87a"
      },
      "outputs": [
        {
          "name": "stdout",
          "output_type": "stream",
          "text": [
            "(4074, 10) (4074,)\n"
          ]
        }
      ],
      "source": [
        "X = X_resampled\n",
        "y = y_resampled\n",
        "print(X.shape, y.shape)"
      ]
    },
    {
      "cell_type": "code",
      "execution_count": null,
      "metadata": {
        "colab": {
          "base_uri": "https://localhost:8080/"
        },
        "id": "VYP9cQTWbzuI",
        "outputId": "cdd06b6c-886f-4fcc-ba12-99b0b3489a59"
      },
      "outputs": [
        {
          "name": "stdout",
          "output_type": "stream",
          "text": [
            "[[606 'Spain' 'Male' ... 1 0 89099.18]\n",
            " [683 'France' 'Female' ... 1 1 38784.42]\n",
            " [744 'France' 'Female' ... 1 1 189016.14]\n",
            " ...\n",
            " [597 'France' 'Female' ... 1 0 69384.71]\n",
            " [709 'France' 'Female' ... 0 1 42085.58]\n",
            " [772 'Germany' 'Male' ... 1 0 92888.52]]\n"
          ]
        }
      ],
      "source": [
        "print(X)"
      ]
    },
    {
      "cell_type": "code",
      "execution_count": null,
      "metadata": {
        "colab": {
          "base_uri": "https://localhost:8080/"
        },
        "id": "38vKGE6Nb2RR",
        "outputId": "a1e4aba3-a2cc-4dda-d97d-38f389535e6c"
      },
      "outputs": [
        {
          "name": "stdout",
          "output_type": "stream",
          "text": [
            "[0 0 0 ... 1 1 1]\n"
          ]
        }
      ],
      "source": [
        "print(y)"
      ]
    },
    {
      "cell_type": "markdown",
      "metadata": {
        "id": "N6bQ0UgSU-NJ"
      },
      "source": [
        "### Encoding categorical data"
      ]
    },
    {
      "cell_type": "code",
      "execution_count": null,
      "metadata": {
        "colab": {
          "base_uri": "https://localhost:8080/"
        },
        "id": "g7xzxiL7B07U",
        "outputId": "cf96be7f-4182-4cd0-aea9-0984aa7f61ff"
      },
      "outputs": [
        {
          "name": "stdout",
          "output_type": "stream",
          "text": [
            "Male      5457\n",
            "Female    4543\n",
            "Name: Gender, dtype: int64\n"
          ]
        }
      ],
      "source": [
        "counts = dataset['Gender'].value_counts()\n",
        "print(counts)"
      ]
    },
    {
      "cell_type": "code",
      "execution_count": null,
      "metadata": {
        "colab": {
          "base_uri": "https://localhost:8080/"
        },
        "id": "Zwg8qrxyBzM4",
        "outputId": "b01593ac-99f6-46df-cf8b-bb481a554f72"
      },
      "outputs": [
        {
          "name": "stdout",
          "output_type": "stream",
          "text": [
            "France     5014\n",
            "Germany    2509\n",
            "Spain      2477\n",
            "Name: Geography, dtype: int64\n"
          ]
        }
      ],
      "source": [
        "counts = dataset['Geography'].value_counts()\n",
        "print(counts)"
      ]
    },
    {
      "cell_type": "markdown",
      "metadata": {
        "id": "le5MJreAbW52"
      },
      "source": [
        "Label Encoding the \"Gender\" column"
      ]
    },
    {
      "cell_type": "code",
      "execution_count": null,
      "metadata": {
        "id": "PxVKWXxLbczC"
      },
      "outputs": [],
      "source": [
        "le = LabelEncoder()\n",
        "X[:, 2] = le.fit_transform(X[:, 2])"
      ]
    },
    {
      "cell_type": "code",
      "execution_count": null,
      "metadata": {
        "colab": {
          "base_uri": "https://localhost:8080/"
        },
        "id": "-M1KboxFb6OO",
        "outputId": "ae2fb2b2-9be3-4db3-f7ac-dda60a88166c"
      },
      "outputs": [
        {
          "name": "stdout",
          "output_type": "stream",
          "text": [
            "[[606 'Spain' 1 ... 1 0 89099.18]\n",
            " [683 'France' 0 ... 1 1 38784.42]\n",
            " [744 'France' 0 ... 1 1 189016.14]\n",
            " ...\n",
            " [597 'France' 0 ... 1 0 69384.71]\n",
            " [709 'France' 0 ... 0 1 42085.58]\n",
            " [772 'Germany' 1 ... 1 0 92888.52]]\n"
          ]
        }
      ],
      "source": [
        "print(X)"
      ]
    },
    {
      "cell_type": "code",
      "execution_count": null,
      "metadata": {
        "colab": {
          "base_uri": "https://localhost:8080/"
        },
        "id": "dhBzg9geA1rA",
        "outputId": "140305eb-6fc4-4cd3-c3b0-f5e7acf4708a"
      },
      "outputs": [
        {
          "data": {
            "text/plain": [
              "array([606, 'Spain', 1, 37, 8, 154712.58, 2, 1, 0, 89099.18], dtype=object)"
            ]
          },
          "execution_count": 255,
          "metadata": {},
          "output_type": "execute_result"
        }
      ],
      "source": [
        "X[0,:]"
      ]
    },
    {
      "cell_type": "code",
      "execution_count": null,
      "metadata": {
        "colab": {
          "base_uri": "https://localhost:8080/"
        },
        "id": "hW-bVXCQBBQu",
        "outputId": "716ba4de-b4af-4fa6-9450-fa6d7f285376"
      },
      "outputs": [
        {
          "data": {
            "text/plain": [
              "array([772, 'Germany', 1, 42, 3, 75075.31, 2, 1, 0, 92888.52],\n",
              "      dtype=object)"
            ]
          },
          "execution_count": 258,
          "metadata": {},
          "output_type": "execute_result"
        }
      ],
      "source": [
        "X[4073,:]"
      ]
    },
    {
      "cell_type": "markdown",
      "metadata": {
        "id": "CUxGZezpbMcb"
      },
      "source": [
        "One Hot Encoding the \"Geography\" column"
      ]
    },
    {
      "cell_type": "code",
      "execution_count": null,
      "metadata": {
        "id": "AMXC8-KMVirw"
      },
      "outputs": [],
      "source": [
        "ct = ColumnTransformer(transformers=[('encoder', OneHotEncoder(), [1])], remainder='passthrough')\n",
        "X = np.array(ct.fit_transform(X))"
      ]
    },
    {
      "cell_type": "code",
      "execution_count": null,
      "metadata": {
        "colab": {
          "base_uri": "https://localhost:8080/"
        },
        "id": "ZcxwEon-b8nV",
        "outputId": "a7001e6f-4598-43d5-c8d7-a50583d5d8f9"
      },
      "outputs": [
        {
          "name": "stdout",
          "output_type": "stream",
          "text": [
            "[[0.0 0.0 1.0 ... 1 0 89099.18]\n",
            " [1.0 0.0 0.0 ... 1 1 38784.42]\n",
            " [1.0 0.0 0.0 ... 1 1 189016.14]\n",
            " ...\n",
            " [1.0 0.0 0.0 ... 1 0 69384.71]\n",
            " [1.0 0.0 0.0 ... 0 1 42085.58]\n",
            " [0.0 1.0 0.0 ... 1 0 92888.52]]\n"
          ]
        }
      ],
      "source": [
        "print(X)"
      ]
    },
    {
      "cell_type": "code",
      "execution_count": null,
      "metadata": {
        "colab": {
          "base_uri": "https://localhost:8080/"
        },
        "id": "IrIo6dcq__Dc",
        "outputId": "b8402908-800e-4f6d-a7e9-038017452714"
      },
      "outputs": [
        {
          "data": {
            "text/plain": [
              "array([0.0, 0.0, 1.0, 606, 1, 37, 8, 154712.58, 2, 1, 0, 89099.18],\n",
              "      dtype=object)"
            ]
          },
          "execution_count": 261,
          "metadata": {},
          "output_type": "execute_result"
        }
      ],
      "source": [
        "X[0,:]"
      ]
    },
    {
      "cell_type": "code",
      "execution_count": null,
      "metadata": {
        "colab": {
          "base_uri": "https://localhost:8080/"
        },
        "id": "z5orKHrFATyD",
        "outputId": "e4b62986-1ffa-4cb3-bdc2-e0b863778822"
      },
      "outputs": [
        {
          "data": {
            "text/plain": [
              "array([0.0, 1.0, 0.0, 772, 1, 42, 3, 75075.31, 2, 1, 0, 92888.52],\n",
              "      dtype=object)"
            ]
          },
          "execution_count": 13,
          "metadata": {},
          "output_type": "execute_result"
        }
      ],
      "source": [
        "X[4073,:]"
      ]
    },
    {
      "cell_type": "markdown",
      "metadata": {
        "id": "vHol938cW8zd"
      },
      "source": [
        "### Splitting the dataset into the Training set and Test set"
      ]
    },
    {
      "cell_type": "code",
      "execution_count": null,
      "metadata": {
        "colab": {
          "base_uri": "https://localhost:8080/"
        },
        "id": "Z-TDt0Y_XEfc",
        "outputId": "cad750b2-b1e2-4a69-9f68-86ecded10a92"
      },
      "outputs": [
        {
          "data": {
            "text/plain": [
              "((3259, 12), (3259,), (815, 12), (815,))"
            ]
          },
          "execution_count": 13,
          "metadata": {},
          "output_type": "execute_result"
        }
      ],
      "source": [
        "X_train, X_test, y_train, y_test = train_test_split(X, y, test_size = 0.2, random_state = 0)\n",
        "X_train.shape , y_train.shape , X_test.shape , y_test.shape"
      ]
    },
    {
      "cell_type": "markdown",
      "metadata": {
        "id": "RE_FcHyfV3TQ"
      },
      "source": [
        "### Feature Scaling"
      ]
    },
    {
      "cell_type": "code",
      "execution_count": null,
      "metadata": {
        "id": "ViCrE00rV8Sk"
      },
      "outputs": [],
      "source": [
        "sc = StandardScaler()\n",
        "X_train = sc.fit_transform(X_train)\n",
        "X_test = sc.transform(X_test)"
      ]
    },
    {
      "cell_type": "markdown",
      "metadata": {
        "id": "-zfEzkRVXIwF"
      },
      "source": [
        "## Part 2 - Building the ANN"
      ]
    },
    {
      "cell_type": "markdown",
      "metadata": {
        "id": "KvdeScabXtlB"
      },
      "source": [
        "### Initializing the ANN"
      ]
    },
    {
      "cell_type": "code",
      "execution_count": null,
      "metadata": {
        "id": "3dtrScHxXQox"
      },
      "outputs": [],
      "source": [
        "ann = tf.keras.models.Sequential()"
      ]
    },
    {
      "cell_type": "markdown",
      "metadata": {
        "id": "rP6urV6SX7kS"
      },
      "source": [
        "### Adding the input layer and the first hidden layer"
      ]
    },
    {
      "cell_type": "code",
      "execution_count": null,
      "metadata": {
        "id": "bppGycBXYCQr"
      },
      "outputs": [],
      "source": [
        "ann.add(tf.keras.layers.Dense(units=6, activation='relu'))"
      ]
    },
    {
      "cell_type": "markdown",
      "metadata": {
        "id": "BELWAc_8YJze"
      },
      "source": [
        "### Adding the second hidden layer"
      ]
    },
    {
      "cell_type": "code",
      "execution_count": null,
      "metadata": {
        "id": "JneR0u0sYRTd"
      },
      "outputs": [],
      "source": [
        "ann.add(tf.keras.layers.Dense(units=6, activation='relu'))"
      ]
    },
    {
      "cell_type": "markdown",
      "metadata": {
        "id": "OyNEe6RXYcU4"
      },
      "source": [
        "### Adding the output layer"
      ]
    },
    {
      "cell_type": "code",
      "execution_count": null,
      "metadata": {
        "id": "Cn3x41RBYfvY"
      },
      "outputs": [],
      "source": [
        "ann.add(tf.keras.layers.Dense(units=1, activation='sigmoid'))"
      ]
    },
    {
      "cell_type": "markdown",
      "metadata": {
        "id": "JT4u2S1_Y4WG"
      },
      "source": [
        "## Part 3 - Training the ANN"
      ]
    },
    {
      "cell_type": "markdown",
      "metadata": {
        "id": "8GWlJChhY_ZI"
      },
      "source": [
        "### Compiling the ANN"
      ]
    },
    {
      "cell_type": "code",
      "execution_count": null,
      "metadata": {
        "id": "fG3RrwDXZEaS"
      },
      "outputs": [],
      "source": [
        "ann.compile(optimizer = 'adam', loss = 'binary_crossentropy', metrics = ['accuracy'])"
      ]
    },
    {
      "cell_type": "markdown",
      "metadata": {
        "id": "0QR_G5u7ZLSM"
      },
      "source": [
        "### Training the ANN on the Training set"
      ]
    },
    {
      "cell_type": "code",
      "execution_count": null,
      "metadata": {
        "colab": {
          "base_uri": "https://localhost:8080/"
        },
        "id": "nHZ-LKv_ZRb3",
        "outputId": "7a3b4108-cbe6-47e2-bf10-6b1b42089f24"
      },
      "outputs": [
        {
          "name": "stdout",
          "output_type": "stream",
          "text": [
            "Epoch 1/100\n",
            "102/102 [==============================] - 3s 3ms/step - loss: 0.6741 - accuracy: 0.5815\n",
            "Epoch 2/100\n",
            "102/102 [==============================] - 1s 5ms/step - loss: 0.6484 - accuracy: 0.6379\n",
            "Epoch 3/100\n",
            "102/102 [==============================] - 1s 5ms/step - loss: 0.6231 - accuracy: 0.6701\n",
            "Epoch 4/100\n",
            "102/102 [==============================] - 1s 5ms/step - loss: 0.6009 - accuracy: 0.6852\n",
            "Epoch 5/100\n",
            "102/102 [==============================] - 1s 6ms/step - loss: 0.5866 - accuracy: 0.6968\n",
            "Epoch 6/100\n",
            "102/102 [==============================] - 1s 5ms/step - loss: 0.5757 - accuracy: 0.7048\n",
            "Epoch 7/100\n",
            "102/102 [==============================] - 0s 4ms/step - loss: 0.5662 - accuracy: 0.7159\n",
            "Epoch 8/100\n",
            "102/102 [==============================] - 0s 5ms/step - loss: 0.5578 - accuracy: 0.7226\n",
            "Epoch 9/100\n",
            "102/102 [==============================] - 0s 4ms/step - loss: 0.5495 - accuracy: 0.7288\n",
            "Epoch 10/100\n",
            "102/102 [==============================] - 0s 3ms/step - loss: 0.5418 - accuracy: 0.7321\n",
            "Epoch 11/100\n",
            "102/102 [==============================] - 0s 3ms/step - loss: 0.5343 - accuracy: 0.7352\n",
            "Epoch 12/100\n",
            "102/102 [==============================] - 0s 3ms/step - loss: 0.5257 - accuracy: 0.7404\n",
            "Epoch 13/100\n",
            "102/102 [==============================] - 0s 3ms/step - loss: 0.5180 - accuracy: 0.7355\n",
            "Epoch 14/100\n",
            "102/102 [==============================] - 0s 4ms/step - loss: 0.5107 - accuracy: 0.7438\n",
            "Epoch 15/100\n",
            "102/102 [==============================] - 0s 4ms/step - loss: 0.5041 - accuracy: 0.7493\n",
            "Epoch 16/100\n",
            "102/102 [==============================] - 0s 4ms/step - loss: 0.4967 - accuracy: 0.7499\n",
            "Epoch 17/100\n",
            "102/102 [==============================] - 0s 3ms/step - loss: 0.4910 - accuracy: 0.7558\n",
            "Epoch 18/100\n",
            "102/102 [==============================] - 0s 3ms/step - loss: 0.4861 - accuracy: 0.7536\n",
            "Epoch 19/100\n",
            "102/102 [==============================] - 0s 3ms/step - loss: 0.4823 - accuracy: 0.7567\n",
            "Epoch 20/100\n",
            "102/102 [==============================] - 0s 3ms/step - loss: 0.4791 - accuracy: 0.7579\n",
            "Epoch 21/100\n",
            "102/102 [==============================] - 0s 3ms/step - loss: 0.4769 - accuracy: 0.7597\n",
            "Epoch 22/100\n",
            "102/102 [==============================] - 0s 5ms/step - loss: 0.4747 - accuracy: 0.7597\n",
            "Epoch 23/100\n",
            "102/102 [==============================] - 0s 3ms/step - loss: 0.4734 - accuracy: 0.7585\n",
            "Epoch 24/100\n",
            "102/102 [==============================] - 0s 3ms/step - loss: 0.4716 - accuracy: 0.7597\n",
            "Epoch 25/100\n",
            "102/102 [==============================] - 0s 3ms/step - loss: 0.4703 - accuracy: 0.7622\n",
            "Epoch 26/100\n",
            "102/102 [==============================] - 0s 3ms/step - loss: 0.4694 - accuracy: 0.7616\n",
            "Epoch 27/100\n",
            "102/102 [==============================] - 0s 4ms/step - loss: 0.4680 - accuracy: 0.7625\n",
            "Epoch 28/100\n",
            "102/102 [==============================] - 0s 3ms/step - loss: 0.4670 - accuracy: 0.7637\n",
            "Epoch 29/100\n",
            "102/102 [==============================] - 0s 3ms/step - loss: 0.4660 - accuracy: 0.7650\n",
            "Epoch 30/100\n",
            "102/102 [==============================] - 0s 3ms/step - loss: 0.4650 - accuracy: 0.7650\n",
            "Epoch 31/100\n",
            "102/102 [==============================] - 0s 3ms/step - loss: 0.4639 - accuracy: 0.7668\n",
            "Epoch 32/100\n",
            "102/102 [==============================] - 0s 3ms/step - loss: 0.4636 - accuracy: 0.7662\n",
            "Epoch 33/100\n",
            "102/102 [==============================] - 0s 3ms/step - loss: 0.4625 - accuracy: 0.7634\n",
            "Epoch 34/100\n",
            "102/102 [==============================] - 0s 3ms/step - loss: 0.4619 - accuracy: 0.7683\n",
            "Epoch 35/100\n",
            "102/102 [==============================] - 0s 3ms/step - loss: 0.4612 - accuracy: 0.7683\n",
            "Epoch 36/100\n",
            "102/102 [==============================] - 0s 3ms/step - loss: 0.4598 - accuracy: 0.7729\n",
            "Epoch 37/100\n",
            "102/102 [==============================] - 0s 3ms/step - loss: 0.4595 - accuracy: 0.7726\n",
            "Epoch 38/100\n",
            "102/102 [==============================] - 0s 5ms/step - loss: 0.4585 - accuracy: 0.7726\n",
            "Epoch 39/100\n",
            "102/102 [==============================] - 0s 5ms/step - loss: 0.4578 - accuracy: 0.7751\n",
            "Epoch 40/100\n",
            "102/102 [==============================] - 1s 5ms/step - loss: 0.4572 - accuracy: 0.7766\n",
            "Epoch 41/100\n",
            "102/102 [==============================] - 1s 6ms/step - loss: 0.4565 - accuracy: 0.7763\n",
            "Epoch 42/100\n",
            "102/102 [==============================] - 1s 6ms/step - loss: 0.4562 - accuracy: 0.7751\n",
            "Epoch 43/100\n",
            "102/102 [==============================] - 1s 5ms/step - loss: 0.4560 - accuracy: 0.7769\n",
            "Epoch 44/100\n",
            "102/102 [==============================] - 0s 5ms/step - loss: 0.4550 - accuracy: 0.7791\n",
            "Epoch 45/100\n",
            "102/102 [==============================] - 0s 4ms/step - loss: 0.4545 - accuracy: 0.7803\n",
            "Epoch 46/100\n",
            "102/102 [==============================] - 0s 4ms/step - loss: 0.4550 - accuracy: 0.7803\n",
            "Epoch 47/100\n",
            "102/102 [==============================] - 0s 3ms/step - loss: 0.4540 - accuracy: 0.7800\n",
            "Epoch 48/100\n",
            "102/102 [==============================] - 0s 3ms/step - loss: 0.4536 - accuracy: 0.7815\n",
            "Epoch 49/100\n",
            "102/102 [==============================] - 0s 3ms/step - loss: 0.4529 - accuracy: 0.7831\n",
            "Epoch 50/100\n",
            "102/102 [==============================] - 0s 3ms/step - loss: 0.4533 - accuracy: 0.7797\n",
            "Epoch 51/100\n",
            "102/102 [==============================] - 0s 3ms/step - loss: 0.4526 - accuracy: 0.7812\n",
            "Epoch 52/100\n",
            "102/102 [==============================] - 0s 3ms/step - loss: 0.4523 - accuracy: 0.7828\n",
            "Epoch 53/100\n",
            "102/102 [==============================] - 0s 3ms/step - loss: 0.4520 - accuracy: 0.7831\n",
            "Epoch 54/100\n",
            "102/102 [==============================] - 0s 3ms/step - loss: 0.4518 - accuracy: 0.7828\n",
            "Epoch 55/100\n",
            "102/102 [==============================] - 0s 3ms/step - loss: 0.4515 - accuracy: 0.7824\n",
            "Epoch 56/100\n",
            "102/102 [==============================] - 0s 3ms/step - loss: 0.4511 - accuracy: 0.7821\n",
            "Epoch 57/100\n",
            "102/102 [==============================] - 0s 3ms/step - loss: 0.4511 - accuracy: 0.7840\n",
            "Epoch 58/100\n",
            "102/102 [==============================] - 0s 3ms/step - loss: 0.4509 - accuracy: 0.7834\n",
            "Epoch 59/100\n",
            "102/102 [==============================] - 0s 3ms/step - loss: 0.4506 - accuracy: 0.7852\n",
            "Epoch 60/100\n",
            "102/102 [==============================] - 0s 3ms/step - loss: 0.4507 - accuracy: 0.7840\n",
            "Epoch 61/100\n",
            "102/102 [==============================] - 0s 3ms/step - loss: 0.4508 - accuracy: 0.7818\n",
            "Epoch 62/100\n",
            "102/102 [==============================] - 0s 3ms/step - loss: 0.4504 - accuracy: 0.7834\n",
            "Epoch 63/100\n",
            "102/102 [==============================] - 0s 4ms/step - loss: 0.4503 - accuracy: 0.7828\n",
            "Epoch 64/100\n",
            "102/102 [==============================] - 1s 5ms/step - loss: 0.4498 - accuracy: 0.7812\n",
            "Epoch 65/100\n",
            "102/102 [==============================] - 1s 5ms/step - loss: 0.4498 - accuracy: 0.7864\n",
            "Epoch 66/100\n",
            "102/102 [==============================] - 0s 5ms/step - loss: 0.4492 - accuracy: 0.7831\n",
            "Epoch 67/100\n",
            "102/102 [==============================] - 0s 4ms/step - loss: 0.4495 - accuracy: 0.7831\n",
            "Epoch 68/100\n",
            "102/102 [==============================] - 0s 5ms/step - loss: 0.4490 - accuracy: 0.7834\n",
            "Epoch 69/100\n",
            "102/102 [==============================] - 1s 5ms/step - loss: 0.4498 - accuracy: 0.7824\n",
            "Epoch 70/100\n",
            "102/102 [==============================] - 0s 4ms/step - loss: 0.4489 - accuracy: 0.7846\n",
            "Epoch 71/100\n",
            "102/102 [==============================] - 0s 5ms/step - loss: 0.4487 - accuracy: 0.7846\n",
            "Epoch 72/100\n",
            "102/102 [==============================] - 0s 5ms/step - loss: 0.4493 - accuracy: 0.7837\n",
            "Epoch 73/100\n",
            "102/102 [==============================] - 0s 3ms/step - loss: 0.4488 - accuracy: 0.7840\n",
            "Epoch 74/100\n",
            "102/102 [==============================] - 0s 3ms/step - loss: 0.4485 - accuracy: 0.7852\n",
            "Epoch 75/100\n",
            "102/102 [==============================] - 0s 3ms/step - loss: 0.4487 - accuracy: 0.7831\n",
            "Epoch 76/100\n",
            "102/102 [==============================] - 0s 3ms/step - loss: 0.4484 - accuracy: 0.7821\n",
            "Epoch 77/100\n",
            "102/102 [==============================] - 0s 3ms/step - loss: 0.4480 - accuracy: 0.7864\n",
            "Epoch 78/100\n",
            "102/102 [==============================] - 0s 3ms/step - loss: 0.4478 - accuracy: 0.7858\n",
            "Epoch 79/100\n",
            "102/102 [==============================] - 0s 3ms/step - loss: 0.4483 - accuracy: 0.7867\n",
            "Epoch 80/100\n",
            "102/102 [==============================] - 0s 3ms/step - loss: 0.4477 - accuracy: 0.7883\n",
            "Epoch 81/100\n",
            "102/102 [==============================] - 0s 3ms/step - loss: 0.4479 - accuracy: 0.7846\n",
            "Epoch 82/100\n",
            "102/102 [==============================] - 0s 3ms/step - loss: 0.4477 - accuracy: 0.7843\n",
            "Epoch 83/100\n",
            "102/102 [==============================] - 0s 3ms/step - loss: 0.4480 - accuracy: 0.7834\n",
            "Epoch 84/100\n",
            "102/102 [==============================] - 0s 3ms/step - loss: 0.4473 - accuracy: 0.7852\n",
            "Epoch 85/100\n",
            "102/102 [==============================] - 0s 3ms/step - loss: 0.4470 - accuracy: 0.7861\n",
            "Epoch 86/100\n",
            "102/102 [==============================] - 0s 3ms/step - loss: 0.4473 - accuracy: 0.7840\n",
            "Epoch 87/100\n",
            "102/102 [==============================] - 0s 3ms/step - loss: 0.4473 - accuracy: 0.7855\n",
            "Epoch 88/100\n",
            "102/102 [==============================] - 0s 3ms/step - loss: 0.4464 - accuracy: 0.7849\n",
            "Epoch 89/100\n",
            "102/102 [==============================] - 0s 3ms/step - loss: 0.4469 - accuracy: 0.7861\n",
            "Epoch 90/100\n",
            "102/102 [==============================] - 0s 3ms/step - loss: 0.4466 - accuracy: 0.7858\n",
            "Epoch 91/100\n",
            "102/102 [==============================] - 0s 3ms/step - loss: 0.4465 - accuracy: 0.7837\n",
            "Epoch 92/100\n",
            "102/102 [==============================] - 0s 3ms/step - loss: 0.4467 - accuracy: 0.7855\n",
            "Epoch 93/100\n",
            "102/102 [==============================] - 0s 3ms/step - loss: 0.4468 - accuracy: 0.7858\n",
            "Epoch 94/100\n",
            "102/102 [==============================] - 0s 3ms/step - loss: 0.4465 - accuracy: 0.7867\n",
            "Epoch 95/100\n",
            "102/102 [==============================] - 0s 3ms/step - loss: 0.4465 - accuracy: 0.7837\n",
            "Epoch 96/100\n",
            "102/102 [==============================] - 0s 3ms/step - loss: 0.4466 - accuracy: 0.7846\n",
            "Epoch 97/100\n",
            "102/102 [==============================] - 0s 3ms/step - loss: 0.4461 - accuracy: 0.7877\n",
            "Epoch 98/100\n",
            "102/102 [==============================] - 0s 3ms/step - loss: 0.4462 - accuracy: 0.7867\n",
            "Epoch 99/100\n",
            "102/102 [==============================] - 0s 3ms/step - loss: 0.4470 - accuracy: 0.7864\n",
            "Epoch 100/100\n",
            "102/102 [==============================] - 0s 3ms/step - loss: 0.4461 - accuracy: 0.7892\n"
          ]
        },
        {
          "data": {
            "text/plain": [
              "<keras.src.callbacks.History at 0x7cff97bdf430>"
            ]
          },
          "execution_count": 20,
          "metadata": {},
          "output_type": "execute_result"
        }
      ],
      "source": [
        "ann.fit(X_train, y_train, batch_size = 32, epochs = 100)"
      ]
    },
    {
      "cell_type": "markdown",
      "metadata": {
        "id": "tJj5k2MxZga3"
      },
      "source": [
        "## Part 4 - Making the predictions and evaluating the model"
      ]
    },
    {
      "cell_type": "markdown",
      "metadata": {
        "id": "84QFoqGYeXHL"
      },
      "source": [
        "### Predicting the result of a single observation"
      ]
    },
    {
      "cell_type": "markdown",
      "metadata": {
        "id": "CGRo3eacgDdC"
      },
      "source": [
        "**Homework**\n",
        "\n",
        "Use our ANN model to predict if the customer with the following informations will leave the bank:\n",
        "\n",
        "Geography: France\n",
        "\n",
        "Credit Score: 600\n",
        "\n",
        "Gender: Male\n",
        "\n",
        "Age: 40 years old\n",
        "\n",
        "Tenure: 3 years\n",
        "\n",
        "Balance: \\$ 60000\n",
        "\n",
        "Number of Products: 2\n",
        "\n",
        "Does this customer have a credit card ? Yes\n",
        "\n",
        "Is this customer an Active Member: Yes\n",
        "\n",
        "Estimated Salary: \\$ 50000\n",
        "\n",
        "So, should we say goodbye to that customer ?"
      ]
    },
    {
      "cell_type": "markdown",
      "metadata": {
        "id": "ZhU1LTgPg-kH"
      },
      "source": [
        "**Solution**"
      ]
    },
    {
      "cell_type": "code",
      "execution_count": null,
      "metadata": {
        "colab": {
          "base_uri": "https://localhost:8080/"
        },
        "id": "2d8IoCCkeWGL",
        "outputId": "46b4ff96-88c7-4163-9c85-634277d63674"
      },
      "outputs": [
        {
          "name": "stdout",
          "output_type": "stream",
          "text": [
            "1/1 [==============================] - 0s 96ms/step\n",
            "[[False]]\n"
          ]
        }
      ],
      "source": [
        "print(ann.predict(sc.transform([[1, 0, 0, 600, 1, 40, 3, 60000, 2, 1, 1, 50000]])) > 0.5)"
      ]
    },
    {
      "cell_type": "markdown",
      "metadata": {
        "id": "wGjx94g2n7OV"
      },
      "source": [
        "Therefore, our ANN model predicts that this customer stays in the bank!\n",
        "\n",
        "**Important note 1:** Notice that the values of the features were all input in a double pair of square brackets. That's because the \"predict\" method always expects a 2D array as the format of its inputs. And putting our values into a double pair of square brackets makes the input exactly a 2D array.\n",
        "\n",
        "**Important note 2:** Notice also that the \"France\" country was not input as a string in the last column but as \"1, 0, 0\" in the first three columns. That's because of course the predict method expects the one-hot-encoded values of the state, and as we see in the first row of the matrix of features X, \"France\" was encoded as \"1, 0, 0\". And be careful to include these values in the first three columns, because the dummy variables are always created in the first columns."
      ]
    },
    {
      "cell_type": "markdown",
      "metadata": {
        "id": "u7yx47jPZt11"
      },
      "source": [
        "### Predicting the Test set results"
      ]
    },
    {
      "cell_type": "code",
      "execution_count": null,
      "metadata": {
        "colab": {
          "base_uri": "https://localhost:8080/"
        },
        "id": "nIyEeQdRZwgs",
        "outputId": "5f4e956c-7a0c-46ba-9287-1665388bc182"
      },
      "outputs": [
        {
          "name": "stdout",
          "output_type": "stream",
          "text": [
            "26/26 [==============================] - 0s 3ms/step\n",
            "[[1 1]\n",
            " [1 1]\n",
            " [0 1]\n",
            " ...\n",
            " [0 0]\n",
            " [0 1]\n",
            " [0 0]]\n"
          ]
        }
      ],
      "source": [
        "y_pred = ann.predict(X_test)\n",
        "y_pred = (y_pred > 0.5)\n",
        "print(np.concatenate((y_pred.reshape(len(y_pred),1), y_test.reshape(len(y_test),1)),1))"
      ]
    },
    {
      "cell_type": "markdown",
      "metadata": {
        "id": "o0oyfLWoaEGw"
      },
      "source": [
        "### Making the Confusion Matrix"
      ]
    },
    {
      "cell_type": "code",
      "execution_count": null,
      "metadata": {
        "colab": {
          "base_uri": "https://localhost:8080/",
          "height": 781
        },
        "id": "S2kMht1AEWjR",
        "outputId": "c5334cd7-c6cd-4815-8ba1-1aeaa151c8f3"
      },
      "outputs": [
        {
          "data": {
            "image/png": "[encoded data removed]",
            "text/plain": [
              "<Figure size 800x600 with 2 Axes>"
            ]
          },
          "metadata": {},
          "output_type": "display_data"
        },
        {
          "name": "stdout",
          "output_type": "stream",
          "text": [
            "Classification Report:\n",
            "              precision    recall  f1-score   support\n",
            "\n",
            "           0       0.75      0.78      0.77       411\n",
            "           1       0.77      0.74      0.75       404\n",
            "\n",
            "    accuracy                           0.76       815\n",
            "   macro avg       0.76      0.76      0.76       815\n",
            "weighted avg       0.76      0.76      0.76       815\n",
            "\n"
          ]
        }
      ],
      "source": [
        "cf_matrix = confusion_matrix(y_test, y_pred)\n",
        "\n",
        "plt.figure(figsize=(8, 6))\n",
        "sns.heatmap(cf_matrix, annot=True, fmt='d', cmap='Blues', annot_kws={\"size\": 12})\n",
        "\n",
        "plt.gca().set_ylim(len(np.unique(y_test)), 0)\n",
        "plt.title('Confusion Matrix')\n",
        "plt.xlabel('Predicted labels')\n",
        "plt.ylabel('True labels')\n",
        "\n",
        "plt.tight_layout()\n",
        "plt.savefig('confusion_matrix.png', dpi=300)\n",
        "plt.show()\n",
        "\n",
        "print(\"Classification Report:\")\n",
        "print(classification_report(y_test, y_pred))"
      ]
    },
    {
      "cell_type": "markdown",
      "metadata": {
        "id": "bxPMSjN5jnAV"
      },
      "source": [
        "### Test another Model"
      ]
    },
    {
      "cell_type": "code",
      "execution_count": null,
      "metadata": {
        "colab": {
          "base_uri": "https://localhost:8080/"
        },
        "id": "xFlb4zSvZlZO",
        "outputId": "11963394-c2c4-491a-c61d-67c23c4d3e23"
      },
      "outputs": [
        {
          "name": "stdout",
          "output_type": "stream",
          "text": [
            "26/26 [==============================] - 0s 2ms/step - loss: 0.4839 - accuracy: 0.7706\n",
            "26/26 [==============================] - 0s 2ms/step - loss: 0.4684 - accuracy: 0.7644\n",
            "26/26 [==============================] - 0s 3ms/step - loss: 0.4747 - accuracy: 0.7681\n",
            "26/26 [==============================] - 0s 2ms/step - loss: 0.4727 - accuracy: 0.7632\n",
            "26/26 [==============================] - 0s 2ms/step - loss: 0.4634 - accuracy: 0.7865\n",
            "26/26 [==============================] - 0s 2ms/step - loss: 0.4704 - accuracy: 0.7718\n",
            "26/26 [==============================] - 0s 2ms/step - loss: 0.4683 - accuracy: 0.7571\n",
            "26/26 [==============================] - 0s 2ms/step - loss: 0.4924 - accuracy: 0.7497\n",
            "26/26 [==============================] - 0s 2ms/step - loss: 0.4812 - accuracy: 0.7656\n",
            "26/26 [==============================] - 0s 2ms/step - loss: 0.4695 - accuracy: 0.7620\n",
            "26/26 [==============================] - 0s 2ms/step - loss: 0.4543 - accuracy: 0.7791\n",
            "26/26 [==============================] - 0s 2ms/step - loss: 0.4708 - accuracy: 0.7779\n",
            "26/26 [==============================] - 0s 2ms/step - loss: 0.4724 - accuracy: 0.7730\n",
            "26/26 [==============================] - 0s 2ms/step - loss: 0.4791 - accuracy: 0.7546\n",
            "26/26 [==============================] - 0s 3ms/step - loss: 0.5610 - accuracy: 0.7067\n",
            "26/26 [==============================] - 0s 2ms/step - loss: 0.5517 - accuracy: 0.7252\n",
            "26/26 [==============================] - 0s 2ms/step - loss: 0.4761 - accuracy: 0.7583\n",
            "26/26 [==============================] - 0s 3ms/step - loss: 0.4994 - accuracy: 0.7521\n",
            "26/26 [==============================] - 0s 2ms/step - loss: 0.4862 - accuracy: 0.7595\n",
            "26/26 [==============================] - 0s 3ms/step - loss: 0.4671 - accuracy: 0.7656\n",
            "26/26 [==============================] - 0s 2ms/step - loss: 0.5254 - accuracy: 0.7227\n",
            "Best Accuracy: 0.7865030765533447\n",
            "Best Parameters: {'activation': 'relu', 'units': 6}\n"
          ]
        }
      ],
      "source": [
        "import tensorflow as tf\n",
        "from sklearn.model_selection import ParameterGrid\n",
        "\n",
        "param_grid = {\n",
        "    'units': [2, 3, 4, 5, 6, 7, 8],\n",
        "    'activation': ['relu', 'tanh', 'sigmoid']\n",
        "}\n",
        "\n",
        "best_accuracy = 0\n",
        "best_model = None\n",
        "\n",
        "param_combinations = list(ParameterGrid(param_grid))\n",
        "\n",
        "for params in param_combinations:\n",
        "    ann = tf.keras.models.Sequential()\n",
        "    ann.add(tf.keras.layers.Dense(units=params['units'], activation=params['activation']))\n",
        "    ann.add(tf.keras.layers.Dense(units=params['units'], activation=params['activation']))\n",
        "    ann.add(tf.keras.layers.Dense(units=1, activation='sigmoid'))\n",
        "    ann.compile(optimizer='adam', loss='binary_crossentropy', metrics=['accuracy'])\n",
        "    ann.fit(X_train, y_train, batch_size=32, epochs=100, verbose=0)\n",
        "\n",
        "    _, accuracy = ann.evaluate(X_test, y_test)\n",
        "\n",
        "    if accuracy > best_accuracy:\n",
        "        best_accuracy = accuracy\n",
        "        best_model = ann\n",
        "        best_params = params\n",
        "\n",
        "print(\"Best Accuracy:\", best_accuracy)\n",
        "print(\"Best Parameters:\", best_params)\n"
      ]
    },
    {
      "cell_type": "markdown",
      "metadata": {
        "id": "jxBYmVUdnS-A"
      },
      "source": [
        "## PyCaret\n"
      ]
    },
    {
      "cell_type": "code",
      "execution_count": null,
      "metadata": {
        "colab": {
          "base_uri": "https://localhost:8080/"
        },
        "id": "KMeqb7OFpRym",
        "outputId": "0b8e9cb7-92ba-4776-c86e-482f4e76b2eb"
      },
      "outputs": [
        {
          "name": "stdout",
          "output_type": "stream",
          "text": [
            "/bin/bash: -c: line 1: syntax error near unexpected token `newline'\n",
            "/bin/bash: -c: line 1: `pip install scipy==<desired_version>'\n"
          ]
        }
      ],
      "source": [
        "!pip install scipy==<desired_version>"
      ]
    },
    {
      "cell_type": "code",
      "execution_count": null,
      "metadata": {
        "colab": {
          "base_uri": "https://localhost:8080/",
          "height": 1000
        },
        "id": "1WoZMutihyVV",
        "outputId": "4436a981-b353-4515-bd77-55069a3c3555"
      },
      "outputs": [
        {
          "name": "stdout",
          "output_type": "stream",
          "text": [
            "Collecting pycaret\n",
            "  Downloading pycaret-3.2.0-py3-none-any.whl (484 kB)\n",
            "\u001b[2K     \u001b[90m━━━━━━━━━━━━━━━━━━━━━━━━━━━━━━━━━━━━━━━━\u001b[0m \u001b[32m484.7/484.7 kB\u001b[0m \u001b[31m8.8 MB/s\u001b[0m eta \u001b[36m0:00:00\u001b[0m\n",
            "\u001b[?25hCollecting category-encoders>=2.4.0 (from pycaret)\n",
            "  Downloading category_encoders-2.6.3-py2.py3-none-any.whl (81 kB)\n",
            "\u001b[2K     \u001b[90m━━━━━━━━━━━━━━━━━━━━━━━━━━━━━━━━━━━━━━━━\u001b[0m \u001b[32m81.9/81.9 kB\u001b[0m \u001b[31m12.5 MB/s\u001b[0m eta \u001b[36m0:00:00\u001b[0m\n",
            "\u001b[?25hRequirement already satisfied: cloudpickle in /usr/local/lib/python3.10/dist-packages (from pycaret) (2.2.1)\n",
            "Collecting deprecation>=2.1.0 (from pycaret)\n",
            "  Downloading deprecation-2.1.0-py2.py3-none-any.whl (11 kB)\n",
            "Requirement already satisfied: imbalanced-learn>=0.8.1 in /usr/local/lib/python3.10/dist-packages (from pycaret) (0.10.1)\n",
            "Requirement already satisfied: importlib-metadata>=4.12.0 in /usr/local/lib/python3.10/dist-packages (from pycaret) (7.0.1)\n",
            "Requirement already satisfied: ipython>=5.5.0 in /usr/local/lib/python3.10/dist-packages (from pycaret) (7.34.0)\n",
            "Requirement already satisfied: ipywidgets>=7.6.5 in /usr/local/lib/python3.10/dist-packages (from pycaret) (7.7.1)\n",
            "Requirement already satisfied: jinja2>=1.2 in /usr/local/lib/python3.10/dist-packages (from pycaret) (3.1.3)\n",
            "Requirement already satisfied: joblib>=1.2.0 in /usr/local/lib/python3.10/dist-packages (from pycaret) (1.3.2)\n",
            "Collecting kaleido>=0.2.1 (from pycaret)\n",
            "  Downloading kaleido-0.2.1-py2.py3-none-manylinux1_x86_64.whl (79.9 MB)\n",
            "\u001b[2K     \u001b[90m━━━━━━━━━━━━━━━━━━━━━━━━━━━━━━━━━━━━━━━━\u001b[0m \u001b[32m79.9/79.9 MB\u001b[0m \u001b[31m8.9 MB/s\u001b[0m eta \u001b[36m0:00:00\u001b[0m\n",
            "\u001b[?25hRequirement already satisfied: lightgbm>=3.0.0 in /usr/local/lib/python3.10/dist-packages (from pycaret) (4.1.0)\n",
            "Requirement already satisfied: markupsafe>=2.0.1 in /usr/local/lib/python3.10/dist-packages (from pycaret) (2.1.4)\n",
            "Collecting matplotlib<=3.6,>=3.3.0 (from pycaret)\n",
            "  Downloading matplotlib-3.6.0-cp310-cp310-manylinux_2_17_x86_64.manylinux2014_x86_64.whl (11.8 MB)\n",
            "\u001b[2K     \u001b[90m━━━━━━━━━━━━━━━━━━━━━━━━━━━━━━━━━━━━━━━━\u001b[0m \u001b[32m11.8/11.8 MB\u001b[0m \u001b[31m101.4 MB/s\u001b[0m eta \u001b[36m0:00:00\u001b[0m\n",
            "\u001b[?25hRequirement already satisfied: nbformat>=4.2.0 in /usr/local/lib/python3.10/dist-packages (from pycaret) (5.9.2)\n",
            "Requirement already satisfied: numba>=0.55.0 in /usr/local/lib/python3.10/dist-packages (from pycaret) (0.58.1)\n",
            "Requirement already satisfied: numpy<1.27,>=1.21 in /usr/local/lib/python3.10/dist-packages (from pycaret) (1.23.5)\n",
            "Requirement already satisfied: pandas<2.0.0,>=1.3.0 in /usr/local/lib/python3.10/dist-packages (from pycaret) (1.5.3)\n",
            "Collecting plotly-resampler>=0.8.3.1 (from pycaret)\n",
            "  Downloading plotly_resampler-0.9.2-py3-none-any.whl (81 kB)\n",
            "\u001b[2K     \u001b[90m━━━━━━━━━━━━━━━━━━━━━━━━━━━━━━━━━━━━━━━━\u001b[0m \u001b[32m81.1/81.1 kB\u001b[0m \u001b[31m12.9 MB/s\u001b[0m eta \u001b[36m0:00:00\u001b[0m\n",
            "\u001b[?25hRequirement already satisfied: plotly>=5.0.0 in /usr/local/lib/python3.10/dist-packages (from pycaret) (5.15.0)\n",
            "Collecting pmdarima!=1.8.1,<3.0.0,>=1.8.0 (from pycaret)\n",
            "  Downloading pmdarima-2.0.4-cp310-cp310-manylinux_2_17_x86_64.manylinux2014_x86_64.manylinux_2_28_x86_64.whl (2.1 MB)\n",
            "\u001b[2K     \u001b[90m━━━━━━━━━━━━━━━━━━━━━━━━━━━━━━━━━━━━━━━━\u001b[0m \u001b[32m2.1/2.1 MB\u001b[0m \u001b[31m71.0 MB/s\u001b[0m eta \u001b[36m0:00:00\u001b[0m\n",
            "\u001b[?25hRequirement already satisfied: psutil>=5.9.0 in /usr/local/lib/python3.10/dist-packages (from pycaret) (5.9.5)\n",
            "Collecting pyod>=1.0.8 (from pycaret)\n",
            "  Downloading pyod-1.1.2.tar.gz (160 kB)\n",
            "\u001b[2K     \u001b[90m━━━━━━━━━━━━━━━━━━━━━━━━━━━━━━━━━━━━━━━━\u001b[0m \u001b[32m160.5/160.5 kB\u001b[0m \u001b[31m22.4 MB/s\u001b[0m eta \u001b[36m0:00:00\u001b[0m\n",
            "\u001b[?25h  Preparing metadata (setup.py) ... \u001b[?25l\u001b[?25hdone\n",
            "Requirement already satisfied: requests>=2.27.1 in /usr/local/lib/python3.10/dist-packages (from pycaret) (2.31.0)\n",
            "Collecting schemdraw==0.15 (from pycaret)\n",
            "  Downloading schemdraw-0.15-py3-none-any.whl (106 kB)\n",
            "\u001b[2K     \u001b[90m━━━━━━━━━━━━━━━━━━━━━━━━━━━━━━━━━━━━━━━━\u001b[0m \u001b[32m106.8/106.8 kB\u001b[0m \u001b[31m15.8 MB/s\u001b[0m eta \u001b[36m0:00:00\u001b[0m\n",
            "\u001b[?25hRequirement already satisfied: scikit-learn<1.3.0,>=1.0 in /usr/local/lib/python3.10/dist-packages (from pycaret) (1.2.2)\n",
            "Collecting scikit-plot>=0.3.7 (from pycaret)\n",
            "  Downloading scikit_plot-0.3.7-py3-none-any.whl (33 kB)\n",
            "Collecting scipy~=1.10.1 (from pycaret)\n",
            "  Downloading scipy-1.10.1-cp310-cp310-manylinux_2_17_x86_64.manylinux2014_x86_64.whl (34.4 MB)\n",
            "\u001b[2K     \u001b[90m━━━━━━━━━━━━━━━━━━━━━━━━━━━━━━━━━━━━━━━━\u001b[0m \u001b[32m34.4/34.4 MB\u001b[0m \u001b[31m16.5 MB/s\u001b[0m eta \u001b[36m0:00:00\u001b[0m\n",
            "\u001b[?25hCollecting sktime!=0.17.1,!=0.17.2,!=0.18.0,<0.22.0,>=0.16.1 (from pycaret)\n",
            "  Downloading sktime-0.21.1-py3-none-any.whl (17.1 MB)\n",
            "\u001b[2K     \u001b[90m━━━━━━━━━━━━━━━━━━━━━━━━━━━━━━━━━━━━━━━━\u001b[0m \u001b[32m17.1/17.1 MB\u001b[0m \u001b[31m91.4 MB/s\u001b[0m eta \u001b[36m0:00:00\u001b[0m\n",
            "\u001b[?25hRequirement already satisfied: statsmodels>=0.12.1 in /usr/local/lib/python3.10/dist-packages (from pycaret) (0.14.1)\n",
            "Collecting tbats>=1.1.3 (from pycaret)\n",
            "  Downloading tbats-1.1.3-py3-none-any.whl (44 kB)\n",
            "\u001b[2K     \u001b[90m━━━━━━━━━━━━━━━━━━━━━━━━━━━━━━━━━━━━━━━━\u001b[0m \u001b[32m44.0/44.0 kB\u001b[0m \u001b[31m6.6 MB/s\u001b[0m eta \u001b[36m0:00:00\u001b[0m\n",
            "\u001b[?25hRequirement already satisfied: tqdm>=4.62.0 in /usr/local/lib/python3.10/dist-packages (from pycaret) (4.66.1)\n",
            "Requirement already satisfied: xxhash in /usr/local/lib/python3.10/dist-packages (from pycaret) (3.4.1)\n",
            "Requirement already satisfied: yellowbrick>=1.4 in /usr/local/lib/python3.10/dist-packages (from pycaret) (1.5)\n",
            "Collecting wurlitzer (from pycaret)\n",
            "  Downloading wurlitzer-3.0.3-py3-none-any.whl (7.3 kB)\n",
            "Requirement already satisfied: patsy>=0.5.1 in /usr/local/lib/python3.10/dist-packages (from category-encoders>=2.4.0->pycaret) (0.5.6)\n",
            "Requirement already satisfied: packaging in /usr/local/lib/python3.10/dist-packages (from deprecation>=2.1.0->pycaret) (23.2)\n",
            "Requirement already satisfied: threadpoolctl>=2.0.0 in /usr/local/lib/python3.10/dist-packages (from imbalanced-learn>=0.8.1->pycaret) (3.2.0)\n",
            "Requirement already satisfied: zipp>=0.5 in /usr/local/lib/python3.10/dist-packages (from importlib-metadata>=4.12.0->pycaret) (3.17.0)\n",
            "Requirement already satisfied: setuptools>=18.5 in /usr/local/lib/python3.10/dist-packages (from ipython>=5.5.0->pycaret) (67.7.2)\n",
            "Collecting jedi>=0.16 (from ipython>=5.5.0->pycaret)\n",
            "  Downloading jedi-0.19.1-py2.py3-none-any.whl (1.6 MB)\n",
            "\u001b[2K     \u001b[90m━━━━━━━━━━━━━━━━━━━━━━━━━━━━━━━━━━━━━━━━\u001b[0m \u001b[32m1.6/1.6 MB\u001b[0m \u001b[31m76.8 MB/s\u001b[0m eta \u001b[36m0:00:00\u001b[0m\n",
            "\u001b[?25hRequirement already satisfied: decorator in /usr/local/lib/python3.10/dist-packages (from ipython>=5.5.0->pycaret) (4.4.2)\n",
            "Requirement already satisfied: pickleshare in /usr/local/lib/python3.10/dist-packages (from ipython>=5.5.0->pycaret) (0.7.5)\n",
            "Requirement already satisfied: traitlets>=4.2 in /usr/local/lib/python3.10/dist-packages (from ipython>=5.5.0->pycaret) (5.7.1)\n",
            "Requirement already satisfied: prompt-toolkit!=3.0.0,!=3.0.1,<3.1.0,>=2.0.0 in /usr/local/lib/python3.10/dist-packages (from ipython>=5.5.0->pycaret) (3.0.43)\n",
            "Requirement already satisfied: pygments in /usr/local/lib/python3.10/dist-packages (from ipython>=5.5.0->pycaret) (2.16.1)\n",
            "Requirement already satisfied: backcall in /usr/local/lib/python3.10/dist-packages (from ipython>=5.5.0->pycaret) (0.2.0)\n",
            "Requirement already satisfied: matplotlib-inline in /usr/local/lib/python3.10/dist-packages (from ipython>=5.5.0->pycaret) (0.1.6)\n",
            "Requirement already satisfied: pexpect>4.3 in /usr/local/lib/python3.10/dist-packages (from ipython>=5.5.0->pycaret) (4.9.0)\n",
            "Requirement already satisfied: ipykernel>=4.5.1 in /usr/local/lib/python3.10/dist-packages (from ipywidgets>=7.6.5->pycaret) (5.5.6)\n",
            "Requirement already satisfied: ipython-genutils~=0.2.0 in /usr/local/lib/python3.10/dist-packages (from ipywidgets>=7.6.5->pycaret) (0.2.0)\n",
            "Requirement already satisfied: widgetsnbextension~=3.6.0 in /usr/local/lib/python3.10/dist-packages (from ipywidgets>=7.6.5->pycaret) (3.6.6)\n",
            "Requirement already satisfied: jupyterlab-widgets>=1.0.0 in /usr/local/lib/python3.10/dist-packages (from ipywidgets>=7.6.5->pycaret) (3.0.9)\n",
            "Requirement already satisfied: contourpy>=1.0.1 in /usr/local/lib/python3.10/dist-packages (from matplotlib<=3.6,>=3.3.0->pycaret) (1.2.0)\n",
            "Requirement already satisfied: cycler>=0.10 in /usr/local/lib/python3.10/dist-packages (from matplotlib<=3.6,>=3.3.0->pycaret) (0.12.1)\n",
            "Requirement already satisfied: fonttools>=4.22.0 in /usr/local/lib/python3.10/dist-packages (from matplotlib<=3.6,>=3.3.0->pycaret) (4.47.2)\n",
            "Requirement already satisfied: kiwisolver>=1.0.1 in /usr/local/lib/python3.10/dist-packages (from matplotlib<=3.6,>=3.3.0->pycaret) (1.4.5)\n",
            "Requirement already satisfied: pillow>=6.2.0 in /usr/local/lib/python3.10/dist-packages (from matplotlib<=3.6,>=3.3.0->pycaret) (9.4.0)\n",
            "Requirement already satisfied: pyparsing>=2.2.1 in /usr/local/lib/python3.10/dist-packages (from matplotlib<=3.6,>=3.3.0->pycaret) (3.1.1)\n",
            "Requirement already satisfied: python-dateutil>=2.7 in /usr/local/lib/python3.10/dist-packages (from matplotlib<=3.6,>=3.3.0->pycaret) (2.8.2)\n",
            "Requirement already satisfied: fastjsonschema in /usr/local/lib/python3.10/dist-packages (from nbformat>=4.2.0->pycaret) (2.19.1)\n",
            "Requirement already satisfied: jsonschema>=2.6 in /usr/local/lib/python3.10/dist-packages (from nbformat>=4.2.0->pycaret) (4.19.2)\n",
            "Requirement already satisfied: jupyter-core in /usr/local/lib/python3.10/dist-packages (from nbformat>=4.2.0->pycaret) (5.7.1)\n",
            "Requirement already satisfied: llvmlite<0.42,>=0.41.0dev0 in /usr/local/lib/python3.10/dist-packages (from numba>=0.55.0->pycaret) (0.41.1)\n",
            "Requirement already satisfied: pytz>=2020.1 in /usr/local/lib/python3.10/dist-packages (from pandas<2.0.0,>=1.3.0->pycaret) (2023.4)\n",
            "Requirement already satisfied: tenacity>=6.2.0 in /usr/local/lib/python3.10/dist-packages (from plotly>=5.0.0->pycaret) (8.2.3)\n",
            "Collecting dash>=2.9.0 (from plotly-resampler>=0.8.3.1->pycaret)\n",
            "  Downloading dash-2.15.0-py3-none-any.whl (10.2 MB)\n",
            "\u001b[2K     \u001b[90m━━━━━━━━━━━━━━━━━━━━━━━━━━━━━━━━━━━━━━━━\u001b[0m \u001b[32m10.2/10.2 MB\u001b[0m \u001b[31m95.6 MB/s\u001b[0m eta \u001b[36m0:00:00\u001b[0m\n",
            "\u001b[?25hCollecting orjson<4.0.0,>=3.8.0 (from plotly-resampler>=0.8.3.1->pycaret)\n",
            "  Downloading orjson-3.9.12-cp310-cp310-manylinux_2_17_x86_64.manylinux2014_x86_64.whl (139 kB)\n",
            "\u001b[2K     \u001b[90m━━━━━━━━━━━━━━━━━━━━━━━━━━━━━━━━━━━━━━━━\u001b[0m \u001b[32m139.8/139.8 kB\u001b[0m \u001b[31m17.0 MB/s\u001b[0m eta \u001b[36m0:00:00\u001b[0m\n",
            "\u001b[?25hCollecting tsdownsample==0.1.2 (from plotly-resampler>=0.8.3.1->pycaret)\n",
            "  Downloading tsdownsample-0.1.2-cp310-cp310-manylinux_2_17_x86_64.manylinux2014_x86_64.whl (2.3 MB)\n",
            "\u001b[2K     \u001b[90m━━━━━━━━━━━━━━━━━━━━━━━━━━━━━━━━━━━━━━━━\u001b[0m \u001b[32m2.3/2.3 MB\u001b[0m \u001b[31m88.1 MB/s\u001b[0m eta \u001b[36m0:00:00\u001b[0m\n",
            "\u001b[?25hRequirement already satisfied: Cython!=0.29.18,!=0.29.31,>=0.29 in /usr/local/lib/python3.10/dist-packages (from pmdarima!=1.8.1,<3.0.0,>=1.8.0->pycaret) (3.0.8)\n",
            "Requirement already satisfied: urllib3 in /usr/local/lib/python3.10/dist-packages (from pmdarima!=1.8.1,<3.0.0,>=1.8.0->pycaret) (2.0.7)\n",
            "Requirement already satisfied: six in /usr/local/lib/python3.10/dist-packages (from pyod>=1.0.8->pycaret) (1.16.0)\n",
            "Requirement already satisfied: charset-normalizer<4,>=2 in /usr/local/lib/python3.10/dist-packages (from requests>=2.27.1->pycaret) (3.3.2)\n",
            "Requirement already satisfied: idna<4,>=2.5 in /usr/local/lib/python3.10/dist-packages (from requests>=2.27.1->pycaret) (3.6)\n",
            "Requirement already satisfied: certifi>=2017.4.17 in /usr/local/lib/python3.10/dist-packages (from requests>=2.27.1->pycaret) (2023.11.17)\n",
            "Collecting deprecated>=1.2.13 (from sktime!=0.17.1,!=0.17.2,!=0.18.0,<0.22.0,>=0.16.1->pycaret)\n",
            "  Downloading Deprecated-1.2.14-py2.py3-none-any.whl (9.6 kB)\n",
            "Collecting scikit-base<0.6.0 (from sktime!=0.17.1,!=0.17.2,!=0.18.0,<0.22.0,>=0.16.1->pycaret)\n",
            "  Downloading scikit_base-0.5.2-py3-none-any.whl (118 kB)\n",
            "\u001b[2K     \u001b[90m━━━━━━━━━━━━━━━━━━━━━━━━━━━━━━━━━━━━━━━━\u001b[0m \u001b[32m119.0/119.0 kB\u001b[0m \u001b[31m16.8 MB/s\u001b[0m eta \u001b[36m0:00:00\u001b[0m\n",
            "\u001b[?25hRequirement already satisfied: Flask<3.1,>=1.0.4 in /usr/local/lib/python3.10/dist-packages (from dash>=2.9.0->plotly-resampler>=0.8.3.1->pycaret) (2.2.5)\n",
            "Requirement already satisfied: Werkzeug<3.1 in /usr/local/lib/python3.10/dist-packages (from dash>=2.9.0->plotly-resampler>=0.8.3.1->pycaret) (3.0.1)\n",
            "Collecting dash-html-components==2.0.0 (from dash>=2.9.0->plotly-resampler>=0.8.3.1->pycaret)\n",
            "  Downloading dash_html_components-2.0.0-py3-none-any.whl (4.1 kB)\n",
            "Collecting dash-core-components==2.0.0 (from dash>=2.9.0->plotly-resampler>=0.8.3.1->pycaret)\n",
            "  Downloading dash_core_components-2.0.0-py3-none-any.whl (3.8 kB)\n",
            "Collecting dash-table==5.0.0 (from dash>=2.9.0->plotly-resampler>=0.8.3.1->pycaret)\n",
            "  Downloading dash_table-5.0.0-py3-none-any.whl (3.9 kB)\n",
            "Requirement already satisfied: typing-extensions>=4.1.1 in /usr/local/lib/python3.10/dist-packages (from dash>=2.9.0->plotly-resampler>=0.8.3.1->pycaret) (4.5.0)\n",
            "Collecting retrying (from dash>=2.9.0->plotly-resampler>=0.8.3.1->pycaret)\n",
            "  Downloading retrying-1.3.4-py3-none-any.whl (11 kB)\n",
            "Requirement already satisfied: nest-asyncio in /usr/local/lib/python3.10/dist-packages (from dash>=2.9.0->plotly-resampler>=0.8.3.1->pycaret) (1.6.0)\n",
            "Requirement already satisfied: wrapt<2,>=1.10 in /usr/local/lib/python3.10/dist-packages (from deprecated>=1.2.13->sktime!=0.17.1,!=0.17.2,!=0.18.0,<0.22.0,>=0.16.1->pycaret) (1.14.1)\n",
            "Requirement already satisfied: jupyter-client in /usr/local/lib/python3.10/dist-packages (from ipykernel>=4.5.1->ipywidgets>=7.6.5->pycaret) (6.1.12)\n",
            "Requirement already satisfied: tornado>=4.2 in /usr/local/lib/python3.10/dist-packages (from ipykernel>=4.5.1->ipywidgets>=7.6.5->pycaret) (6.3.2)\n",
            "Requirement already satisfied: parso<0.9.0,>=0.8.3 in /usr/local/lib/python3.10/dist-packages (from jedi>=0.16->ipython>=5.5.0->pycaret) (0.8.3)\n",
            "Requirement already satisfied: attrs>=22.2.0 in /usr/local/lib/python3.10/dist-packages (from jsonschema>=2.6->nbformat>=4.2.0->pycaret) (23.2.0)\n",
            "Requirement already satisfied: jsonschema-specifications>=2023.03.6 in /usr/local/lib/python3.10/dist-packages (from jsonschema>=2.6->nbformat>=4.2.0->pycaret) (2023.12.1)\n",
            "Requirement already satisfied: referencing>=0.28.4 in /usr/local/lib/python3.10/dist-packages (from jsonschema>=2.6->nbformat>=4.2.0->pycaret) (0.33.0)\n",
            "Requirement already satisfied: rpds-py>=0.7.1 in /usr/local/lib/python3.10/dist-packages (from jsonschema>=2.6->nbformat>=4.2.0->pycaret) (0.17.1)\n",
            "Requirement already satisfied: ptyprocess>=0.5 in /usr/local/lib/python3.10/dist-packages (from pexpect>4.3->ipython>=5.5.0->pycaret) (0.7.0)\n",
            "Requirement already satisfied: wcwidth in /usr/local/lib/python3.10/dist-packages (from prompt-toolkit!=3.0.0,!=3.0.1,<3.1.0,>=2.0.0->ipython>=5.5.0->pycaret) (0.2.13)\n",
            "Requirement already satisfied: notebook>=4.4.1 in /usr/local/lib/python3.10/dist-packages (from widgetsnbextension~=3.6.0->ipywidgets>=7.6.5->pycaret) (6.5.5)\n",
            "Requirement already satisfied: platformdirs>=2.5 in /usr/local/lib/python3.10/dist-packages (from jupyter-core->nbformat>=4.2.0->pycaret) (4.1.0)\n",
            "Requirement already satisfied: itsdangerous>=2.0 in /usr/local/lib/python3.10/dist-packages (from Flask<3.1,>=1.0.4->dash>=2.9.0->plotly-resampler>=0.8.3.1->pycaret) (2.1.2)\n",
            "Requirement already satisfied: click>=8.0 in /usr/local/lib/python3.10/dist-packages (from Flask<3.1,>=1.0.4->dash>=2.9.0->plotly-resampler>=0.8.3.1->pycaret) (8.1.7)\n",
            "Requirement already satisfied: pyzmq<25,>=17 in /usr/local/lib/python3.10/dist-packages (from notebook>=4.4.1->widgetsnbextension~=3.6.0->ipywidgets>=7.6.5->pycaret) (23.2.1)\n",
            "Requirement already satisfied: argon2-cffi in /usr/local/lib/python3.10/dist-packages (from notebook>=4.4.1->widgetsnbextension~=3.6.0->ipywidgets>=7.6.5->pycaret) (23.1.0)\n",
            "Requirement already satisfied: nbconvert>=5 in /usr/local/lib/python3.10/dist-packages (from notebook>=4.4.1->widgetsnbextension~=3.6.0->ipywidgets>=7.6.5->pycaret) (6.5.4)\n",
            "Requirement already satisfied: Send2Trash>=1.8.0 in /usr/local/lib/python3.10/dist-packages (from notebook>=4.4.1->widgetsnbextension~=3.6.0->ipywidgets>=7.6.5->pycaret) (1.8.2)\n",
            "Requirement already satisfied: terminado>=0.8.3 in /usr/local/lib/python3.10/dist-packages (from notebook>=4.4.1->widgetsnbextension~=3.6.0->ipywidgets>=7.6.5->pycaret) (0.18.0)\n",
            "Requirement already satisfied: prometheus-client in /usr/local/lib/python3.10/dist-packages (from notebook>=4.4.1->widgetsnbextension~=3.6.0->ipywidgets>=7.6.5->pycaret) (0.19.0)\n",
            "Requirement already satisfied: nbclassic>=0.4.7 in /usr/local/lib/python3.10/dist-packages (from notebook>=4.4.1->widgetsnbextension~=3.6.0->ipywidgets>=7.6.5->pycaret) (1.0.0)\n",
            "Requirement already satisfied: jupyter-server>=1.8 in /usr/local/lib/python3.10/dist-packages (from nbclassic>=0.4.7->notebook>=4.4.1->widgetsnbextension~=3.6.0->ipywidgets>=7.6.5->pycaret) (1.24.0)\n",
            "Requirement already satisfied: notebook-shim>=0.2.3 in /usr/local/lib/python3.10/dist-packages (from nbclassic>=0.4.7->notebook>=4.4.1->widgetsnbextension~=3.6.0->ipywidgets>=7.6.5->pycaret) (0.2.3)\n",
            "Requirement already satisfied: lxml in /usr/local/lib/python3.10/dist-packages (from nbconvert>=5->notebook>=4.4.1->widgetsnbextension~=3.6.0->ipywidgets>=7.6.5->pycaret) (4.9.4)\n",
            "Requirement already satisfied: beautifulsoup4 in /usr/local/lib/python3.10/dist-packages (from nbconvert>=5->notebook>=4.4.1->widgetsnbextension~=3.6.0->ipywidgets>=7.6.5->pycaret) (4.11.2)\n",
            "Requirement already satisfied: bleach in /usr/local/lib/python3.10/dist-packages (from nbconvert>=5->notebook>=4.4.1->widgetsnbextension~=3.6.0->ipywidgets>=7.6.5->pycaret) (6.1.0)\n",
            "Requirement already satisfied: defusedxml in /usr/local/lib/python3.10/dist-packages (from nbconvert>=5->notebook>=4.4.1->widgetsnbextension~=3.6.0->ipywidgets>=7.6.5->pycaret) (0.7.1)\n",
            "Requirement already satisfied: entrypoints>=0.2.2 in /usr/local/lib/python3.10/dist-packages (from nbconvert>=5->notebook>=4.4.1->widgetsnbextension~=3.6.0->ipywidgets>=7.6.5->pycaret) (0.4)\n",
            "Requirement already satisfied: jupyterlab-pygments in /usr/local/lib/python3.10/dist-packages (from nbconvert>=5->notebook>=4.4.1->widgetsnbextension~=3.6.0->ipywidgets>=7.6.5->pycaret) (0.3.0)\n",
            "Requirement already satisfied: mistune<2,>=0.8.1 in /usr/local/lib/python3.10/dist-packages (from nbconvert>=5->notebook>=4.4.1->widgetsnbextension~=3.6.0->ipywidgets>=7.6.5->pycaret) (0.8.4)\n",
            "Requirement already satisfied: nbclient>=0.5.0 in /usr/local/lib/python3.10/dist-packages (from nbconvert>=5->notebook>=4.4.1->widgetsnbextension~=3.6.0->ipywidgets>=7.6.5->pycaret) (0.9.0)\n",
            "Requirement already satisfied: pandocfilters>=1.4.1 in /usr/local/lib/python3.10/dist-packages (from nbconvert>=5->notebook>=4.4.1->widgetsnbextension~=3.6.0->ipywidgets>=7.6.5->pycaret) (1.5.1)\n",
            "Requirement already satisfied: tinycss2 in /usr/local/lib/python3.10/dist-packages (from nbconvert>=5->notebook>=4.4.1->widgetsnbextension~=3.6.0->ipywidgets>=7.6.5->pycaret) (1.2.1)\n",
            "Requirement already satisfied: argon2-cffi-bindings in /usr/local/lib/python3.10/dist-packages (from argon2-cffi->notebook>=4.4.1->widgetsnbextension~=3.6.0->ipywidgets>=7.6.5->pycaret) (21.2.0)\n",
            "Requirement already satisfied: anyio<4,>=3.1.0 in /usr/local/lib/python3.10/dist-packages (from jupyter-server>=1.8->nbclassic>=0.4.7->notebook>=4.4.1->widgetsnbextension~=3.6.0->ipywidgets>=7.6.5->pycaret) (3.7.1)\n",
            "Requirement already satisfied: websocket-client in /usr/local/lib/python3.10/dist-packages (from jupyter-server>=1.8->nbclassic>=0.4.7->notebook>=4.4.1->widgetsnbextension~=3.6.0->ipywidgets>=7.6.5->pycaret) (1.7.0)\n",
            "Requirement already satisfied: cffi>=1.0.1 in /usr/local/lib/python3.10/dist-packages (from argon2-cffi-bindings->argon2-cffi->notebook>=4.4.1->widgetsnbextension~=3.6.0->ipywidgets>=7.6.5->pycaret) (1.16.0)\n",
            "Requirement already satisfied: soupsieve>1.2 in /usr/local/lib/python3.10/dist-packages (from beautifulsoup4->nbconvert>=5->notebook>=4.4.1->widgetsnbextension~=3.6.0->ipywidgets>=7.6.5->pycaret) (2.5)\n",
            "Requirement already satisfied: webencodings in /usr/local/lib/python3.10/dist-packages (from bleach->nbconvert>=5->notebook>=4.4.1->widgetsnbextension~=3.6.0->ipywidgets>=7.6.5->pycaret) (0.5.1)\n",
            "Requirement already satisfied: sniffio>=1.1 in /usr/local/lib/python3.10/dist-packages (from anyio<4,>=3.1.0->jupyter-server>=1.8->nbclassic>=0.4.7->notebook>=4.4.1->widgetsnbextension~=3.6.0->ipywidgets>=7.6.5->pycaret) (1.3.0)\n",
            "Requirement already satisfied: exceptiongroup in /usr/local/lib/python3.10/dist-packages (from anyio<4,>=3.1.0->jupyter-server>=1.8->nbclassic>=0.4.7->notebook>=4.4.1->widgetsnbextension~=3.6.0->ipywidgets>=7.6.5->pycaret) (1.2.0)\n",
            "Requirement already satisfied: pycparser in /usr/local/lib/python3.10/dist-packages (from cffi>=1.0.1->argon2-cffi-bindings->argon2-cffi->notebook>=4.4.1->widgetsnbextension~=3.6.0->ipywidgets>=7.6.5->pycaret) (2.21)\n",
            "Building wheels for collected packages: pyod\n",
            "  Building wheel for pyod (setup.py) ... \u001b[?25l\u001b[?25hdone\n",
            "  Created wheel for pyod: filename=pyod-1.1.2-py3-none-any.whl size=190292 sha256=a14ee9b4e12213c726f104a9cbc99e3a2ddc54cf5c59a1b8b7701bde84fb5b89\n",
            "  Stored in directory: /root/.cache/pip/wheels/81/1b/61/aa85b78c3c0c8871f4231e3f4a03bb23cecb7db829498380ee\n",
            "Successfully built pyod\n",
            "Installing collected packages: kaleido, dash-table, dash-html-components, dash-core-components, wurlitzer, tsdownsample, scipy, scikit-base, schemdraw, retrying, orjson, jedi, deprecation, deprecated, matplotlib, sktime, scikit-plot, pyod, dash, pmdarima, plotly-resampler, category-encoders, tbats, pycaret\n",
            "  Attempting uninstall: scipy\n",
            "    Found existing installation: scipy 1.11.4\n",
            "    Uninstalling scipy-1.11.4:\n",
            "      Successfully uninstalled scipy-1.11.4\n",
            "  Attempting uninstall: matplotlib\n",
            "    Found existing installation: matplotlib 3.7.1\n",
            "    Uninstalling matplotlib-3.7.1:\n",
            "      Successfully uninstalled matplotlib-3.7.1\n",
            "\u001b[31mERROR: pip's dependency resolver does not currently take into account all the packages that are installed. This behaviour is the source of the following dependency conflicts.\n",
            "lida 0.0.10 requires fastapi, which is not installed.\n",
            "lida 0.0.10 requires python-multipart, which is not installed.\n",
            "lida 0.0.10 requires uvicorn, which is not installed.\u001b[0m\u001b[31m\n",
            "\u001b[0mSuccessfully installed category-encoders-2.6.3 dash-2.15.0 dash-core-components-2.0.0 dash-html-components-2.0.0 dash-table-5.0.0 deprecated-1.2.14 deprecation-2.1.0 jedi-0.19.1 kaleido-0.2.1 matplotlib-3.6.0 orjson-3.9.12 plotly-resampler-0.9.2 pmdarima-2.0.4 pycaret-3.2.0 pyod-1.1.2 retrying-1.3.4 schemdraw-0.15 scikit-base-0.5.2 scikit-plot-0.3.7 scipy-1.10.1 sktime-0.21.1 tbats-1.1.3 tsdownsample-0.1.2 wurlitzer-3.0.3\n"
          ]
        },
        {
          "data": {
            "application/vnd.colab-display-data+json": {
              "pip_warning": {
                "packages": [
                  "matplotlib",
                  "mpl_toolkits"
                ]
              }
            }
          },
          "metadata": {},
          "output_type": "display_data"
        }
      ],
      "source": [
        "!pip install --upgrade pycaret"
      ]
    },
    {
      "cell_type": "code",
      "execution_count": null,
      "metadata": {
        "colab": {
          "base_uri": "https://localhost:8080/"
        },
        "id": "v5gBERKHIf9_",
        "outputId": "39335887-4f36-4437-da85-42473d26468d"
      },
      "outputs": [
        {
          "name": "stdout",
          "output_type": "stream",
          "text": [
            "Requirement already satisfied: scipy in /usr/local/lib/python3.10/dist-packages (1.10.1)\n",
            "Collecting scipy\n",
            "  Downloading scipy-1.12.0-cp310-cp310-manylinux_2_17_x86_64.manylinux2014_x86_64.whl (38.4 MB)\n",
            "\u001b[2K     \u001b[90m━━━━━━━━━━━━━━━━━━━━━━━━━━━━━━━━━━━━━━━━\u001b[0m \u001b[32m38.4/38.4 MB\u001b[0m \u001b[31m9.6 MB/s\u001b[0m eta \u001b[36m0:00:00\u001b[0m\n",
            "\u001b[?25hRequirement already satisfied: numpy<1.29.0,>=1.22.4 in /usr/local/lib/python3.10/dist-packages (from scipy) (1.23.5)\n",
            "Installing collected packages: scipy\n",
            "  Attempting uninstall: scipy\n",
            "    Found existing installation: scipy 1.10.1\n",
            "    Uninstalling scipy-1.10.1:\n",
            "      Successfully uninstalled scipy-1.10.1\n",
            "\u001b[31mERROR: pip's dependency resolver does not currently take into account all the packages that are installed. This behaviour is the source of the following dependency conflicts.\n",
            "lida 0.0.10 requires fastapi, which is not installed.\n",
            "lida 0.0.10 requires python-multipart, which is not installed.\n",
            "lida 0.0.10 requires uvicorn, which is not installed.\n",
            "pycaret 3.2.0 requires scipy~=1.10.1, but you have scipy 1.12.0 which is incompatible.\u001b[0m\u001b[31m\n",
            "\u001b[0mSuccessfully installed scipy-1.12.0\n"
          ]
        }
      ],
      "source": [
        "!pip install --upgrade scipy\n"
      ]
    },
    {
      "cell_type": "code",
      "execution_count": null,
      "metadata": {
        "id": "PMcEyduRnR6J"
      },
      "outputs": [],
      "source": [
        "from pycaret.classification import *"
      ]
    },
    {
      "cell_type": "markdown",
      "metadata": {
        "id": "WN_V79tOotQc"
      },
      "source": [
        "<div align='left'><font size=\"5\" color=\"#FF0000\">Setup the model</font></div>\n",
        "<hr>"
      ]
    },
    {
      "cell_type": "code",
      "execution_count": null,
      "metadata": {
        "id": "745XdHEc44RU"
      },
      "outputs": [],
      "source": [
        "df_train = pd.DataFrame(X_train , y_train)"
      ]
    },
    {
      "cell_type": "code",
      "execution_count": null,
      "metadata": {
        "colab": {
          "base_uri": "https://localhost:8080/",
          "height": 771
        },
        "id": "IFRNEPPuceDt",
        "outputId": "bbd71005-b365-4e0c-97c3-bd0a8dc47b4a"
      },
      "outputs": [
        {
          "data": {
            "text/html": [
              "<style type=\"text/css\">\n",
              "#T_fddf0_row8_col1, #T_fddf0_row12_col1, #T_fddf0_row14_col1 {\n",
              "  background-color: lightgreen;\n",
              "}\n",
              "</style>\n",
              "<table id=\"T_fddf0\" class=\"dataframe\">\n",
              "  <thead>\n",
              "    <tr>\n",
              "      <th class=\"blank level0\" >&nbsp;</th>\n",
              "      <th id=\"T_fddf0_level0_col0\" class=\"col_heading level0 col0\" >Description</th>\n",
              "      <th id=\"T_fddf0_level0_col1\" class=\"col_heading level0 col1\" >Value</th>\n",
              "    </tr>\n",
              "  </thead>\n",
              "  <tbody>\n",
              "    <tr>\n",
              "      <th id=\"T_fddf0_level0_row0\" class=\"row_heading level0 row0\" >0</th>\n",
              "      <td id=\"T_fddf0_row0_col0\" class=\"data row0 col0\" >Session id</td>\n",
              "      <td id=\"T_fddf0_row0_col1\" class=\"data row0 col1\" >3690</td>\n",
              "    </tr>\n",
              "    <tr>\n",
              "      <th id=\"T_fddf0_level0_row1\" class=\"row_heading level0 row1\" >1</th>\n",
              "      <td id=\"T_fddf0_row1_col0\" class=\"data row1 col0\" >Target</td>\n",
              "      <td id=\"T_fddf0_row1_col1\" class=\"data row1 col1\" >target</td>\n",
              "    </tr>\n",
              "    <tr>\n",
              "      <th id=\"T_fddf0_level0_row2\" class=\"row_heading level0 row2\" >2</th>\n",
              "      <td id=\"T_fddf0_row2_col0\" class=\"data row2 col0\" >Target type</td>\n",
              "      <td id=\"T_fddf0_row2_col1\" class=\"data row2 col1\" >Binary</td>\n",
              "    </tr>\n",
              "    <tr>\n",
              "      <th id=\"T_fddf0_level0_row3\" class=\"row_heading level0 row3\" >3</th>\n",
              "      <td id=\"T_fddf0_row3_col0\" class=\"data row3 col0\" >Original data shape</td>\n",
              "      <td id=\"T_fddf0_row3_col1\" class=\"data row3 col1\" >(5310565, 13)</td>\n",
              "    </tr>\n",
              "    <tr>\n",
              "      <th id=\"T_fddf0_level0_row4\" class=\"row_heading level0 row4\" >4</th>\n",
              "      <td id=\"T_fddf0_row4_col0\" class=\"data row4 col0\" >Transformed data shape</td>\n",
              "      <td id=\"T_fddf0_row4_col1\" class=\"data row4 col1\" >(5125586, 13)</td>\n",
              "    </tr>\n",
              "    <tr>\n",
              "      <th id=\"T_fddf0_level0_row5\" class=\"row_heading level0 row5\" >5</th>\n",
              "      <td id=\"T_fddf0_row5_col0\" class=\"data row5 col0\" >Transformed train set shape</td>\n",
              "      <td id=\"T_fddf0_row5_col1\" class=\"data row5 col1\" >(3532416, 13)</td>\n",
              "    </tr>\n",
              "    <tr>\n",
              "      <th id=\"T_fddf0_level0_row6\" class=\"row_heading level0 row6\" >6</th>\n",
              "      <td id=\"T_fddf0_row6_col0\" class=\"data row6 col0\" >Transformed test set shape</td>\n",
              "      <td id=\"T_fddf0_row6_col1\" class=\"data row6 col1\" >(1593170, 13)</td>\n",
              "    </tr>\n",
              "    <tr>\n",
              "      <th id=\"T_fddf0_level0_row7\" class=\"row_heading level0 row7\" >7</th>\n",
              "      <td id=\"T_fddf0_row7_col0\" class=\"data row7 col0\" >Numeric features</td>\n",
              "      <td id=\"T_fddf0_row7_col1\" class=\"data row7 col1\" >12</td>\n",
              "    </tr>\n",
              "    <tr>\n",
              "      <th id=\"T_fddf0_level0_row8\" class=\"row_heading level0 row8\" >8</th>\n",
              "      <td id=\"T_fddf0_row8_col0\" class=\"data row8 col0\" >Preprocess</td>\n",
              "      <td id=\"T_fddf0_row8_col1\" class=\"data row8 col1\" >True</td>\n",
              "    </tr>\n",
              "    <tr>\n",
              "      <th id=\"T_fddf0_level0_row9\" class=\"row_heading level0 row9\" >9</th>\n",
              "      <td id=\"T_fddf0_row9_col0\" class=\"data row9 col0\" >Imputation type</td>\n",
              "      <td id=\"T_fddf0_row9_col1\" class=\"data row9 col1\" >simple</td>\n",
              "    </tr>\n",
              "    <tr>\n",
              "      <th id=\"T_fddf0_level0_row10\" class=\"row_heading level0 row10\" >10</th>\n",
              "      <td id=\"T_fddf0_row10_col0\" class=\"data row10 col0\" >Numeric imputation</td>\n",
              "      <td id=\"T_fddf0_row10_col1\" class=\"data row10 col1\" >mean</td>\n",
              "    </tr>\n",
              "    <tr>\n",
              "      <th id=\"T_fddf0_level0_row11\" class=\"row_heading level0 row11\" >11</th>\n",
              "      <td id=\"T_fddf0_row11_col0\" class=\"data row11 col0\" >Categorical imputation</td>\n",
              "      <td id=\"T_fddf0_row11_col1\" class=\"data row11 col1\" >mode</td>\n",
              "    </tr>\n",
              "    <tr>\n",
              "      <th id=\"T_fddf0_level0_row12\" class=\"row_heading level0 row12\" >12</th>\n",
              "      <td id=\"T_fddf0_row12_col0\" class=\"data row12 col0\" >Remove outliers</td>\n",
              "      <td id=\"T_fddf0_row12_col1\" class=\"data row12 col1\" >True</td>\n",
              "    </tr>\n",
              "    <tr>\n",
              "      <th id=\"T_fddf0_level0_row13\" class=\"row_heading level0 row13\" >13</th>\n",
              "      <td id=\"T_fddf0_row13_col0\" class=\"data row13 col0\" >Outliers threshold</td>\n",
              "      <td id=\"T_fddf0_row13_col1\" class=\"data row13 col1\" >0.050000</td>\n",
              "    </tr>\n",
              "    <tr>\n",
              "      <th id=\"T_fddf0_level0_row14\" class=\"row_heading level0 row14\" >14</th>\n",
              "      <td id=\"T_fddf0_row14_col0\" class=\"data row14 col0\" >Normalize</td>\n",
              "      <td id=\"T_fddf0_row14_col1\" class=\"data row14 col1\" >True</td>\n",
              "    </tr>\n",
              "    <tr>\n",
              "      <th id=\"T_fddf0_level0_row15\" class=\"row_heading level0 row15\" >15</th>\n",
              "      <td id=\"T_fddf0_row15_col0\" class=\"data row15 col0\" >Normalize method</td>\n",
              "      <td id=\"T_fddf0_row15_col1\" class=\"data row15 col1\" >robust</td>\n",
              "    </tr>\n",
              "    <tr>\n",
              "      <th id=\"T_fddf0_level0_row16\" class=\"row_heading level0 row16\" >16</th>\n",
              "      <td id=\"T_fddf0_row16_col0\" class=\"data row16 col0\" >Fold Generator</td>\n",
              "      <td id=\"T_fddf0_row16_col1\" class=\"data row16 col1\" >StratifiedKFold</td>\n",
              "    </tr>\n",
              "    <tr>\n",
              "      <th id=\"T_fddf0_level0_row17\" class=\"row_heading level0 row17\" >17</th>\n",
              "      <td id=\"T_fddf0_row17_col0\" class=\"data row17 col0\" >Fold Number</td>\n",
              "      <td id=\"T_fddf0_row17_col1\" class=\"data row17 col1\" >10</td>\n",
              "    </tr>\n",
              "    <tr>\n",
              "      <th id=\"T_fddf0_level0_row18\" class=\"row_heading level0 row18\" >18</th>\n",
              "      <td id=\"T_fddf0_row18_col0\" class=\"data row18 col0\" >CPU Jobs</td>\n",
              "      <td id=\"T_fddf0_row18_col1\" class=\"data row18 col1\" >-1</td>\n",
              "    </tr>\n",
              "    <tr>\n",
              "      <th id=\"T_fddf0_level0_row19\" class=\"row_heading level0 row19\" >19</th>\n",
              "      <td id=\"T_fddf0_row19_col0\" class=\"data row19 col0\" >Use GPU</td>\n",
              "      <td id=\"T_fddf0_row19_col1\" class=\"data row19 col1\" >False</td>\n",
              "    </tr>\n",
              "    <tr>\n",
              "      <th id=\"T_fddf0_level0_row20\" class=\"row_heading level0 row20\" >20</th>\n",
              "      <td id=\"T_fddf0_row20_col0\" class=\"data row20 col0\" >Log Experiment</td>\n",
              "      <td id=\"T_fddf0_row20_col1\" class=\"data row20 col1\" >False</td>\n",
              "    </tr>\n",
              "    <tr>\n",
              "      <th id=\"T_fddf0_level0_row21\" class=\"row_heading level0 row21\" >21</th>\n",
              "      <td id=\"T_fddf0_row21_col0\" class=\"data row21 col0\" >Experiment Name</td>\n",
              "      <td id=\"T_fddf0_row21_col1\" class=\"data row21 col1\" >clf-default-name</td>\n",
              "    </tr>\n",
              "    <tr>\n",
              "      <th id=\"T_fddf0_level0_row22\" class=\"row_heading level0 row22\" >22</th>\n",
              "      <td id=\"T_fddf0_row22_col0\" class=\"data row22 col0\" >USI</td>\n",
              "      <td id=\"T_fddf0_row22_col1\" class=\"data row22 col1\" >503f</td>\n",
              "    </tr>\n",
              "  </tbody>\n",
              "</table>\n"
            ],
            "text/plain": [
              "<pandas.io.formats.style.Styler at 0x7cfed1551660>"
            ]
          },
          "metadata": {},
          "output_type": "display_data"
        }
      ],
      "source": [
        "classification_setup = setup(data = df_train, target = y_train , remove_outliers=True, normalize=True, normalize_method='robust', index=False)"
      ]
    },
    {
      "cell_type": "markdown",
      "metadata": {
        "id": "2LbStMpZqRYx"
      },
      "source": [
        "<div align='left'><font size=\"5\" color=\"#FF0000\">Compare Model</font></div>\n",
        "<hr>"
      ]
    },
    {
      "cell_type": "code",
      "execution_count": null,
      "metadata": {
        "colab": {
          "background_save": true,
          "base_uri": "https://localhost:8080/",
          "referenced_widgets": [
            "46b81e3dc1fd4062a76f7bad1868ed6e"
          ]
        },
        "id": "UpElV8KbpByV",
        "outputId": "1beb8195-6de6-4ac8-bf12-038f058b68d4"
      },
      "outputs": [
        {
          "data": {
            "text/html": [
              "\n",
              "  <div id=\"df-bf2bf7ca-e409-4b35-91c8-f189c9517c79\" class=\"colab-df-container\">\n",
              "    <div>\n",
              "<style scoped>\n",
              "    .dataframe tbody tr th:only-of-type {\n",
              "        vertical-align: middle;\n",
              "    }\n",
              "\n",
              "    .dataframe tbody tr th {\n",
              "        vertical-align: top;\n",
              "    }\n",
              "\n",
              "    .dataframe thead th {\n",
              "        text-align: right;\n",
              "    }\n",
              "</style>\n",
              "<table border=\"1\" class=\"dataframe\">\n",
              "  <thead>\n",
              "    <tr style=\"text-align: right;\">\n",
              "      <th></th>\n",
              "      <th></th>\n",
              "      <th></th>\n",
              "    </tr>\n",
              "    <tr>\n",
              "      <th></th>\n",
              "      <th></th>\n",
              "      <th></th>\n",
              "    </tr>\n",
              "  </thead>\n",
              "  <tbody>\n",
              "    <tr>\n",
              "      <th>Initiated</th>\n",
              "      <td>. . . . . . . . . . . . . . . . . .</td>\n",
              "      <td>19:36:51</td>\n",
              "    </tr>\n",
              "    <tr>\n",
              "      <th>Status</th>\n",
              "      <td>. . . . . . . . . . . . . . . . . .</td>\n",
              "      <td>Fitting 10 Folds</td>\n",
              "    </tr>\n",
              "    <tr>\n",
              "      <th>Estimator</th>\n",
              "      <td>. . . . . . . . . . . . . . . . . .</td>\n",
              "      <td>K Neighbors Classifier</td>\n",
              "    </tr>\n",
              "  </tbody>\n",
              "</table>\n",
              "</div>\n",
              "    <div class=\"colab-df-buttons\">\n",
              "\n",
              "  <div class=\"colab-df-container\">\n",
              "    <button class=\"colab-df-convert\" onclick=\"convertToInteractive('df-bf2bf7ca-e409-4b35-91c8-f189c9517c79')\"\n",
              "            title=\"Convert this dataframe to an interactive table.\"\n",
              "            style=\"display:none;\">\n",
              "\n",
              "  <svg xmlns=\"http://www.w3.org/2000/svg\" height=\"24px\" viewBox=\"0 -960 960 960\">\n",
              "    <path d=\"M120-120v-720h720v720H120Zm60-500h600v-160H180v160Zm220 220h160v-160H400v160Zm0 220h160v-160H400v160ZM180-400h160v-160H180v160Zm440 0h160v-160H620v160ZM180-180h160v-160H180v160Zm440 0h160v-160H620v160Z\"/>\n",
              "  </svg>\n",
              "    </button>\n",
              "\n",
              "  <style>\n",
              "    .colab-df-container {\n",
              "      display:flex;\n",
              "      gap: 12px;\n",
              "    }\n",
              "\n",
              "    .colab-df-convert {\n",
              "      background-color: #E8F0FE;\n",
              "      border: none;\n",
              "      border-radius: 50%;\n",
              "      cursor: pointer;\n",
              "      display: none;\n",
              "      fill: #1967D2;\n",
              "      height: 32px;\n",
              "      padding: 0 0 0 0;\n",
              "      width: 32px;\n",
              "    }\n",
              "\n",
              "    .colab-df-convert:hover {\n",
              "      background-color: #E2EBFA;\n",
              "      box-shadow: 0px 1px 2px rgba(60, 64, 67, 0.3), 0px 1px 3px 1px rgba(60, 64, 67, 0.15);\n",
              "      fill: #174EA6;\n",
              "    }\n",
              "\n",
              "    .colab-df-buttons div {\n",
              "      margin-bottom: 4px;\n",
              "    }\n",
              "\n",
              "    [theme=dark] .colab-df-convert {\n",
              "      background-color: #3B4455;\n",
              "      fill: #D2E3FC;\n",
              "    }\n",
              "\n",
              "    [theme=dark] .colab-df-convert:hover {\n",
              "      background-color: #434B5C;\n",
              "      box-shadow: 0px 1px 3px 1px rgba(0, 0, 0, 0.15);\n",
              "      filter: drop-shadow(0px 1px 2px rgba(0, 0, 0, 0.3));\n",
              "      fill: #FFFFFF;\n",
              "    }\n",
              "  </style>\n",
              "\n",
              "    <script>\n",
              "      const buttonEl =\n",
              "        document.querySelector('#df-bf2bf7ca-e409-4b35-91c8-f189c9517c79 button.colab-df-convert');\n",
              "      buttonEl.style.display =\n",
              "        google.colab.kernel.accessAllowed ? 'block' : 'none';\n",
              "\n",
              "      async function convertToInteractive(key) {\n",
              "        const element = document.querySelector('#df-bf2bf7ca-e409-4b35-91c8-f189c9517c79');\n",
              "        const dataTable =\n",
              "          await google.colab.kernel.invokeFunction('convertToInteractive',\n",
              "                                                    [key], {});\n",
              "        if (!dataTable) return;\n",
              "\n",
              "        const docLinkHtml = 'Like what you see? Visit the ' +\n",
              "          '<a target=\"_blank\" href=https://colab.research.google.com/notebooks/data_table.ipynb>data table notebook</a>'\n",
              "          + ' to learn more about interactive tables.';\n",
              "        element.innerHTML = '';\n",
              "        dataTable['output_type'] = 'display_data';\n",
              "        await google.colab.output.renderOutput(dataTable, element);\n",
              "        const docLink = document.createElement('div');\n",
              "        docLink.innerHTML = docLinkHtml;\n",
              "        element.appendChild(docLink);\n",
              "      }\n",
              "    </script>\n",
              "  </div>\n",
              "\n",
              "\n",
              "<div id=\"df-3c496c87-3cb0-43da-b658-67f49f15d97c\">\n",
              "  <button class=\"colab-df-quickchart\" onclick=\"quickchart('df-3c496c87-3cb0-43da-b658-67f49f15d97c')\"\n",
              "            title=\"Suggest charts\"\n",
              "            style=\"display:none;\">\n",
              "\n",
              "<svg xmlns=\"http://www.w3.org/2000/svg\" height=\"24px\"viewBox=\"0 0 24 24\"\n",
              "     width=\"24px\">\n",
              "    <g>\n",
              "        <path d=\"M19 3H5c-1.1 0-2 .9-2 2v14c0 1.1.9 2 2 2h14c1.1 0 2-.9 2-2V5c0-1.1-.9-2-2-2zM9 17H7v-7h2v7zm4 0h-2V7h2v10zm4 0h-2v-4h2v4z\"/>\n",
              "    </g>\n",
              "</svg>\n",
              "  </button>\n",
              "\n",
              "<style>\n",
              "  .colab-df-quickchart {\n",
              "      --bg-color: #E8F0FE;\n",
              "      --fill-color: #1967D2;\n",
              "      --hover-bg-color: #E2EBFA;\n",
              "      --hover-fill-color: #174EA6;\n",
              "      --disabled-fill-color: #AAA;\n",
              "      --disabled-bg-color: #DDD;\n",
              "  }\n",
              "\n",
              "  [theme=dark] .colab-df-quickchart {\n",
              "      --bg-color: #3B4455;\n",
              "      --fill-color: #D2E3FC;\n",
              "      --hover-bg-color: #434B5C;\n",
              "      --hover-fill-color: #FFFFFF;\n",
              "      --disabled-bg-color: #3B4455;\n",
              "      --disabled-fill-color: #666;\n",
              "  }\n",
              "\n",
              "  .colab-df-quickchart {\n",
              "    background-color: var(--bg-color);\n",
              "    border: none;\n",
              "    border-radius: 50%;\n",
              "    cursor: pointer;\n",
              "    display: none;\n",
              "    fill: var(--fill-color);\n",
              "    height: 32px;\n",
              "    padding: 0;\n",
              "    width: 32px;\n",
              "  }\n",
              "\n",
              "  .colab-df-quickchart:hover {\n",
              "    background-color: var(--hover-bg-color);\n",
              "    box-shadow: 0 1px 2px rgba(60, 64, 67, 0.3), 0 1px 3px 1px rgba(60, 64, 67, 0.15);\n",
              "    fill: var(--button-hover-fill-color);\n",
              "  }\n",
              "\n",
              "  .colab-df-quickchart-complete:disabled,\n",
              "  .colab-df-quickchart-complete:disabled:hover {\n",
              "    background-color: var(--disabled-bg-color);\n",
              "    fill: var(--disabled-fill-color);\n",
              "    box-shadow: none;\n",
              "  }\n",
              "\n",
              "  .colab-df-spinner {\n",
              "    border: 2px solid var(--fill-color);\n",
              "    border-color: transparent;\n",
              "    border-bottom-color: var(--fill-color);\n",
              "    animation:\n",
              "      spin 1s steps(1) infinite;\n",
              "  }\n",
              "\n",
              "  @keyframes spin {\n",
              "    0% {\n",
              "      border-color: transparent;\n",
              "      border-bottom-color: var(--fill-color);\n",
              "      border-left-color: var(--fill-color);\n",
              "    }\n",
              "    20% {\n",
              "      border-color: transparent;\n",
              "      border-left-color: var(--fill-color);\n",
              "      border-top-color: var(--fill-color);\n",
              "    }\n",
              "    30% {\n",
              "      border-color: transparent;\n",
              "      border-left-color: var(--fill-color);\n",
              "      border-top-color: var(--fill-color);\n",
              "      border-right-color: var(--fill-color);\n",
              "    }\n",
              "    40% {\n",
              "      border-color: transparent;\n",
              "      border-right-color: var(--fill-color);\n",
              "      border-top-color: var(--fill-color);\n",
              "    }\n",
              "    60% {\n",
              "      border-color: transparent;\n",
              "      border-right-color: var(--fill-color);\n",
              "    }\n",
              "    80% {\n",
              "      border-color: transparent;\n",
              "      border-right-color: var(--fill-color);\n",
              "      border-bottom-color: var(--fill-color);\n",
              "    }\n",
              "    90% {\n",
              "      border-color: transparent;\n",
              "      border-bottom-color: var(--fill-color);\n",
              "    }\n",
              "  }\n",
              "</style>\n",
              "\n",
              "  <script>\n",
              "    async function quickchart(key) {\n",
              "      const quickchartButtonEl =\n",
              "        document.querySelector('#' + key + ' button');\n",
              "      quickchartButtonEl.disabled = true;  // To prevent multiple clicks.\n",
              "      quickchartButtonEl.classList.add('colab-df-spinner');\n",
              "      try {\n",
              "        const charts = await google.colab.kernel.invokeFunction(\n",
              "            'suggestCharts', [key], {});\n",
              "      } catch (error) {\n",
              "        console.error('Error during call to suggestCharts:', error);\n",
              "      }\n",
              "      quickchartButtonEl.classList.remove('colab-df-spinner');\n",
              "      quickchartButtonEl.classList.add('colab-df-quickchart-complete');\n",
              "    }\n",
              "    (() => {\n",
              "      let quickchartButtonEl =\n",
              "        document.querySelector('#df-3c496c87-3cb0-43da-b658-67f49f15d97c button');\n",
              "      quickchartButtonEl.style.display =\n",
              "        google.colab.kernel.accessAllowed ? 'block' : 'none';\n",
              "    })();\n",
              "  </script>\n",
              "</div>\n",
              "    </div>\n",
              "  </div>\n"
            ],
            "text/plain": [
              "                                                                      \n",
              "                                                                      \n",
              "Initiated  . . . . . . . . . . . . . . . . . .                19:36:51\n",
              "Status     . . . . . . . . . . . . . . . . . .        Fitting 10 Folds\n",
              "Estimator  . . . . . . . . . . . . . . . . . .  K Neighbors Classifier"
            ]
          },
          "metadata": {},
          "output_type": "display_data"
        },
        {
          "data": {
            "text/html": [
              "<style type=\"text/css\">\n",
              "#T_4bc97 th {\n",
              "  text-align: left;\n",
              "}\n",
              "#T_4bc97_row0_col0, #T_4bc97_row0_col1, #T_4bc97_row0_col2, #T_4bc97_row0_col3, #T_4bc97_row0_col4, #T_4bc97_row0_col5, #T_4bc97_row0_col6, #T_4bc97_row0_col7, #T_4bc97_row0_col8 {\n",
              "  text-align: left;\n",
              "}\n",
              "</style>\n",
              "<table id=\"T_4bc97\" class=\"dataframe\">\n",
              "  <thead>\n",
              "    <tr>\n",
              "      <th class=\"blank level0\" >&nbsp;</th>\n",
              "      <th id=\"T_4bc97_level0_col0\" class=\"col_heading level0 col0\" >Model</th>\n",
              "      <th id=\"T_4bc97_level0_col1\" class=\"col_heading level0 col1\" >Accuracy</th>\n",
              "      <th id=\"T_4bc97_level0_col2\" class=\"col_heading level0 col2\" >AUC</th>\n",
              "      <th id=\"T_4bc97_level0_col3\" class=\"col_heading level0 col3\" >Recall</th>\n",
              "      <th id=\"T_4bc97_level0_col4\" class=\"col_heading level0 col4\" >Prec.</th>\n",
              "      <th id=\"T_4bc97_level0_col5\" class=\"col_heading level0 col5\" >F1</th>\n",
              "      <th id=\"T_4bc97_level0_col6\" class=\"col_heading level0 col6\" >Kappa</th>\n",
              "      <th id=\"T_4bc97_level0_col7\" class=\"col_heading level0 col7\" >MCC</th>\n",
              "      <th id=\"T_4bc97_level0_col8\" class=\"col_heading level0 col8\" >TT (Sec)</th>\n",
              "    </tr>\n",
              "  </thead>\n",
              "  <tbody>\n",
              "    <tr>\n",
              "      <th id=\"T_4bc97_level0_row0\" class=\"row_heading level0 row0\" >lr</th>\n",
              "      <td id=\"T_4bc97_row0_col0\" class=\"data row0 col0\" >Logistic Regression</td>\n",
              "      <td id=\"T_4bc97_row0_col1\" class=\"data row0 col1\" >0.7035</td>\n",
              "      <td id=\"T_4bc97_row0_col2\" class=\"data row0 col2\" >0.7679</td>\n",
              "      <td id=\"T_4bc97_row0_col3\" class=\"data row0 col3\" >0.6706</td>\n",
              "      <td id=\"T_4bc97_row0_col4\" class=\"data row0 col4\" >0.7198</td>\n",
              "      <td id=\"T_4bc97_row0_col5\" class=\"data row0 col5\" >0.6943</td>\n",
              "      <td id=\"T_4bc97_row0_col6\" class=\"data row0 col6\" >0.4071</td>\n",
              "      <td id=\"T_4bc97_row0_col7\" class=\"data row0 col7\" >0.4081</td>\n",
              "      <td id=\"T_4bc97_row0_col8\" class=\"data row0 col8\" >169.9560</td>\n",
              "    </tr>\n",
              "  </tbody>\n",
              "</table>\n"
            ],
            "text/plain": [
              "<pandas.io.formats.style.Styler at 0x7cff005b06a0>"
            ]
          },
          "metadata": {},
          "output_type": "display_data"
        },
        {
          "data": {
            "application/vnd.jupyter.widget-view+json": {
              "model_id": "46b81e3dc1fd4062a76f7bad1868ed6e",
              "version_major": 2,
              "version_minor": 0
            },
            "text/plain": [
              "Processing:   0%|          | 0/65 [00:00<?, ?it/s]"
            ]
          },
          "metadata": {
            "application/vnd.jupyter.widget-view+json": {
              "colab": {
                "custom_widget_manager": {
                  "url": "https://ssl.gstatic.com/colaboratory-static/widgets/colab-cdn-widget-manager/2b70e893a8ba7c0f/manager.min.js"
                }
              }
            }
          },
          "output_type": "display_data"
        },
        {
          "ename": "KeyboardInterrupt",
          "evalue": "",
          "output_type": "error",
          "traceback": [
            "\u001b[0;31m---------------------------------------------------------------------------\u001b[0m",
            "\u001b[0;31mKeyboardInterrupt\u001b[0m                         Traceback (most recent call last)",
            "\u001b[0;32m/usr/local/lib/python3.10/dist-packages/joblib/parallel.py\u001b[0m in \u001b[0;36m_get_outputs\u001b[0;34m(self, iterator, pre_dispatch)\u001b[0m\n\u001b[1;32m   1594\u001b[0m             \u001b[0;32mwith\u001b[0m \u001b[0mself\u001b[0m\u001b[0;34m.\u001b[0m\u001b[0m_backend\u001b[0m\u001b[0;34m.\u001b[0m\u001b[0mretrieval_context\u001b[0m\u001b[0;34m(\u001b[0m\u001b[0;34m)\u001b[0m\u001b[0;34m:\u001b[0m\u001b[0;34m\u001b[0m\u001b[0;34m\u001b[0m\u001b[0m\n\u001b[0;32m-> 1595\u001b[0;31m                 \u001b[0;32myield\u001b[0m \u001b[0;32mfrom\u001b[0m \u001b[0mself\u001b[0m\u001b[0;34m.\u001b[0m\u001b[0m_retrieve\u001b[0m\u001b[0;34m(\u001b[0m\u001b[0;34m)\u001b[0m\u001b[0;34m\u001b[0m\u001b[0;34m\u001b[0m\u001b[0m\n\u001b[0m\u001b[1;32m   1596\u001b[0m \u001b[0;34m\u001b[0m\u001b[0m\n",
            "\u001b[0;32m/usr/local/lib/python3.10/dist-packages/joblib/parallel.py\u001b[0m in \u001b[0;36m_retrieve\u001b[0;34m(self)\u001b[0m\n\u001b[1;32m   1706\u001b[0m                     timeout=self.timeout) == TASK_PENDING)):\n\u001b[0;32m-> 1707\u001b[0;31m                 \u001b[0mtime\u001b[0m\u001b[0;34m.\u001b[0m\u001b[0msleep\u001b[0m\u001b[0;34m(\u001b[0m\u001b[0;36m0.01\u001b[0m\u001b[0;34m)\u001b[0m\u001b[0;34m\u001b[0m\u001b[0;34m\u001b[0m\u001b[0m\n\u001b[0m\u001b[1;32m   1708\u001b[0m                 \u001b[0;32mcontinue\u001b[0m\u001b[0;34m\u001b[0m\u001b[0;34m\u001b[0m\u001b[0m\n",
            "\u001b[0;31mKeyboardInterrupt\u001b[0m: ",
            "\nDuring handling of the above exception, another exception occurred:\n",
            "\u001b[0;31mKeyboardInterrupt\u001b[0m                         Traceback (most recent call last)",
            "\u001b[0;32m<ipython-input-32-9ff5ccfe3077>\u001b[0m in \u001b[0;36m<cell line: 1>\u001b[0;34m()\u001b[0m\n\u001b[0;32m----> 1\u001b[0;31m \u001b[0mcompare_models\u001b[0m\u001b[0;34m(\u001b[0m\u001b[0;34m)\u001b[0m\u001b[0;34m\u001b[0m\u001b[0;34m\u001b[0m\u001b[0m\n\u001b[0m",
            "\u001b[0;32m/usr/local/lib/python3.10/dist-packages/pycaret/utils/generic.py\u001b[0m in \u001b[0;36mwrapper\u001b[0;34m(*args, **kwargs)\u001b[0m\n\u001b[1;32m    963\u001b[0m                 \u001b[0;32mif\u001b[0m \u001b[0mglobals_d\u001b[0m\u001b[0;34m[\u001b[0m\u001b[0mname\u001b[0m\u001b[0;34m]\u001b[0m \u001b[0;32mis\u001b[0m \u001b[0;32mNone\u001b[0m\u001b[0;34m:\u001b[0m\u001b[0;34m\u001b[0m\u001b[0;34m\u001b[0m\u001b[0m\n\u001b[1;32m    964\u001b[0m                     \u001b[0;32mraise\u001b[0m \u001b[0mValueError\u001b[0m\u001b[0;34m(\u001b[0m\u001b[0mmessage\u001b[0m\u001b[0;34m)\u001b[0m\u001b[0;34m\u001b[0m\u001b[0;34m\u001b[0m\u001b[0m\n\u001b[0;32m--> 965\u001b[0;31m             \u001b[0;32mreturn\u001b[0m \u001b[0mfunc\u001b[0m\u001b[0;34m(\u001b[0m\u001b[0;34m*\u001b[0m\u001b[0margs\u001b[0m\u001b[0;34m,\u001b[0m \u001b[0;34m**\u001b[0m\u001b[0mkwargs\u001b[0m\u001b[0;34m)\u001b[0m\u001b[0;34m\u001b[0m\u001b[0;34m\u001b[0m\u001b[0m\n\u001b[0m\u001b[1;32m    966\u001b[0m \u001b[0;34m\u001b[0m\u001b[0m\n\u001b[1;32m    967\u001b[0m         \u001b[0;32mreturn\u001b[0m \u001b[0mwrapper\u001b[0m\u001b[0;34m\u001b[0m\u001b[0;34m\u001b[0m\u001b[0m\n",
            "\u001b[0;32m/usr/local/lib/python3.10/dist-packages/pycaret/classification/functional.py\u001b[0m in \u001b[0;36mcompare_models\u001b[0;34m(include, exclude, fold, round, cross_validation, sort, n_select, budget_time, turbo, errors, fit_kwargs, groups, experiment_custom_tags, probability_threshold, engine, verbose, parallel)\u001b[0m\n\u001b[1;32m    812\u001b[0m     \"\"\"\n\u001b[1;32m    813\u001b[0m \u001b[0;34m\u001b[0m\u001b[0m\n\u001b[0;32m--> 814\u001b[0;31m     return _CURRENT_EXPERIMENT.compare_models(\n\u001b[0m\u001b[1;32m    815\u001b[0m         \u001b[0minclude\u001b[0m\u001b[0;34m=\u001b[0m\u001b[0minclude\u001b[0m\u001b[0;34m,\u001b[0m\u001b[0;34m\u001b[0m\u001b[0;34m\u001b[0m\u001b[0m\n\u001b[1;32m    816\u001b[0m         \u001b[0mexclude\u001b[0m\u001b[0;34m=\u001b[0m\u001b[0mexclude\u001b[0m\u001b[0;34m,\u001b[0m\u001b[0;34m\u001b[0m\u001b[0;34m\u001b[0m\u001b[0m\n",
            "\u001b[0;32m/usr/local/lib/python3.10/dist-packages/pycaret/classification/oop.py\u001b[0m in \u001b[0;36mcompare_models\u001b[0;34m(self, include, exclude, fold, round, cross_validation, sort, n_select, budget_time, turbo, errors, fit_kwargs, groups, experiment_custom_tags, probability_threshold, engine, verbose, parallel)\u001b[0m\n\u001b[1;32m   1178\u001b[0m \u001b[0;34m\u001b[0m\u001b[0m\n\u001b[1;32m   1179\u001b[0m         \u001b[0;32mtry\u001b[0m\u001b[0;34m:\u001b[0m\u001b[0;34m\u001b[0m\u001b[0;34m\u001b[0m\u001b[0m\n\u001b[0;32m-> 1180\u001b[0;31m             return_values = super().compare_models(\n\u001b[0m\u001b[1;32m   1181\u001b[0m                 \u001b[0minclude\u001b[0m\u001b[0;34m=\u001b[0m\u001b[0minclude\u001b[0m\u001b[0;34m,\u001b[0m\u001b[0;34m\u001b[0m\u001b[0;34m\u001b[0m\u001b[0m\n\u001b[1;32m   1182\u001b[0m                 \u001b[0mexclude\u001b[0m\u001b[0;34m=\u001b[0m\u001b[0mexclude\u001b[0m\u001b[0;34m,\u001b[0m\u001b[0;34m\u001b[0m\u001b[0;34m\u001b[0m\u001b[0m\n",
            "\u001b[0;32m/usr/local/lib/python3.10/dist-packages/pycaret/internal/pycaret_experiment/supervised_experiment.py\u001b[0m in \u001b[0;36mcompare_models\u001b[0;34m(self, include, exclude, fold, round, cross_validation, sort, n_select, budget_time, turbo, errors, fit_kwargs, groups, experiment_custom_tags, probability_threshold, verbose, parallel, caller_params)\u001b[0m\n\u001b[1;32m    792\u001b[0m \u001b[0;34m\u001b[0m\u001b[0m\n\u001b[1;32m    793\u001b[0m             \u001b[0;32mtry\u001b[0m\u001b[0;34m:\u001b[0m\u001b[0;34m\u001b[0m\u001b[0;34m\u001b[0m\u001b[0m\n\u001b[0;32m--> 794\u001b[0;31m                 \u001b[0mmodel\u001b[0m\u001b[0;34m,\u001b[0m \u001b[0mmodel_fit_time\u001b[0m \u001b[0;34m=\u001b[0m \u001b[0mself\u001b[0m\u001b[0;34m.\u001b[0m\u001b[0m_create_model\u001b[0m\u001b[0;34m(\u001b[0m\u001b[0;34m**\u001b[0m\u001b[0mcreate_model_args\u001b[0m\u001b[0;34m)\u001b[0m\u001b[0;34m\u001b[0m\u001b[0;34m\u001b[0m\u001b[0m\n\u001b[0m\u001b[1;32m    795\u001b[0m                 \u001b[0mmodel_results\u001b[0m \u001b[0;34m=\u001b[0m \u001b[0mself\u001b[0m\u001b[0;34m.\u001b[0m\u001b[0mpull\u001b[0m\u001b[0;34m(\u001b[0m\u001b[0mpop\u001b[0m\u001b[0;34m=\u001b[0m\u001b[0;32mTrue\u001b[0m\u001b[0;34m)\u001b[0m\u001b[0;34m\u001b[0m\u001b[0;34m\u001b[0m\u001b[0m\n\u001b[1;32m    796\u001b[0m                 assert (\n",
            "\u001b[0;32m/usr/local/lib/python3.10/dist-packages/pycaret/internal/pycaret_experiment/supervised_experiment.py\u001b[0m in \u001b[0;36m_create_model\u001b[0;34m(self, estimator, fold, round, cross_validation, predict, fit_kwargs, groups, refit, probability_threshold, experiment_custom_tags, verbose, system, add_to_model_list, X_train_data, y_train_data, metrics, display, model_only, return_train_score, error_score, **kwargs)\u001b[0m\n\u001b[1;32m   1531\u001b[0m             \u001b[0;32mreturn\u001b[0m \u001b[0mmodel\u001b[0m\u001b[0;34m\u001b[0m\u001b[0;34m\u001b[0m\u001b[0m\n\u001b[1;32m   1532\u001b[0m \u001b[0;34m\u001b[0m\u001b[0m\n\u001b[0;32m-> 1533\u001b[0;31m         model, model_fit_time, model_results, _ = self._create_model_with_cv(\n\u001b[0m\u001b[1;32m   1534\u001b[0m             \u001b[0mmodel\u001b[0m\u001b[0;34m=\u001b[0m\u001b[0mmodel\u001b[0m\u001b[0;34m,\u001b[0m\u001b[0;34m\u001b[0m\u001b[0;34m\u001b[0m\u001b[0m\n\u001b[1;32m   1535\u001b[0m             \u001b[0mdata_X\u001b[0m\u001b[0;34m=\u001b[0m\u001b[0mdata_X\u001b[0m\u001b[0;34m,\u001b[0m\u001b[0;34m\u001b[0m\u001b[0;34m\u001b[0m\u001b[0m\n",
            "\u001b[0;32m/usr/local/lib/python3.10/dist-packages/pycaret/internal/pycaret_experiment/supervised_experiment.py\u001b[0m in \u001b[0;36m_create_model_with_cv\u001b[0;34m(self, model, data_X, data_y, fit_kwargs, round, cv, groups, metrics, refit, system, display, error_score, return_train_score)\u001b[0m\n\u001b[1;32m   1124\u001b[0m                 \u001b[0mmodel_fit_start\u001b[0m \u001b[0;34m=\u001b[0m \u001b[0mtime\u001b[0m\u001b[0;34m.\u001b[0m\u001b[0mtime\u001b[0m\u001b[0;34m(\u001b[0m\u001b[0;34m)\u001b[0m\u001b[0;34m\u001b[0m\u001b[0;34m\u001b[0m\u001b[0m\n\u001b[1;32m   1125\u001b[0m                 \u001b[0;32mwith\u001b[0m \u001b[0mredirect_output\u001b[0m\u001b[0;34m(\u001b[0m\u001b[0mself\u001b[0m\u001b[0;34m.\u001b[0m\u001b[0mlogger\u001b[0m\u001b[0;34m)\u001b[0m\u001b[0;34m:\u001b[0m\u001b[0;34m\u001b[0m\u001b[0;34m\u001b[0m\u001b[0m\n\u001b[0;32m-> 1126\u001b[0;31m                     scores = cross_validate(\n\u001b[0m\u001b[1;32m   1127\u001b[0m                         \u001b[0mpipeline_with_model\u001b[0m\u001b[0;34m,\u001b[0m\u001b[0;34m\u001b[0m\u001b[0;34m\u001b[0m\u001b[0m\n\u001b[1;32m   1128\u001b[0m                         \u001b[0mdata_X\u001b[0m\u001b[0;34m,\u001b[0m\u001b[0;34m\u001b[0m\u001b[0;34m\u001b[0m\u001b[0m\n",
            "\u001b[0;32m/usr/local/lib/python3.10/dist-packages/sklearn/model_selection/_validation.py\u001b[0m in \u001b[0;36mcross_validate\u001b[0;34m(estimator, X, y, groups, scoring, cv, n_jobs, verbose, fit_params, pre_dispatch, return_train_score, return_estimator, error_score)\u001b[0m\n\u001b[1;32m    264\u001b[0m     \u001b[0;31m# independent, and that it is pickle-able.\u001b[0m\u001b[0;34m\u001b[0m\u001b[0;34m\u001b[0m\u001b[0m\n\u001b[1;32m    265\u001b[0m     \u001b[0mparallel\u001b[0m \u001b[0;34m=\u001b[0m \u001b[0mParallel\u001b[0m\u001b[0;34m(\u001b[0m\u001b[0mn_jobs\u001b[0m\u001b[0;34m=\u001b[0m\u001b[0mn_jobs\u001b[0m\u001b[0;34m,\u001b[0m \u001b[0mverbose\u001b[0m\u001b[0;34m=\u001b[0m\u001b[0mverbose\u001b[0m\u001b[0;34m,\u001b[0m \u001b[0mpre_dispatch\u001b[0m\u001b[0;34m=\u001b[0m\u001b[0mpre_dispatch\u001b[0m\u001b[0;34m)\u001b[0m\u001b[0;34m\u001b[0m\u001b[0;34m\u001b[0m\u001b[0m\n\u001b[0;32m--> 266\u001b[0;31m     results = parallel(\n\u001b[0m\u001b[1;32m    267\u001b[0m         delayed(_fit_and_score)(\n\u001b[1;32m    268\u001b[0m             \u001b[0mclone\u001b[0m\u001b[0;34m(\u001b[0m\u001b[0mestimator\u001b[0m\u001b[0;34m)\u001b[0m\u001b[0;34m,\u001b[0m\u001b[0;34m\u001b[0m\u001b[0;34m\u001b[0m\u001b[0m\n",
            "\u001b[0;32m/usr/local/lib/python3.10/dist-packages/sklearn/utils/parallel.py\u001b[0m in \u001b[0;36m__call__\u001b[0;34m(self, iterable)\u001b[0m\n\u001b[1;32m     61\u001b[0m             \u001b[0;32mfor\u001b[0m \u001b[0mdelayed_func\u001b[0m\u001b[0;34m,\u001b[0m \u001b[0margs\u001b[0m\u001b[0;34m,\u001b[0m \u001b[0mkwargs\u001b[0m \u001b[0;32min\u001b[0m \u001b[0miterable\u001b[0m\u001b[0;34m\u001b[0m\u001b[0;34m\u001b[0m\u001b[0m\n\u001b[1;32m     62\u001b[0m         )\n\u001b[0;32m---> 63\u001b[0;31m         \u001b[0;32mreturn\u001b[0m \u001b[0msuper\u001b[0m\u001b[0;34m(\u001b[0m\u001b[0;34m)\u001b[0m\u001b[0;34m.\u001b[0m\u001b[0m__call__\u001b[0m\u001b[0;34m(\u001b[0m\u001b[0miterable_with_config\u001b[0m\u001b[0;34m)\u001b[0m\u001b[0;34m\u001b[0m\u001b[0;34m\u001b[0m\u001b[0m\n\u001b[0m\u001b[1;32m     64\u001b[0m \u001b[0;34m\u001b[0m\u001b[0m\n\u001b[1;32m     65\u001b[0m \u001b[0;34m\u001b[0m\u001b[0m\n",
            "\u001b[0;32m/usr/local/lib/python3.10/dist-packages/joblib/parallel.py\u001b[0m in \u001b[0;36m__call__\u001b[0;34m(self, iterable)\u001b[0m\n\u001b[1;32m   1950\u001b[0m         \u001b[0mnext\u001b[0m\u001b[0;34m(\u001b[0m\u001b[0moutput\u001b[0m\u001b[0;34m)\u001b[0m\u001b[0;34m\u001b[0m\u001b[0;34m\u001b[0m\u001b[0m\n\u001b[1;32m   1951\u001b[0m \u001b[0;34m\u001b[0m\u001b[0m\n\u001b[0;32m-> 1952\u001b[0;31m         \u001b[0;32mreturn\u001b[0m \u001b[0moutput\u001b[0m \u001b[0;32mif\u001b[0m \u001b[0mself\u001b[0m\u001b[0;34m.\u001b[0m\u001b[0mreturn_generator\u001b[0m \u001b[0;32melse\u001b[0m \u001b[0mlist\u001b[0m\u001b[0;34m(\u001b[0m\u001b[0moutput\u001b[0m\u001b[0;34m)\u001b[0m\u001b[0;34m\u001b[0m\u001b[0;34m\u001b[0m\u001b[0m\n\u001b[0m\u001b[1;32m   1953\u001b[0m \u001b[0;34m\u001b[0m\u001b[0m\n\u001b[1;32m   1954\u001b[0m     \u001b[0;32mdef\u001b[0m \u001b[0m__repr__\u001b[0m\u001b[0;34m(\u001b[0m\u001b[0mself\u001b[0m\u001b[0;34m)\u001b[0m\u001b[0;34m:\u001b[0m\u001b[0;34m\u001b[0m\u001b[0;34m\u001b[0m\u001b[0m\n",
            "\u001b[0;32m/usr/local/lib/python3.10/dist-packages/joblib/parallel.py\u001b[0m in \u001b[0;36m_get_outputs\u001b[0;34m(self, iterator, pre_dispatch)\u001b[0m\n\u001b[1;32m   1646\u001b[0m         \u001b[0;32mexcept\u001b[0m \u001b[0mBaseException\u001b[0m\u001b[0;34m:\u001b[0m\u001b[0;34m\u001b[0m\u001b[0;34m\u001b[0m\u001b[0m\n\u001b[1;32m   1647\u001b[0m             \u001b[0mself\u001b[0m\u001b[0;34m.\u001b[0m\u001b[0m_exception\u001b[0m \u001b[0;34m=\u001b[0m \u001b[0;32mTrue\u001b[0m\u001b[0;34m\u001b[0m\u001b[0;34m\u001b[0m\u001b[0m\n\u001b[0;32m-> 1648\u001b[0;31m             \u001b[0mself\u001b[0m\u001b[0;34m.\u001b[0m\u001b[0m_abort\u001b[0m\u001b[0;34m(\u001b[0m\u001b[0;34m)\u001b[0m\u001b[0;34m\u001b[0m\u001b[0;34m\u001b[0m\u001b[0m\n\u001b[0m\u001b[1;32m   1649\u001b[0m             \u001b[0;32mraise\u001b[0m\u001b[0;34m\u001b[0m\u001b[0;34m\u001b[0m\u001b[0m\n\u001b[1;32m   1650\u001b[0m         \u001b[0;32mfinally\u001b[0m\u001b[0;34m:\u001b[0m\u001b[0;34m\u001b[0m\u001b[0;34m\u001b[0m\u001b[0m\n",
            "\u001b[0;32m/usr/local/lib/python3.10/dist-packages/joblib/parallel.py\u001b[0m in \u001b[0;36m_abort\u001b[0;34m(self)\u001b[0m\n\u001b[1;32m   1557\u001b[0m             \u001b[0;31m# scheduling.\u001b[0m\u001b[0;34m\u001b[0m\u001b[0;34m\u001b[0m\u001b[0m\n\u001b[1;32m   1558\u001b[0m             \u001b[0mensure_ready\u001b[0m \u001b[0;34m=\u001b[0m \u001b[0mself\u001b[0m\u001b[0;34m.\u001b[0m\u001b[0m_managed_backend\u001b[0m\u001b[0;34m\u001b[0m\u001b[0;34m\u001b[0m\u001b[0m\n\u001b[0;32m-> 1559\u001b[0;31m             \u001b[0mbackend\u001b[0m\u001b[0;34m.\u001b[0m\u001b[0mabort_everything\u001b[0m\u001b[0;34m(\u001b[0m\u001b[0mensure_ready\u001b[0m\u001b[0;34m=\u001b[0m\u001b[0mensure_ready\u001b[0m\u001b[0;34m)\u001b[0m\u001b[0;34m\u001b[0m\u001b[0;34m\u001b[0m\u001b[0m\n\u001b[0m\u001b[1;32m   1560\u001b[0m         \u001b[0mself\u001b[0m\u001b[0;34m.\u001b[0m\u001b[0m_aborted\u001b[0m \u001b[0;34m=\u001b[0m \u001b[0;32mTrue\u001b[0m\u001b[0;34m\u001b[0m\u001b[0;34m\u001b[0m\u001b[0m\n\u001b[1;32m   1561\u001b[0m \u001b[0;34m\u001b[0m\u001b[0m\n",
            "\u001b[0;32m/usr/local/lib/python3.10/dist-packages/joblib/_parallel_backends.py\u001b[0m in \u001b[0;36mabort_everything\u001b[0;34m(self, ensure_ready)\u001b[0m\n\u001b[1;32m    630\u001b[0m         \"\"\"Shutdown the workers and restart a new one with the same parameters\n\u001b[1;32m    631\u001b[0m         \"\"\"\n\u001b[0;32m--> 632\u001b[0;31m         \u001b[0mself\u001b[0m\u001b[0;34m.\u001b[0m\u001b[0m_workers\u001b[0m\u001b[0;34m.\u001b[0m\u001b[0mterminate\u001b[0m\u001b[0;34m(\u001b[0m\u001b[0mkill_workers\u001b[0m\u001b[0;34m=\u001b[0m\u001b[0;32mTrue\u001b[0m\u001b[0;34m)\u001b[0m\u001b[0;34m\u001b[0m\u001b[0;34m\u001b[0m\u001b[0m\n\u001b[0m\u001b[1;32m    633\u001b[0m         \u001b[0mself\u001b[0m\u001b[0;34m.\u001b[0m\u001b[0m_workers\u001b[0m \u001b[0;34m=\u001b[0m \u001b[0;32mNone\u001b[0m\u001b[0;34m\u001b[0m\u001b[0;34m\u001b[0m\u001b[0m\n\u001b[1;32m    634\u001b[0m \u001b[0;34m\u001b[0m\u001b[0m\n",
            "\u001b[0;32m/usr/local/lib/python3.10/dist-packages/joblib/executor.py\u001b[0m in \u001b[0;36mterminate\u001b[0;34m(self, kill_workers)\u001b[0m\n\u001b[1;32m     73\u001b[0m     \u001b[0;32mdef\u001b[0m \u001b[0mterminate\u001b[0m\u001b[0;34m(\u001b[0m\u001b[0mself\u001b[0m\u001b[0;34m,\u001b[0m \u001b[0mkill_workers\u001b[0m\u001b[0;34m=\u001b[0m\u001b[0;32mFalse\u001b[0m\u001b[0;34m)\u001b[0m\u001b[0;34m:\u001b[0m\u001b[0;34m\u001b[0m\u001b[0;34m\u001b[0m\u001b[0m\n\u001b[1;32m     74\u001b[0m \u001b[0;34m\u001b[0m\u001b[0m\n\u001b[0;32m---> 75\u001b[0;31m         \u001b[0mself\u001b[0m\u001b[0;34m.\u001b[0m\u001b[0mshutdown\u001b[0m\u001b[0;34m(\u001b[0m\u001b[0mkill_workers\u001b[0m\u001b[0;34m=\u001b[0m\u001b[0mkill_workers\u001b[0m\u001b[0;34m)\u001b[0m\u001b[0;34m\u001b[0m\u001b[0;34m\u001b[0m\u001b[0m\n\u001b[0m\u001b[1;32m     76\u001b[0m \u001b[0;34m\u001b[0m\u001b[0m\n\u001b[1;32m     77\u001b[0m         \u001b[0;31m# When workers are killed in a brutal manner, they cannot execute the\u001b[0m\u001b[0;34m\u001b[0m\u001b[0;34m\u001b[0m\u001b[0m\n",
            "\u001b[0;32m/usr/local/lib/python3.10/dist-packages/joblib/externals/loky/process_executor.py\u001b[0m in \u001b[0;36mshutdown\u001b[0;34m(self, wait, kill_workers)\u001b[0m\n\u001b[1;32m   1301\u001b[0m             \u001b[0;31m# is shutting down.\u001b[0m\u001b[0;34m\u001b[0m\u001b[0;34m\u001b[0m\u001b[0m\n\u001b[1;32m   1302\u001b[0m             \u001b[0;32mwith\u001b[0m \u001b[0m_global_shutdown_lock\u001b[0m\u001b[0;34m:\u001b[0m\u001b[0;34m\u001b[0m\u001b[0;34m\u001b[0m\u001b[0m\n\u001b[0;32m-> 1303\u001b[0;31m                 \u001b[0mexecutor_manager_thread\u001b[0m\u001b[0;34m.\u001b[0m\u001b[0mjoin\u001b[0m\u001b[0;34m(\u001b[0m\u001b[0;34m)\u001b[0m\u001b[0;34m\u001b[0m\u001b[0;34m\u001b[0m\u001b[0m\n\u001b[0m\u001b[1;32m   1304\u001b[0m                 \u001b[0m_threads_wakeups\u001b[0m\u001b[0;34m.\u001b[0m\u001b[0mpop\u001b[0m\u001b[0;34m(\u001b[0m\u001b[0mexecutor_manager_thread\u001b[0m\u001b[0;34m,\u001b[0m \u001b[0;32mNone\u001b[0m\u001b[0;34m)\u001b[0m\u001b[0;34m\u001b[0m\u001b[0;34m\u001b[0m\u001b[0m\n\u001b[1;32m   1305\u001b[0m \u001b[0;34m\u001b[0m\u001b[0m\n",
            "\u001b[0;32m/usr/lib/python3.10/threading.py\u001b[0m in \u001b[0;36mjoin\u001b[0;34m(self, timeout)\u001b[0m\n\u001b[1;32m   1094\u001b[0m \u001b[0;34m\u001b[0m\u001b[0m\n\u001b[1;32m   1095\u001b[0m         \u001b[0;32mif\u001b[0m \u001b[0mtimeout\u001b[0m \u001b[0;32mis\u001b[0m \u001b[0;32mNone\u001b[0m\u001b[0;34m:\u001b[0m\u001b[0;34m\u001b[0m\u001b[0;34m\u001b[0m\u001b[0m\n\u001b[0;32m-> 1096\u001b[0;31m             \u001b[0mself\u001b[0m\u001b[0;34m.\u001b[0m\u001b[0m_wait_for_tstate_lock\u001b[0m\u001b[0;34m(\u001b[0m\u001b[0;34m)\u001b[0m\u001b[0;34m\u001b[0m\u001b[0;34m\u001b[0m\u001b[0m\n\u001b[0m\u001b[1;32m   1097\u001b[0m         \u001b[0;32melse\u001b[0m\u001b[0;34m:\u001b[0m\u001b[0;34m\u001b[0m\u001b[0;34m\u001b[0m\u001b[0m\n\u001b[1;32m   1098\u001b[0m             \u001b[0;31m# the behavior of a negative timeout isn't documented, but\u001b[0m\u001b[0;34m\u001b[0m\u001b[0;34m\u001b[0m\u001b[0m\n",
            "\u001b[0;32m/usr/lib/python3.10/threading.py\u001b[0m in \u001b[0;36m_wait_for_tstate_lock\u001b[0;34m(self, block, timeout)\u001b[0m\n\u001b[1;32m   1114\u001b[0m \u001b[0;34m\u001b[0m\u001b[0m\n\u001b[1;32m   1115\u001b[0m         \u001b[0;32mtry\u001b[0m\u001b[0;34m:\u001b[0m\u001b[0;34m\u001b[0m\u001b[0;34m\u001b[0m\u001b[0m\n\u001b[0;32m-> 1116\u001b[0;31m             \u001b[0;32mif\u001b[0m \u001b[0mlock\u001b[0m\u001b[0;34m.\u001b[0m\u001b[0macquire\u001b[0m\u001b[0;34m(\u001b[0m\u001b[0mblock\u001b[0m\u001b[0;34m,\u001b[0m \u001b[0mtimeout\u001b[0m\u001b[0;34m)\u001b[0m\u001b[0;34m:\u001b[0m\u001b[0;34m\u001b[0m\u001b[0;34m\u001b[0m\u001b[0m\n\u001b[0m\u001b[1;32m   1117\u001b[0m                 \u001b[0mlock\u001b[0m\u001b[0;34m.\u001b[0m\u001b[0mrelease\u001b[0m\u001b[0;34m(\u001b[0m\u001b[0;34m)\u001b[0m\u001b[0;34m\u001b[0m\u001b[0;34m\u001b[0m\u001b[0m\n\u001b[1;32m   1118\u001b[0m                 \u001b[0mself\u001b[0m\u001b[0;34m.\u001b[0m\u001b[0m_stop\u001b[0m\u001b[0;34m(\u001b[0m\u001b[0;34m)\u001b[0m\u001b[0;34m\u001b[0m\u001b[0;34m\u001b[0m\u001b[0m\n",
            "\u001b[0;31mKeyboardInterrupt\u001b[0m: "
          ]
        }
      ],
      "source": [
        "compare_models()"
      ]
    },
    {
      "cell_type": "code",
      "execution_count": null,
      "metadata": {
        "colab": {
          "base_uri": "https://localhost:8080/",
          "height": 457,
          "referenced_widgets": [
            "012eefc55fe7498b9f7a72b1c485fba0",
            "7a86c40e756e4531be30fc41fc0241ca",
            "cc55bf9dbe0b40eb97ca763f0ed95b49",
            "cff6cd645a154475926d32d88f678d28",
            "236836d6bb0d4ad7ac78590183c54959",
            "a489154d84be45d39744dd4c5dcc75ab",
            "3acd2c4d5e114505a6d1c74eec0095c5",
            "af9bc2b22d0d4bc3af1d087b67fb6463",
            "8e1e43398cd648d78364ed4adf3c7cd6",
            "da2d07e4815f48d29ccd9fb9d498ef2e",
            "400127a10b264a669b5b89c7f792c591"
          ]
        },
        "id": "DvzAaT2XqVr4",
        "outputId": "0ea63692-bcc3-4501-80ec-45d45b493b8a"
      },
      "outputs": [
        {
          "data": {
            "text/html": [],
            "text/plain": [
              "<IPython.core.display.HTML object>"
            ]
          },
          "metadata": {},
          "output_type": "display_data"
        },
        {
          "data": {
            "text/html": [
              "<style type=\"text/css\">\n",
              "#T_aeaf6_row10_col0, #T_aeaf6_row10_col1, #T_aeaf6_row10_col2, #T_aeaf6_row10_col3, #T_aeaf6_row10_col4, #T_aeaf6_row10_col5, #T_aeaf6_row10_col6 {\n",
              "  background: yellow;\n",
              "}\n",
              "</style>\n",
              "<table id=\"T_aeaf6\" class=\"dataframe\">\n",
              "  <thead>\n",
              "    <tr>\n",
              "      <th class=\"blank level0\" >&nbsp;</th>\n",
              "      <th id=\"T_aeaf6_level0_col0\" class=\"col_heading level0 col0\" >Accuracy</th>\n",
              "      <th id=\"T_aeaf6_level0_col1\" class=\"col_heading level0 col1\" >AUC</th>\n",
              "      <th id=\"T_aeaf6_level0_col2\" class=\"col_heading level0 col2\" >Recall</th>\n",
              "      <th id=\"T_aeaf6_level0_col3\" class=\"col_heading level0 col3\" >Prec.</th>\n",
              "      <th id=\"T_aeaf6_level0_col4\" class=\"col_heading level0 col4\" >F1</th>\n",
              "      <th id=\"T_aeaf6_level0_col5\" class=\"col_heading level0 col5\" >Kappa</th>\n",
              "      <th id=\"T_aeaf6_level0_col6\" class=\"col_heading level0 col6\" >MCC</th>\n",
              "    </tr>\n",
              "    <tr>\n",
              "      <th class=\"index_name level0\" >Fold</th>\n",
              "      <th class=\"blank col0\" >&nbsp;</th>\n",
              "      <th class=\"blank col1\" >&nbsp;</th>\n",
              "      <th class=\"blank col2\" >&nbsp;</th>\n",
              "      <th class=\"blank col3\" >&nbsp;</th>\n",
              "      <th class=\"blank col4\" >&nbsp;</th>\n",
              "      <th class=\"blank col5\" >&nbsp;</th>\n",
              "      <th class=\"blank col6\" >&nbsp;</th>\n",
              "    </tr>\n",
              "  </thead>\n",
              "  <tbody>\n",
              "    <tr>\n",
              "      <th id=\"T_aeaf6_level0_row0\" class=\"row_heading level0 row0\" >0</th>\n",
              "      <td id=\"T_aeaf6_row0_col0\" class=\"data row0 col0\" >0.8771</td>\n",
              "      <td id=\"T_aeaf6_row0_col1\" class=\"data row0 col1\" >0.8667</td>\n",
              "      <td id=\"T_aeaf6_row0_col2\" class=\"data row0 col2\" >0.5105</td>\n",
              "      <td id=\"T_aeaf6_row0_col3\" class=\"data row0 col3\" >0.8202</td>\n",
              "      <td id=\"T_aeaf6_row0_col4\" class=\"data row0 col4\" >0.6293</td>\n",
              "      <td id=\"T_aeaf6_row0_col5\" class=\"data row0 col5\" >0.5604</td>\n",
              "      <td id=\"T_aeaf6_row0_col6\" class=\"data row0 col6\" >0.5831</td>\n",
              "    </tr>\n",
              "    <tr>\n",
              "      <th id=\"T_aeaf6_level0_row1\" class=\"row_heading level0 row1\" >1</th>\n",
              "      <td id=\"T_aeaf6_row1_col0\" class=\"data row1 col0\" >0.8671</td>\n",
              "      <td id=\"T_aeaf6_row1_col1\" class=\"data row1 col1\" >0.8720</td>\n",
              "      <td id=\"T_aeaf6_row1_col2\" class=\"data row1 col2\" >0.4825</td>\n",
              "      <td id=\"T_aeaf6_row1_col3\" class=\"data row1 col3\" >0.7841</td>\n",
              "      <td id=\"T_aeaf6_row1_col4\" class=\"data row1 col4\" >0.5974</td>\n",
              "      <td id=\"T_aeaf6_row1_col5\" class=\"data row1 col5\" >0.5232</td>\n",
              "      <td id=\"T_aeaf6_row1_col6\" class=\"data row1 col6\" >0.5453</td>\n",
              "    </tr>\n",
              "    <tr>\n",
              "      <th id=\"T_aeaf6_level0_row2\" class=\"row_heading level0 row2\" >2</th>\n",
              "      <td id=\"T_aeaf6_row2_col0\" class=\"data row2 col0\" >0.8471</td>\n",
              "      <td id=\"T_aeaf6_row2_col1\" class=\"data row2 col1\" >0.8267</td>\n",
              "      <td id=\"T_aeaf6_row2_col2\" class=\"data row2 col2\" >0.3916</td>\n",
              "      <td id=\"T_aeaf6_row2_col3\" class=\"data row2 col3\" >0.7368</td>\n",
              "      <td id=\"T_aeaf6_row2_col4\" class=\"data row2 col4\" >0.5114</td>\n",
              "      <td id=\"T_aeaf6_row2_col5\" class=\"data row2 col5\" >0.4307</td>\n",
              "      <td id=\"T_aeaf6_row2_col6\" class=\"data row2 col6\" >0.4610</td>\n",
              "    </tr>\n",
              "    <tr>\n",
              "      <th id=\"T_aeaf6_level0_row3\" class=\"row_heading level0 row3\" >3</th>\n",
              "      <td id=\"T_aeaf6_row3_col0\" class=\"data row3 col0\" >0.8714</td>\n",
              "      <td id=\"T_aeaf6_row3_col1\" class=\"data row3 col1\" >0.8780</td>\n",
              "      <td id=\"T_aeaf6_row3_col2\" class=\"data row3 col2\" >0.5035</td>\n",
              "      <td id=\"T_aeaf6_row3_col3\" class=\"data row3 col3\" >0.7912</td>\n",
              "      <td id=\"T_aeaf6_row3_col4\" class=\"data row3 col4\" >0.6154</td>\n",
              "      <td id=\"T_aeaf6_row3_col5\" class=\"data row3 col5\" >0.5427</td>\n",
              "      <td id=\"T_aeaf6_row3_col6\" class=\"data row3 col6\" >0.5627</td>\n",
              "    </tr>\n",
              "    <tr>\n",
              "      <th id=\"T_aeaf6_level0_row4\" class=\"row_heading level0 row4\" >4</th>\n",
              "      <td id=\"T_aeaf6_row4_col0\" class=\"data row4 col0\" >0.8286</td>\n",
              "      <td id=\"T_aeaf6_row4_col1\" class=\"data row4 col1\" >0.8258</td>\n",
              "      <td id=\"T_aeaf6_row4_col2\" class=\"data row4 col2\" >0.4126</td>\n",
              "      <td id=\"T_aeaf6_row4_col3\" class=\"data row4 col3\" >0.6211</td>\n",
              "      <td id=\"T_aeaf6_row4_col4\" class=\"data row4 col4\" >0.4958</td>\n",
              "      <td id=\"T_aeaf6_row4_col5\" class=\"data row4 col5\" >0.3975</td>\n",
              "      <td id=\"T_aeaf6_row4_col6\" class=\"data row4 col6\" >0.4096</td>\n",
              "    </tr>\n",
              "    <tr>\n",
              "      <th id=\"T_aeaf6_level0_row5\" class=\"row_heading level0 row5\" >5</th>\n",
              "      <td id=\"T_aeaf6_row5_col0\" class=\"data row5 col0\" >0.8771</td>\n",
              "      <td id=\"T_aeaf6_row5_col1\" class=\"data row5 col1\" >0.8821</td>\n",
              "      <td id=\"T_aeaf6_row5_col2\" class=\"data row5 col2\" >0.4895</td>\n",
              "      <td id=\"T_aeaf6_row5_col3\" class=\"data row5 col3\" >0.8434</td>\n",
              "      <td id=\"T_aeaf6_row5_col4\" class=\"data row5 col4\" >0.6195</td>\n",
              "      <td id=\"T_aeaf6_row5_col5\" class=\"data row5 col5\" >0.5523</td>\n",
              "      <td id=\"T_aeaf6_row5_col6\" class=\"data row5 col6\" >0.5814</td>\n",
              "    </tr>\n",
              "    <tr>\n",
              "      <th id=\"T_aeaf6_level0_row6\" class=\"row_heading level0 row6\" >6</th>\n",
              "      <td id=\"T_aeaf6_row6_col0\" class=\"data row6 col0\" >0.8729</td>\n",
              "      <td id=\"T_aeaf6_row6_col1\" class=\"data row6 col1\" >0.8752</td>\n",
              "      <td id=\"T_aeaf6_row6_col2\" class=\"data row6 col2\" >0.4789</td>\n",
              "      <td id=\"T_aeaf6_row6_col3\" class=\"data row6 col3\" >0.8193</td>\n",
              "      <td id=\"T_aeaf6_row6_col4\" class=\"data row6 col4\" >0.6044</td>\n",
              "      <td id=\"T_aeaf6_row6_col5\" class=\"data row6 col5\" >0.5348</td>\n",
              "      <td id=\"T_aeaf6_row6_col6\" class=\"data row6 col6\" >0.5622</td>\n",
              "    </tr>\n",
              "    <tr>\n",
              "      <th id=\"T_aeaf6_level0_row7\" class=\"row_heading level0 row7\" >7</th>\n",
              "      <td id=\"T_aeaf6_row7_col0\" class=\"data row7 col0\" >0.8571</td>\n",
              "      <td id=\"T_aeaf6_row7_col1\" class=\"data row7 col1\" >0.8484</td>\n",
              "      <td id=\"T_aeaf6_row7_col2\" class=\"data row7 col2\" >0.4225</td>\n",
              "      <td id=\"T_aeaf6_row7_col3\" class=\"data row7 col3\" >0.7692</td>\n",
              "      <td id=\"T_aeaf6_row7_col4\" class=\"data row7 col4\" >0.5455</td>\n",
              "      <td id=\"T_aeaf6_row7_col5\" class=\"data row7 col5\" >0.4691</td>\n",
              "      <td id=\"T_aeaf6_row7_col6\" class=\"data row7 col6\" >0.4988</td>\n",
              "    </tr>\n",
              "    <tr>\n",
              "      <th id=\"T_aeaf6_level0_row8\" class=\"row_heading level0 row8\" >8</th>\n",
              "      <td id=\"T_aeaf6_row8_col0\" class=\"data row8 col0\" >0.8714</td>\n",
              "      <td id=\"T_aeaf6_row8_col1\" class=\"data row8 col1\" >0.8791</td>\n",
              "      <td id=\"T_aeaf6_row8_col2\" class=\"data row8 col2\" >0.5000</td>\n",
              "      <td id=\"T_aeaf6_row8_col3\" class=\"data row8 col3\" >0.7889</td>\n",
              "      <td id=\"T_aeaf6_row8_col4\" class=\"data row8 col4\" >0.6121</td>\n",
              "      <td id=\"T_aeaf6_row8_col5\" class=\"data row8 col5\" >0.5396</td>\n",
              "      <td id=\"T_aeaf6_row8_col6\" class=\"data row8 col6\" >0.5598</td>\n",
              "    </tr>\n",
              "    <tr>\n",
              "      <th id=\"T_aeaf6_level0_row9\" class=\"row_heading level0 row9\" >9</th>\n",
              "      <td id=\"T_aeaf6_row9_col0\" class=\"data row9 col0\" >0.8600</td>\n",
              "      <td id=\"T_aeaf6_row9_col1\" class=\"data row9 col1\" >0.8638</td>\n",
              "      <td id=\"T_aeaf6_row9_col2\" class=\"data row9 col2\" >0.4577</td>\n",
              "      <td id=\"T_aeaf6_row9_col3\" class=\"data row9 col3\" >0.7558</td>\n",
              "      <td id=\"T_aeaf6_row9_col4\" class=\"data row9 col4\" >0.5702</td>\n",
              "      <td id=\"T_aeaf6_row9_col5\" class=\"data row9 col5\" >0.4925</td>\n",
              "      <td id=\"T_aeaf6_row9_col6\" class=\"data row9 col6\" >0.5146</td>\n",
              "    </tr>\n",
              "    <tr>\n",
              "      <th id=\"T_aeaf6_level0_row10\" class=\"row_heading level0 row10\" >Mean</th>\n",
              "      <td id=\"T_aeaf6_row10_col0\" class=\"data row10 col0\" >0.8630</td>\n",
              "      <td id=\"T_aeaf6_row10_col1\" class=\"data row10 col1\" >0.8618</td>\n",
              "      <td id=\"T_aeaf6_row10_col2\" class=\"data row10 col2\" >0.4649</td>\n",
              "      <td id=\"T_aeaf6_row10_col3\" class=\"data row10 col3\" >0.7730</td>\n",
              "      <td id=\"T_aeaf6_row10_col4\" class=\"data row10 col4\" >0.5801</td>\n",
              "      <td id=\"T_aeaf6_row10_col5\" class=\"data row10 col5\" >0.5043</td>\n",
              "      <td id=\"T_aeaf6_row10_col6\" class=\"data row10 col6\" >0.5278</td>\n",
              "    </tr>\n",
              "    <tr>\n",
              "      <th id=\"T_aeaf6_level0_row11\" class=\"row_heading level0 row11\" >Std</th>\n",
              "      <td id=\"T_aeaf6_row11_col0\" class=\"data row11 col0\" >0.0146</td>\n",
              "      <td id=\"T_aeaf6_row11_col1\" class=\"data row11 col1\" >0.0200</td>\n",
              "      <td id=\"T_aeaf6_row11_col2\" class=\"data row11 col2\" >0.0398</td>\n",
              "      <td id=\"T_aeaf6_row11_col3\" class=\"data row11 col3\" >0.0589</td>\n",
              "      <td id=\"T_aeaf6_row11_col4\" class=\"data row11 col4\" >0.0450</td>\n",
              "      <td id=\"T_aeaf6_row11_col5\" class=\"data row11 col5\" >0.0526</td>\n",
              "      <td id=\"T_aeaf6_row11_col6\" class=\"data row11 col6\" >0.0540</td>\n",
              "    </tr>\n",
              "  </tbody>\n",
              "</table>\n"
            ],
            "text/plain": [
              "<pandas.io.formats.style.Styler at 0x7e5e805eca60>"
            ]
          },
          "metadata": {},
          "output_type": "display_data"
        },
        {
          "data": {
            "application/vnd.jupyter.widget-view+json": {
              "model_id": "012eefc55fe7498b9f7a72b1c485fba0",
              "version_major": 2,
              "version_minor": 0
            },
            "text/plain": [
              "Processing:   0%|          | 0/4 [00:00<?, ?it/s]"
            ]
          },
          "metadata": {
            "application/vnd.jupyter.widget-view+json": {
              "colab": {
                "custom_widget_manager": {
                  "url": "https://ssl.gstatic.com/colaboratory-static/widgets/colab-cdn-widget-manager/2b70e893a8ba7c0f/manager.min.js"
                }
              }
            }
          },
          "output_type": "display_data"
        },
        {
          "data": {
            "text/html": [],
            "text/plain": [
              "<IPython.core.display.HTML object>"
            ]
          },
          "metadata": {},
          "output_type": "display_data"
        }
      ],
      "source": [
        "gbc = create_model('gbc')"
      ]
    },
    {
      "cell_type": "markdown",
      "metadata": {
        "id": "BbtnMCw2rxhC"
      },
      "source": [
        "<div align='left'><font size=\"5\" color=\"#FF0000\">Ensembling</font></div>\n",
        "<hr>"
      ]
    },
    {
      "cell_type": "code",
      "execution_count": null,
      "metadata": {
        "colab": {
          "base_uri": "https://localhost:8080/",
          "height": 897,
          "referenced_widgets": [
            "8d621f473732426fa301272c0a709917",
            "1d235b77799544de802464acd32599c4",
            "2e04582d7da8469a8dcbf316f80a1ddf",
            "92e0504a3a3849c2af4dd62eb886f100",
            "7359e50367bb4f649cc81b68b3d17605",
            "a19fa9bb9a854983a049fbb94b2d8687",
            "67f6d58ed801401982c452992413f144",
            "9ec073d2045b4bf0b4c083e40358e5f0",
            "9d384b4250f5480b80c47f238defc4d5",
            "e7a8ce9c76e54fe29185b72b3b862e33",
            "9c9c44ed6e4e454f8d25c0c4093da0af",
            "5268f107eae8434a84e76398d80da24f",
            "6f2324bea8ff43b29743c9726c128d22",
            "714452637eb84c7c8efb79046278947e",
            "b2ae7782565f4c6e8d48da787a973dd5",
            "4b7e491d3c18479d87644aa3429517c8",
            "14b14fbc529048b5a1728e4734e97fc1",
            "47ca0f4c26c44bb6813fc43fb8f93270",
            "afe0b14aa0654d5397ede367d6215b54",
            "8c6f41299f8a40c7828b8314fe2eadfa",
            "27244dd391824d70a6e45342ecfbfea5",
            "86706ab7829d4a4d890fb316913e359c"
          ]
        },
        "id": "ubIXXWZSuesC",
        "outputId": "88b51958-09aa-446c-877a-b4d13e59c6e1"
      },
      "outputs": [
        {
          "data": {
            "text/html": [],
            "text/plain": [
              "<IPython.core.display.HTML object>"
            ]
          },
          "metadata": {},
          "output_type": "display_data"
        },
        {
          "data": {
            "text/html": [
              "<style type=\"text/css\">\n",
              "#T_c5e4f_row10_col0, #T_c5e4f_row10_col1, #T_c5e4f_row10_col2, #T_c5e4f_row10_col3, #T_c5e4f_row10_col4, #T_c5e4f_row10_col5, #T_c5e4f_row10_col6 {\n",
              "  background: yellow;\n",
              "}\n",
              "</style>\n",
              "<table id=\"T_c5e4f\" class=\"dataframe\">\n",
              "  <thead>\n",
              "    <tr>\n",
              "      <th class=\"blank level0\" >&nbsp;</th>\n",
              "      <th id=\"T_c5e4f_level0_col0\" class=\"col_heading level0 col0\" >Accuracy</th>\n",
              "      <th id=\"T_c5e4f_level0_col1\" class=\"col_heading level0 col1\" >AUC</th>\n",
              "      <th id=\"T_c5e4f_level0_col2\" class=\"col_heading level0 col2\" >Recall</th>\n",
              "      <th id=\"T_c5e4f_level0_col3\" class=\"col_heading level0 col3\" >Prec.</th>\n",
              "      <th id=\"T_c5e4f_level0_col4\" class=\"col_heading level0 col4\" >F1</th>\n",
              "      <th id=\"T_c5e4f_level0_col5\" class=\"col_heading level0 col5\" >Kappa</th>\n",
              "      <th id=\"T_c5e4f_level0_col6\" class=\"col_heading level0 col6\" >MCC</th>\n",
              "    </tr>\n",
              "    <tr>\n",
              "      <th class=\"index_name level0\" >Fold</th>\n",
              "      <th class=\"blank col0\" >&nbsp;</th>\n",
              "      <th class=\"blank col1\" >&nbsp;</th>\n",
              "      <th class=\"blank col2\" >&nbsp;</th>\n",
              "      <th class=\"blank col3\" >&nbsp;</th>\n",
              "      <th class=\"blank col4\" >&nbsp;</th>\n",
              "      <th class=\"blank col5\" >&nbsp;</th>\n",
              "      <th class=\"blank col6\" >&nbsp;</th>\n",
              "    </tr>\n",
              "  </thead>\n",
              "  <tbody>\n",
              "    <tr>\n",
              "      <th id=\"T_c5e4f_level0_row0\" class=\"row_heading level0 row0\" >0</th>\n",
              "      <td id=\"T_c5e4f_row0_col0\" class=\"data row0 col0\" >0.8729</td>\n",
              "      <td id=\"T_c5e4f_row0_col1\" class=\"data row0 col1\" >0.8601</td>\n",
              "      <td id=\"T_c5e4f_row0_col2\" class=\"data row0 col2\" >0.5105</td>\n",
              "      <td id=\"T_c5e4f_row0_col3\" class=\"data row0 col3\" >0.7935</td>\n",
              "      <td id=\"T_c5e4f_row0_col4\" class=\"data row0 col4\" >0.6213</td>\n",
              "      <td id=\"T_c5e4f_row0_col5\" class=\"data row0 col5\" >0.5492</td>\n",
              "      <td id=\"T_c5e4f_row0_col6\" class=\"data row0 col6\" >0.5685</td>\n",
              "    </tr>\n",
              "    <tr>\n",
              "      <th id=\"T_c5e4f_level0_row1\" class=\"row_heading level0 row1\" >1</th>\n",
              "      <td id=\"T_c5e4f_row1_col0\" class=\"data row1 col0\" >0.8600</td>\n",
              "      <td id=\"T_c5e4f_row1_col1\" class=\"data row1 col1\" >0.8649</td>\n",
              "      <td id=\"T_c5e4f_row1_col2\" class=\"data row1 col2\" >0.4825</td>\n",
              "      <td id=\"T_c5e4f_row1_col3\" class=\"data row1 col3\" >0.7419</td>\n",
              "      <td id=\"T_c5e4f_row1_col4\" class=\"data row1 col4\" >0.5847</td>\n",
              "      <td id=\"T_c5e4f_row1_col5\" class=\"data row1 col5\" >0.5051</td>\n",
              "      <td id=\"T_c5e4f_row1_col6\" class=\"data row1 col6\" >0.5220</td>\n",
              "    </tr>\n",
              "    <tr>\n",
              "      <th id=\"T_c5e4f_level0_row2\" class=\"row_heading level0 row2\" >2</th>\n",
              "      <td id=\"T_c5e4f_row2_col0\" class=\"data row2 col0\" >0.8486</td>\n",
              "      <td id=\"T_c5e4f_row2_col1\" class=\"data row2 col1\" >0.8060</td>\n",
              "      <td id=\"T_c5e4f_row2_col2\" class=\"data row2 col2\" >0.4406</td>\n",
              "      <td id=\"T_c5e4f_row2_col3\" class=\"data row2 col3\" >0.7079</td>\n",
              "      <td id=\"T_c5e4f_row2_col4\" class=\"data row2 col4\" >0.5431</td>\n",
              "      <td id=\"T_c5e4f_row2_col5\" class=\"data row2 col5\" >0.4582</td>\n",
              "      <td id=\"T_c5e4f_row2_col6\" class=\"data row2 col6\" >0.4767</td>\n",
              "    </tr>\n",
              "    <tr>\n",
              "      <th id=\"T_c5e4f_level0_row3\" class=\"row_heading level0 row3\" >3</th>\n",
              "      <td id=\"T_c5e4f_row3_col0\" class=\"data row3 col0\" >0.8686</td>\n",
              "      <td id=\"T_c5e4f_row3_col1\" class=\"data row3 col1\" >0.8663</td>\n",
              "      <td id=\"T_c5e4f_row3_col2\" class=\"data row3 col2\" >0.4825</td>\n",
              "      <td id=\"T_c5e4f_row3_col3\" class=\"data row3 col3\" >0.7931</td>\n",
              "      <td id=\"T_c5e4f_row3_col4\" class=\"data row3 col4\" >0.6000</td>\n",
              "      <td id=\"T_c5e4f_row3_col5\" class=\"data row3 col5\" >0.5269</td>\n",
              "      <td id=\"T_c5e4f_row3_col6\" class=\"data row3 col6\" >0.5502</td>\n",
              "    </tr>\n",
              "    <tr>\n",
              "      <th id=\"T_c5e4f_level0_row4\" class=\"row_heading level0 row4\" >4</th>\n",
              "      <td id=\"T_c5e4f_row4_col0\" class=\"data row4 col0\" >0.8486</td>\n",
              "      <td id=\"T_c5e4f_row4_col1\" class=\"data row4 col1\" >0.8327</td>\n",
              "      <td id=\"T_c5e4f_row4_col2\" class=\"data row4 col2\" >0.4895</td>\n",
              "      <td id=\"T_c5e4f_row4_col3\" class=\"data row4 col3\" >0.6796</td>\n",
              "      <td id=\"T_c5e4f_row4_col4\" class=\"data row4 col4\" >0.5691</td>\n",
              "      <td id=\"T_c5e4f_row4_col5\" class=\"data row4 col5\" >0.4802</td>\n",
              "      <td id=\"T_c5e4f_row4_col6\" class=\"data row4 col6\" >0.4897</td>\n",
              "    </tr>\n",
              "    <tr>\n",
              "      <th id=\"T_c5e4f_level0_row5\" class=\"row_heading level0 row5\" >5</th>\n",
              "      <td id=\"T_c5e4f_row5_col0\" class=\"data row5 col0\" >0.8771</td>\n",
              "      <td id=\"T_c5e4f_row5_col1\" class=\"data row5 col1\" >0.8783</td>\n",
              "      <td id=\"T_c5e4f_row5_col2\" class=\"data row5 col2\" >0.5035</td>\n",
              "      <td id=\"T_c5e4f_row5_col3\" class=\"data row5 col3\" >0.8276</td>\n",
              "      <td id=\"T_c5e4f_row5_col4\" class=\"data row5 col4\" >0.6261</td>\n",
              "      <td id=\"T_c5e4f_row5_col5\" class=\"data row5 col5\" >0.5577</td>\n",
              "      <td id=\"T_c5e4f_row5_col6\" class=\"data row5 col6\" >0.5824</td>\n",
              "    </tr>\n",
              "    <tr>\n",
              "      <th id=\"T_c5e4f_level0_row6\" class=\"row_heading level0 row6\" >6</th>\n",
              "      <td id=\"T_c5e4f_row6_col0\" class=\"data row6 col0\" >0.8471</td>\n",
              "      <td id=\"T_c5e4f_row6_col1\" class=\"data row6 col1\" >0.8646</td>\n",
              "      <td id=\"T_c5e4f_row6_col2\" class=\"data row6 col2\" >0.4155</td>\n",
              "      <td id=\"T_c5e4f_row6_col3\" class=\"data row6 col3\" >0.7108</td>\n",
              "      <td id=\"T_c5e4f_row6_col4\" class=\"data row6 col4\" >0.5244</td>\n",
              "      <td id=\"T_c5e4f_row6_col5\" class=\"data row6 col5\" >0.4407</td>\n",
              "      <td id=\"T_c5e4f_row6_col6\" class=\"data row6 col6\" >0.4633</td>\n",
              "    </tr>\n",
              "    <tr>\n",
              "      <th id=\"T_c5e4f_level0_row7\" class=\"row_heading level0 row7\" >7</th>\n",
              "      <td id=\"T_c5e4f_row7_col0\" class=\"data row7 col0\" >0.8471</td>\n",
              "      <td id=\"T_c5e4f_row7_col1\" class=\"data row7 col1\" >0.8430</td>\n",
              "      <td id=\"T_c5e4f_row7_col2\" class=\"data row7 col2\" >0.4507</td>\n",
              "      <td id=\"T_c5e4f_row7_col3\" class=\"data row7 col3\" >0.6882</td>\n",
              "      <td id=\"T_c5e4f_row7_col4\" class=\"data row7 col4\" >0.5447</td>\n",
              "      <td id=\"T_c5e4f_row7_col5\" class=\"data row7 col5\" >0.4576</td>\n",
              "      <td id=\"T_c5e4f_row7_col6\" class=\"data row7 col6\" >0.4724</td>\n",
              "    </tr>\n",
              "    <tr>\n",
              "      <th id=\"T_c5e4f_level0_row8\" class=\"row_heading level0 row8\" >8</th>\n",
              "      <td id=\"T_c5e4f_row8_col0\" class=\"data row8 col0\" >0.8629</td>\n",
              "      <td id=\"T_c5e4f_row8_col1\" class=\"data row8 col1\" >0.8726</td>\n",
              "      <td id=\"T_c5e4f_row8_col2\" class=\"data row8 col2\" >0.5000</td>\n",
              "      <td id=\"T_c5e4f_row8_col3\" class=\"data row8 col3\" >0.7396</td>\n",
              "      <td id=\"T_c5e4f_row8_col4\" class=\"data row8 col4\" >0.5966</td>\n",
              "      <td id=\"T_c5e4f_row8_col5\" class=\"data row8 col5\" >0.5177</td>\n",
              "      <td id=\"T_c5e4f_row8_col6\" class=\"data row8 col6\" >0.5321</td>\n",
              "    </tr>\n",
              "    <tr>\n",
              "      <th id=\"T_c5e4f_level0_row9\" class=\"row_heading level0 row9\" >9</th>\n",
              "      <td id=\"T_c5e4f_row9_col0\" class=\"data row9 col0\" >0.8600</td>\n",
              "      <td id=\"T_c5e4f_row9_col1\" class=\"data row9 col1\" >0.8501</td>\n",
              "      <td id=\"T_c5e4f_row9_col2\" class=\"data row9 col2\" >0.5070</td>\n",
              "      <td id=\"T_c5e4f_row9_col3\" class=\"data row9 col3\" >0.7200</td>\n",
              "      <td id=\"T_c5e4f_row9_col4\" class=\"data row9 col4\" >0.5950</td>\n",
              "      <td id=\"T_c5e4f_row9_col5\" class=\"data row9 col5\" >0.5135</td>\n",
              "      <td id=\"T_c5e4f_row9_col6\" class=\"data row9 col6\" >0.5250</td>\n",
              "    </tr>\n",
              "    <tr>\n",
              "      <th id=\"T_c5e4f_level0_row10\" class=\"row_heading level0 row10\" >Mean</th>\n",
              "      <td id=\"T_c5e4f_row10_col0\" class=\"data row10 col0\" >0.8593</td>\n",
              "      <td id=\"T_c5e4f_row10_col1\" class=\"data row10 col1\" >0.8539</td>\n",
              "      <td id=\"T_c5e4f_row10_col2\" class=\"data row10 col2\" >0.4782</td>\n",
              "      <td id=\"T_c5e4f_row10_col3\" class=\"data row10 col3\" >0.7402</td>\n",
              "      <td id=\"T_c5e4f_row10_col4\" class=\"data row10 col4\" >0.5805</td>\n",
              "      <td id=\"T_c5e4f_row10_col5\" class=\"data row10 col5\" >0.5007</td>\n",
              "      <td id=\"T_c5e4f_row10_col6\" class=\"data row10 col6\" >0.5182</td>\n",
              "    </tr>\n",
              "    <tr>\n",
              "      <th id=\"T_c5e4f_level0_row11\" class=\"row_heading level0 row11\" >Std</th>\n",
              "      <td id=\"T_c5e4f_row11_col0\" class=\"data row11 col0\" >0.0106</td>\n",
              "      <td id=\"T_c5e4f_row11_col1\" class=\"data row11 col1\" >0.0206</td>\n",
              "      <td id=\"T_c5e4f_row11_col2\" class=\"data row11 col2\" >0.0304</td>\n",
              "      <td id=\"T_c5e4f_row11_col3\" class=\"data row11 col3\" >0.0469</td>\n",
              "      <td id=\"T_c5e4f_row11_col4\" class=\"data row11 col4\" >0.0325</td>\n",
              "      <td id=\"T_c5e4f_row11_col5\" class=\"data row11 col5\" >0.0380</td>\n",
              "      <td id=\"T_c5e4f_row11_col6\" class=\"data row11 col6\" >0.0395</td>\n",
              "    </tr>\n",
              "  </tbody>\n",
              "</table>\n"
            ],
            "text/plain": [
              "<pandas.io.formats.style.Styler at 0x7e5e81f345b0>"
            ]
          },
          "metadata": {},
          "output_type": "display_data"
        },
        {
          "data": {
            "application/vnd.jupyter.widget-view+json": {
              "model_id": "8d621f473732426fa301272c0a709917",
              "version_major": 2,
              "version_minor": 0
            },
            "text/plain": [
              "Processing:   0%|          | 0/4 [00:00<?, ?it/s]"
            ]
          },
          "metadata": {
            "application/vnd.jupyter.widget-view+json": {
              "colab": {
                "custom_widget_manager": {
                  "url": "https://ssl.gstatic.com/colaboratory-static/widgets/colab-cdn-widget-manager/2b70e893a8ba7c0f/manager.min.js"
                }
              }
            }
          },
          "output_type": "display_data"
        },
        {
          "data": {
            "text/html": [],
            "text/plain": [
              "<IPython.core.display.HTML object>"
            ]
          },
          "metadata": {},
          "output_type": "display_data"
        },
        {
          "data": {
            "text/html": [],
            "text/plain": [
              "<IPython.core.display.HTML object>"
            ]
          },
          "metadata": {},
          "output_type": "display_data"
        },
        {
          "data": {
            "text/html": [
              "<style type=\"text/css\">\n",
              "#T_0cee5_row10_col0, #T_0cee5_row10_col1, #T_0cee5_row10_col2, #T_0cee5_row10_col3, #T_0cee5_row10_col4, #T_0cee5_row10_col5, #T_0cee5_row10_col6 {\n",
              "  background: yellow;\n",
              "}\n",
              "</style>\n",
              "<table id=\"T_0cee5\" class=\"dataframe\">\n",
              "  <thead>\n",
              "    <tr>\n",
              "      <th class=\"blank level0\" >&nbsp;</th>\n",
              "      <th id=\"T_0cee5_level0_col0\" class=\"col_heading level0 col0\" >Accuracy</th>\n",
              "      <th id=\"T_0cee5_level0_col1\" class=\"col_heading level0 col1\" >AUC</th>\n",
              "      <th id=\"T_0cee5_level0_col2\" class=\"col_heading level0 col2\" >Recall</th>\n",
              "      <th id=\"T_0cee5_level0_col3\" class=\"col_heading level0 col3\" >Prec.</th>\n",
              "      <th id=\"T_0cee5_level0_col4\" class=\"col_heading level0 col4\" >F1</th>\n",
              "      <th id=\"T_0cee5_level0_col5\" class=\"col_heading level0 col5\" >Kappa</th>\n",
              "      <th id=\"T_0cee5_level0_col6\" class=\"col_heading level0 col6\" >MCC</th>\n",
              "    </tr>\n",
              "    <tr>\n",
              "      <th class=\"index_name level0\" >Fold</th>\n",
              "      <th class=\"blank col0\" >&nbsp;</th>\n",
              "      <th class=\"blank col1\" >&nbsp;</th>\n",
              "      <th class=\"blank col2\" >&nbsp;</th>\n",
              "      <th class=\"blank col3\" >&nbsp;</th>\n",
              "      <th class=\"blank col4\" >&nbsp;</th>\n",
              "      <th class=\"blank col5\" >&nbsp;</th>\n",
              "      <th class=\"blank col6\" >&nbsp;</th>\n",
              "    </tr>\n",
              "  </thead>\n",
              "  <tbody>\n",
              "    <tr>\n",
              "      <th id=\"T_0cee5_level0_row0\" class=\"row_heading level0 row0\" >0</th>\n",
              "      <td id=\"T_0cee5_row0_col0\" class=\"data row0 col0\" >0.8786</td>\n",
              "      <td id=\"T_0cee5_row0_col1\" class=\"data row0 col1\" >0.8603</td>\n",
              "      <td id=\"T_0cee5_row0_col2\" class=\"data row0 col2\" >0.5035</td>\n",
              "      <td id=\"T_0cee5_row0_col3\" class=\"data row0 col3\" >0.8372</td>\n",
              "      <td id=\"T_0cee5_row0_col4\" class=\"data row0 col4\" >0.6288</td>\n",
              "      <td id=\"T_0cee5_row0_col5\" class=\"data row0 col5\" >0.5615</td>\n",
              "      <td id=\"T_0cee5_row0_col6\" class=\"data row0 col6\" >0.5875</td>\n",
              "    </tr>\n",
              "    <tr>\n",
              "      <th id=\"T_0cee5_level0_row1\" class=\"row_heading level0 row1\" >1</th>\n",
              "      <td id=\"T_0cee5_row1_col0\" class=\"data row1 col0\" >0.8629</td>\n",
              "      <td id=\"T_0cee5_row1_col1\" class=\"data row1 col1\" >0.8540</td>\n",
              "      <td id=\"T_0cee5_row1_col2\" class=\"data row1 col2\" >0.4615</td>\n",
              "      <td id=\"T_0cee5_row1_col3\" class=\"data row1 col3\" >0.7765</td>\n",
              "      <td id=\"T_0cee5_row1_col4\" class=\"data row1 col4\" >0.5789</td>\n",
              "      <td id=\"T_0cee5_row1_col5\" class=\"data row1 col5\" >0.5033</td>\n",
              "      <td id=\"T_0cee5_row1_col6\" class=\"data row1 col6\" >0.5276</td>\n",
              "    </tr>\n",
              "    <tr>\n",
              "      <th id=\"T_0cee5_level0_row2\" class=\"row_heading level0 row2\" >2</th>\n",
              "      <td id=\"T_0cee5_row2_col0\" class=\"data row2 col0\" >0.8529</td>\n",
              "      <td id=\"T_0cee5_row2_col1\" class=\"data row2 col1\" >0.8145</td>\n",
              "      <td id=\"T_0cee5_row2_col2\" class=\"data row2 col2\" >0.4056</td>\n",
              "      <td id=\"T_0cee5_row2_col3\" class=\"data row2 col3\" >0.7632</td>\n",
              "      <td id=\"T_0cee5_row2_col4\" class=\"data row2 col4\" >0.5297</td>\n",
              "      <td id=\"T_0cee5_row2_col5\" class=\"data row2 col5\" >0.4520</td>\n",
              "      <td id=\"T_0cee5_row2_col6\" class=\"data row2 col6\" >0.4838</td>\n",
              "    </tr>\n",
              "    <tr>\n",
              "      <th id=\"T_0cee5_level0_row3\" class=\"row_heading level0 row3\" >3</th>\n",
              "      <td id=\"T_0cee5_row3_col0\" class=\"data row3 col0\" >0.8586</td>\n",
              "      <td id=\"T_0cee5_row3_col1\" class=\"data row3 col1\" >0.8500</td>\n",
              "      <td id=\"T_0cee5_row3_col2\" class=\"data row3 col2\" >0.4406</td>\n",
              "      <td id=\"T_0cee5_row3_col3\" class=\"data row3 col3\" >0.7683</td>\n",
              "      <td id=\"T_0cee5_row3_col4\" class=\"data row3 col4\" >0.5600</td>\n",
              "      <td id=\"T_0cee5_row3_col5\" class=\"data row3 col5\" >0.4830</td>\n",
              "      <td id=\"T_0cee5_row3_col6\" class=\"data row3 col6\" >0.5096</td>\n",
              "    </tr>\n",
              "    <tr>\n",
              "      <th id=\"T_0cee5_level0_row4\" class=\"row_heading level0 row4\" >4</th>\n",
              "      <td id=\"T_0cee5_row4_col0\" class=\"data row4 col0\" >0.8443</td>\n",
              "      <td id=\"T_0cee5_row4_col1\" class=\"data row4 col1\" >0.8141</td>\n",
              "      <td id=\"T_0cee5_row4_col2\" class=\"data row4 col2\" >0.4196</td>\n",
              "      <td id=\"T_0cee5_row4_col3\" class=\"data row4 col3\" >0.6977</td>\n",
              "      <td id=\"T_0cee5_row4_col4\" class=\"data row4 col4\" >0.5240</td>\n",
              "      <td id=\"T_0cee5_row4_col5\" class=\"data row4 col5\" >0.4377</td>\n",
              "      <td id=\"T_0cee5_row4_col6\" class=\"data row4 col6\" >0.4580</td>\n",
              "    </tr>\n",
              "    <tr>\n",
              "      <th id=\"T_0cee5_level0_row5\" class=\"row_heading level0 row5\" >5</th>\n",
              "      <td id=\"T_0cee5_row5_col0\" class=\"data row5 col0\" >0.8629</td>\n",
              "      <td id=\"T_0cee5_row5_col1\" class=\"data row5 col1\" >0.8470</td>\n",
              "      <td id=\"T_0cee5_row5_col2\" class=\"data row5 col2\" >0.4336</td>\n",
              "      <td id=\"T_0cee5_row5_col3\" class=\"data row5 col3\" >0.8052</td>\n",
              "      <td id=\"T_0cee5_row5_col4\" class=\"data row5 col4\" >0.5636</td>\n",
              "      <td id=\"T_0cee5_row5_col5\" class=\"data row5 col5\" >0.4908</td>\n",
              "      <td id=\"T_0cee5_row5_col6\" class=\"data row5 col6\" >0.5240</td>\n",
              "    </tr>\n",
              "    <tr>\n",
              "      <th id=\"T_0cee5_level0_row6\" class=\"row_heading level0 row6\" >6</th>\n",
              "      <td id=\"T_0cee5_row6_col0\" class=\"data row6 col0\" >0.8629</td>\n",
              "      <td id=\"T_0cee5_row6_col1\" class=\"data row6 col1\" >0.8539</td>\n",
              "      <td id=\"T_0cee5_row6_col2\" class=\"data row6 col2\" >0.4225</td>\n",
              "      <td id=\"T_0cee5_row6_col3\" class=\"data row6 col3\" >0.8108</td>\n",
              "      <td id=\"T_0cee5_row6_col4\" class=\"data row6 col4\" >0.5556</td>\n",
              "      <td id=\"T_0cee5_row6_col5\" class=\"data row6 col5\" >0.4838</td>\n",
              "      <td id=\"T_0cee5_row6_col6\" class=\"data row6 col6\" >0.5198</td>\n",
              "    </tr>\n",
              "    <tr>\n",
              "      <th id=\"T_0cee5_level0_row7\" class=\"row_heading level0 row7\" >7</th>\n",
              "      <td id=\"T_0cee5_row7_col0\" class=\"data row7 col0\" >0.8429</td>\n",
              "      <td id=\"T_0cee5_row7_col1\" class=\"data row7 col1\" >0.8370</td>\n",
              "      <td id=\"T_0cee5_row7_col2\" class=\"data row7 col2\" >0.4296</td>\n",
              "      <td id=\"T_0cee5_row7_col3\" class=\"data row7 col3\" >0.6778</td>\n",
              "      <td id=\"T_0cee5_row7_col4\" class=\"data row7 col4\" >0.5259</td>\n",
              "      <td id=\"T_0cee5_row7_col5\" class=\"data row7 col5\" >0.4373</td>\n",
              "      <td id=\"T_0cee5_row7_col6\" class=\"data row7 col6\" >0.4536</td>\n",
              "    </tr>\n",
              "    <tr>\n",
              "      <th id=\"T_0cee5_level0_row8\" class=\"row_heading level0 row8\" >8</th>\n",
              "      <td id=\"T_0cee5_row8_col0\" class=\"data row8 col0\" >0.8714</td>\n",
              "      <td id=\"T_0cee5_row8_col1\" class=\"data row8 col1\" >0.8746</td>\n",
              "      <td id=\"T_0cee5_row8_col2\" class=\"data row8 col2\" >0.4859</td>\n",
              "      <td id=\"T_0cee5_row8_col3\" class=\"data row8 col3\" >0.8023</td>\n",
              "      <td id=\"T_0cee5_row8_col4\" class=\"data row8 col4\" >0.6053</td>\n",
              "      <td id=\"T_0cee5_row8_col5\" class=\"data row8 col5\" >0.5339</td>\n",
              "      <td id=\"T_0cee5_row8_col6\" class=\"data row8 col6\" >0.5579</td>\n",
              "    </tr>\n",
              "    <tr>\n",
              "      <th id=\"T_0cee5_level0_row9\" class=\"row_heading level0 row9\" >9</th>\n",
              "      <td id=\"T_0cee5_row9_col0\" class=\"data row9 col0\" >0.8743</td>\n",
              "      <td id=\"T_0cee5_row9_col1\" class=\"data row9 col1\" >0.8541</td>\n",
              "      <td id=\"T_0cee5_row9_col2\" class=\"data row9 col2\" >0.5493</td>\n",
              "      <td id=\"T_0cee5_row9_col3\" class=\"data row9 col3\" >0.7647</td>\n",
              "      <td id=\"T_0cee5_row9_col4\" class=\"data row9 col4\" >0.6393</td>\n",
              "      <td id=\"T_0cee5_row9_col5\" class=\"data row9 col5\" >0.5657</td>\n",
              "      <td id=\"T_0cee5_row9_col6\" class=\"data row9 col6\" >0.5770</td>\n",
              "    </tr>\n",
              "    <tr>\n",
              "      <th id=\"T_0cee5_level0_row10\" class=\"row_heading level0 row10\" >Mean</th>\n",
              "      <td id=\"T_0cee5_row10_col0\" class=\"data row10 col0\" >0.8611</td>\n",
              "      <td id=\"T_0cee5_row10_col1\" class=\"data row10 col1\" >0.8460</td>\n",
              "      <td id=\"T_0cee5_row10_col2\" class=\"data row10 col2\" >0.4552</td>\n",
              "      <td id=\"T_0cee5_row10_col3\" class=\"data row10 col3\" >0.7704</td>\n",
              "      <td id=\"T_0cee5_row10_col4\" class=\"data row10 col4\" >0.5711</td>\n",
              "      <td id=\"T_0cee5_row10_col5\" class=\"data row10 col5\" >0.4949</td>\n",
              "      <td id=\"T_0cee5_row10_col6\" class=\"data row10 col6\" >0.5199</td>\n",
              "    </tr>\n",
              "    <tr>\n",
              "      <th id=\"T_0cee5_level0_row11\" class=\"row_heading level0 row11\" >Std</th>\n",
              "      <td id=\"T_0cee5_row11_col0\" class=\"data row11 col0\" >0.0113</td>\n",
              "      <td id=\"T_0cee5_row11_col1\" class=\"data row11 col1\" >0.0182</td>\n",
              "      <td id=\"T_0cee5_row11_col2\" class=\"data row11 col2\" >0.0428</td>\n",
              "      <td id=\"T_0cee5_row11_col3\" class=\"data row11 col3\" >0.0472</td>\n",
              "      <td id=\"T_0cee5_row11_col4\" class=\"data row11 col4\" >0.0395</td>\n",
              "      <td id=\"T_0cee5_row11_col5\" class=\"data row11 col5\" >0.0444</td>\n",
              "      <td id=\"T_0cee5_row11_col6\" class=\"data row11 col6\" >0.0436</td>\n",
              "    </tr>\n",
              "  </tbody>\n",
              "</table>\n"
            ],
            "text/plain": [
              "<pandas.io.formats.style.Styler at 0x7e5e7b2be590>"
            ]
          },
          "metadata": {},
          "output_type": "display_data"
        },
        {
          "data": {
            "application/vnd.jupyter.widget-view+json": {
              "model_id": "5268f107eae8434a84e76398d80da24f",
              "version_major": 2,
              "version_minor": 0
            },
            "text/plain": [
              "Processing:   0%|          | 0/4 [00:00<?, ?it/s]"
            ]
          },
          "metadata": {
            "application/vnd.jupyter.widget-view+json": {
              "colab": {
                "custom_widget_manager": {
                  "url": "https://ssl.gstatic.com/colaboratory-static/widgets/colab-cdn-widget-manager/2b70e893a8ba7c0f/manager.min.js"
                }
              }
            }
          },
          "output_type": "display_data"
        },
        {
          "data": {
            "text/html": [],
            "text/plain": [
              "<IPython.core.display.HTML object>"
            ]
          },
          "metadata": {},
          "output_type": "display_data"
        }
      ],
      "source": [
        "lightgbm = create_model('lightgbm');\n",
        "rf  = create_model('rf');"
      ]
    },
    {
      "cell_type": "code",
      "execution_count": null,
      "metadata": {
        "colab": {
          "base_uri": "https://localhost:8080/",
          "height": 457,
          "referenced_widgets": [
            "d79613fa887e4754a7b432fead6bfa70",
            "642de79c548e45dd95d4e72e8a6b04dc",
            "fa7acea06855473a94fdb10b0de31a58",
            "d0b169a2382044c89816fdae176daa63",
            "da233e0e57684d3e9057fe092fae5020",
            "08bddc7da0f84a41b9e84833660a82dd",
            "5e0e87ca03d641cda15e249f026d5f27",
            "7a4c81638eb84383ad4d70f5255cc334",
            "819e078172b742f78f1c9eb5e7bcd50b",
            "ec3244a92c8d45318013b662c02084d4",
            "c8fdec2650f246d4acc6537a01fda017"
          ]
        },
        "id": "GGwF11sduydF",
        "outputId": "aa1738b1-805f-47b1-9bd1-18ca8a35723c"
      },
      "outputs": [
        {
          "data": {
            "text/html": [],
            "text/plain": [
              "<IPython.core.display.HTML object>"
            ]
          },
          "metadata": {},
          "output_type": "display_data"
        },
        {
          "data": {
            "text/html": [
              "<style type=\"text/css\">\n",
              "#T_5db72_row10_col0, #T_5db72_row10_col1, #T_5db72_row10_col2, #T_5db72_row10_col3, #T_5db72_row10_col4, #T_5db72_row10_col5, #T_5db72_row10_col6 {\n",
              "  background: yellow;\n",
              "}\n",
              "</style>\n",
              "<table id=\"T_5db72\" class=\"dataframe\">\n",
              "  <thead>\n",
              "    <tr>\n",
              "      <th class=\"blank level0\" >&nbsp;</th>\n",
              "      <th id=\"T_5db72_level0_col0\" class=\"col_heading level0 col0\" >Accuracy</th>\n",
              "      <th id=\"T_5db72_level0_col1\" class=\"col_heading level0 col1\" >AUC</th>\n",
              "      <th id=\"T_5db72_level0_col2\" class=\"col_heading level0 col2\" >Recall</th>\n",
              "      <th id=\"T_5db72_level0_col3\" class=\"col_heading level0 col3\" >Prec.</th>\n",
              "      <th id=\"T_5db72_level0_col4\" class=\"col_heading level0 col4\" >F1</th>\n",
              "      <th id=\"T_5db72_level0_col5\" class=\"col_heading level0 col5\" >Kappa</th>\n",
              "      <th id=\"T_5db72_level0_col6\" class=\"col_heading level0 col6\" >MCC</th>\n",
              "    </tr>\n",
              "    <tr>\n",
              "      <th class=\"index_name level0\" >Fold</th>\n",
              "      <th class=\"blank col0\" >&nbsp;</th>\n",
              "      <th class=\"blank col1\" >&nbsp;</th>\n",
              "      <th class=\"blank col2\" >&nbsp;</th>\n",
              "      <th class=\"blank col3\" >&nbsp;</th>\n",
              "      <th class=\"blank col4\" >&nbsp;</th>\n",
              "      <th class=\"blank col5\" >&nbsp;</th>\n",
              "      <th class=\"blank col6\" >&nbsp;</th>\n",
              "    </tr>\n",
              "  </thead>\n",
              "  <tbody>\n",
              "    <tr>\n",
              "      <th id=\"T_5db72_level0_row0\" class=\"row_heading level0 row0\" >0</th>\n",
              "      <td id=\"T_5db72_row0_col0\" class=\"data row0 col0\" >0.8743</td>\n",
              "      <td id=\"T_5db72_row0_col1\" class=\"data row0 col1\" >0.8695</td>\n",
              "      <td id=\"T_5db72_row0_col2\" class=\"data row0 col2\" >0.4965</td>\n",
              "      <td id=\"T_5db72_row0_col3\" class=\"data row0 col3\" >0.8161</td>\n",
              "      <td id=\"T_5db72_row0_col4\" class=\"data row0 col4\" >0.6174</td>\n",
              "      <td id=\"T_5db72_row0_col5\" class=\"data row0 col5\" >0.5475</td>\n",
              "      <td id=\"T_5db72_row0_col6\" class=\"data row0 col6\" >0.5717</td>\n",
              "    </tr>\n",
              "    <tr>\n",
              "      <th id=\"T_5db72_level0_row1\" class=\"row_heading level0 row1\" >1</th>\n",
              "      <td id=\"T_5db72_row1_col0\" class=\"data row1 col0\" >0.8643</td>\n",
              "      <td id=\"T_5db72_row1_col1\" class=\"data row1 col1\" >0.8710</td>\n",
              "      <td id=\"T_5db72_row1_col2\" class=\"data row1 col2\" >0.4685</td>\n",
              "      <td id=\"T_5db72_row1_col3\" class=\"data row1 col3\" >0.7791</td>\n",
              "      <td id=\"T_5db72_row1_col4\" class=\"data row1 col4\" >0.5852</td>\n",
              "      <td id=\"T_5db72_row1_col5\" class=\"data row1 col5\" >0.5100</td>\n",
              "      <td id=\"T_5db72_row1_col6\" class=\"data row1 col6\" >0.5335</td>\n",
              "    </tr>\n",
              "    <tr>\n",
              "      <th id=\"T_5db72_level0_row2\" class=\"row_heading level0 row2\" >2</th>\n",
              "      <td id=\"T_5db72_row2_col0\" class=\"data row2 col0\" >0.8529</td>\n",
              "      <td id=\"T_5db72_row2_col1\" class=\"data row2 col1\" >0.8252</td>\n",
              "      <td id=\"T_5db72_row2_col2\" class=\"data row2 col2\" >0.4056</td>\n",
              "      <td id=\"T_5db72_row2_col3\" class=\"data row2 col3\" >0.7632</td>\n",
              "      <td id=\"T_5db72_row2_col4\" class=\"data row2 col4\" >0.5297</td>\n",
              "      <td id=\"T_5db72_row2_col5\" class=\"data row2 col5\" >0.4520</td>\n",
              "      <td id=\"T_5db72_row2_col6\" class=\"data row2 col6\" >0.4838</td>\n",
              "    </tr>\n",
              "    <tr>\n",
              "      <th id=\"T_5db72_level0_row3\" class=\"row_heading level0 row3\" >3</th>\n",
              "      <td id=\"T_5db72_row3_col0\" class=\"data row3 col0\" >0.8629</td>\n",
              "      <td id=\"T_5db72_row3_col1\" class=\"data row3 col1\" >0.8693</td>\n",
              "      <td id=\"T_5db72_row3_col2\" class=\"data row3 col2\" >0.4615</td>\n",
              "      <td id=\"T_5db72_row3_col3\" class=\"data row3 col3\" >0.7765</td>\n",
              "      <td id=\"T_5db72_row3_col4\" class=\"data row3 col4\" >0.5789</td>\n",
              "      <td id=\"T_5db72_row3_col5\" class=\"data row3 col5\" >0.5033</td>\n",
              "      <td id=\"T_5db72_row3_col6\" class=\"data row3 col6\" >0.5276</td>\n",
              "    </tr>\n",
              "    <tr>\n",
              "      <th id=\"T_5db72_level0_row4\" class=\"row_heading level0 row4\" >4</th>\n",
              "      <td id=\"T_5db72_row4_col0\" class=\"data row4 col0\" >0.8400</td>\n",
              "      <td id=\"T_5db72_row4_col1\" class=\"data row4 col1\" >0.8293</td>\n",
              "      <td id=\"T_5db72_row4_col2\" class=\"data row4 col2\" >0.4336</td>\n",
              "      <td id=\"T_5db72_row4_col3\" class=\"data row4 col3\" >0.6667</td>\n",
              "      <td id=\"T_5db72_row4_col4\" class=\"data row4 col4\" >0.5254</td>\n",
              "      <td id=\"T_5db72_row4_col5\" class=\"data row4 col5\" >0.4344</td>\n",
              "      <td id=\"T_5db72_row4_col6\" class=\"data row4 col6\" >0.4489</td>\n",
              "    </tr>\n",
              "    <tr>\n",
              "      <th id=\"T_5db72_level0_row5\" class=\"row_heading level0 row5\" >5</th>\n",
              "      <td id=\"T_5db72_row5_col0\" class=\"data row5 col0\" >0.8757</td>\n",
              "      <td id=\"T_5db72_row5_col1\" class=\"data row5 col1\" >0.8762</td>\n",
              "      <td id=\"T_5db72_row5_col2\" class=\"data row5 col2\" >0.4825</td>\n",
              "      <td id=\"T_5db72_row5_col3\" class=\"data row5 col3\" >0.8415</td>\n",
              "      <td id=\"T_5db72_row5_col4\" class=\"data row5 col4\" >0.6133</td>\n",
              "      <td id=\"T_5db72_row5_col5\" class=\"data row5 col5\" >0.5457</td>\n",
              "      <td id=\"T_5db72_row5_col6\" class=\"data row5 col6\" >0.5757</td>\n",
              "    </tr>\n",
              "    <tr>\n",
              "      <th id=\"T_5db72_level0_row6\" class=\"row_heading level0 row6\" >6</th>\n",
              "      <td id=\"T_5db72_row6_col0\" class=\"data row6 col0\" >0.8586</td>\n",
              "      <td id=\"T_5db72_row6_col1\" class=\"data row6 col1\" >0.8706</td>\n",
              "      <td id=\"T_5db72_row6_col2\" class=\"data row6 col2\" >0.4296</td>\n",
              "      <td id=\"T_5db72_row6_col3\" class=\"data row6 col3\" >0.7722</td>\n",
              "      <td id=\"T_5db72_row6_col4\" class=\"data row6 col4\" >0.5520</td>\n",
              "      <td id=\"T_5db72_row6_col5\" class=\"data row6 col5\" >0.4760</td>\n",
              "      <td id=\"T_5db72_row6_col6\" class=\"data row6 col6\" >0.5049</td>\n",
              "    </tr>\n",
              "    <tr>\n",
              "      <th id=\"T_5db72_level0_row7\" class=\"row_heading level0 row7\" >7</th>\n",
              "      <td id=\"T_5db72_row7_col0\" class=\"data row7 col0\" >0.8529</td>\n",
              "      <td id=\"T_5db72_row7_col1\" class=\"data row7 col1\" >0.8488</td>\n",
              "      <td id=\"T_5db72_row7_col2\" class=\"data row7 col2\" >0.4437</td>\n",
              "      <td id=\"T_5db72_row7_col3\" class=\"data row7 col3\" >0.7241</td>\n",
              "      <td id=\"T_5db72_row7_col4\" class=\"data row7 col4\" >0.5502</td>\n",
              "      <td id=\"T_5db72_row7_col5\" class=\"data row7 col5\" >0.4683</td>\n",
              "      <td id=\"T_5db72_row7_col6\" class=\"data row7 col6\" >0.4884</td>\n",
              "    </tr>\n",
              "    <tr>\n",
              "      <th id=\"T_5db72_level0_row8\" class=\"row_heading level0 row8\" >8</th>\n",
              "      <td id=\"T_5db72_row8_col0\" class=\"data row8 col0\" >0.8729</td>\n",
              "      <td id=\"T_5db72_row8_col1\" class=\"data row8 col1\" >0.8810</td>\n",
              "      <td id=\"T_5db72_row8_col2\" class=\"data row8 col2\" >0.5000</td>\n",
              "      <td id=\"T_5db72_row8_col3\" class=\"data row8 col3\" >0.7978</td>\n",
              "      <td id=\"T_5db72_row8_col4\" class=\"data row8 col4\" >0.6147</td>\n",
              "      <td id=\"T_5db72_row8_col5\" class=\"data row8 col5\" >0.5433</td>\n",
              "      <td id=\"T_5db72_row8_col6\" class=\"data row8 col6\" >0.5646</td>\n",
              "    </tr>\n",
              "    <tr>\n",
              "      <th id=\"T_5db72_level0_row9\" class=\"row_heading level0 row9\" >9</th>\n",
              "      <td id=\"T_5db72_row9_col0\" class=\"data row9 col0\" >0.8686</td>\n",
              "      <td id=\"T_5db72_row9_col1\" class=\"data row9 col1\" >0.8613</td>\n",
              "      <td id=\"T_5db72_row9_col2\" class=\"data row9 col2\" >0.5070</td>\n",
              "      <td id=\"T_5db72_row9_col3\" class=\"data row9 col3\" >0.7660</td>\n",
              "      <td id=\"T_5db72_row9_col4\" class=\"data row9 col4\" >0.6102</td>\n",
              "      <td id=\"T_5db72_row9_col5\" class=\"data row9 col5\" >0.5350</td>\n",
              "      <td id=\"T_5db72_row9_col6\" class=\"data row9 col6\" >0.5515</td>\n",
              "    </tr>\n",
              "    <tr>\n",
              "      <th id=\"T_5db72_level0_row10\" class=\"row_heading level0 row10\" >Mean</th>\n",
              "      <td id=\"T_5db72_row10_col0\" class=\"data row10 col0\" >0.8623</td>\n",
              "      <td id=\"T_5db72_row10_col1\" class=\"data row10 col1\" >0.8602</td>\n",
              "      <td id=\"T_5db72_row10_col2\" class=\"data row10 col2\" >0.4629</td>\n",
              "      <td id=\"T_5db72_row10_col3\" class=\"data row10 col3\" >0.7703</td>\n",
              "      <td id=\"T_5db72_row10_col4\" class=\"data row10 col4\" >0.5777</td>\n",
              "      <td id=\"T_5db72_row10_col5\" class=\"data row10 col5\" >0.5015</td>\n",
              "      <td id=\"T_5db72_row10_col6\" class=\"data row10 col6\" >0.5251</td>\n",
              "    </tr>\n",
              "    <tr>\n",
              "      <th id=\"T_5db72_level0_row11\" class=\"row_heading level0 row11\" >Std</th>\n",
              "      <td id=\"T_5db72_row11_col0\" class=\"data row11 col0\" >0.0108</td>\n",
              "      <td id=\"T_5db72_row11_col1\" class=\"data row11 col1\" >0.0184</td>\n",
              "      <td id=\"T_5db72_row11_col2\" class=\"data row11 col2\" >0.0324</td>\n",
              "      <td id=\"T_5db72_row11_col3\" class=\"data row11 col3\" >0.0458</td>\n",
              "      <td id=\"T_5db72_row11_col4\" class=\"data row11 col4\" >0.0343</td>\n",
              "      <td id=\"T_5db72_row11_col5\" class=\"data row11 col5\" >0.0397</td>\n",
              "      <td id=\"T_5db72_row11_col6\" class=\"data row11 col6\" >0.0404</td>\n",
              "    </tr>\n",
              "  </tbody>\n",
              "</table>\n"
            ],
            "text/plain": [
              "<pandas.io.formats.style.Styler at 0x7e5e89d15150>"
            ]
          },
          "metadata": {},
          "output_type": "display_data"
        },
        {
          "data": {
            "application/vnd.jupyter.widget-view+json": {
              "model_id": "d79613fa887e4754a7b432fead6bfa70",
              "version_major": 2,
              "version_minor": 0
            },
            "text/plain": [
              "Processing:   0%|          | 0/6 [00:00<?, ?it/s]"
            ]
          },
          "metadata": {
            "application/vnd.jupyter.widget-view+json": {
              "colab": {
                "custom_widget_manager": {
                  "url": "https://ssl.gstatic.com/colaboratory-static/widgets/colab-cdn-widget-manager/2b70e893a8ba7c0f/manager.min.js"
                }
              }
            }
          },
          "output_type": "display_data"
        },
        {
          "data": {
            "text/html": [],
            "text/plain": [
              "<IPython.core.display.HTML object>"
            ]
          },
          "metadata": {},
          "output_type": "display_data"
        }
      ],
      "source": [
        "blend = blend_models(estimator_list=[lightgbm,rf,gbc])"
      ]
    },
    {
      "cell_type": "markdown",
      "metadata": {
        "id": "RHWf1Wluy0Fw"
      },
      "source": [
        "<div align='left'><font size=\"5\" color=\"#FF0000\">Model Evaluation</font></div>\n",
        "<hr>"
      ]
    },
    {
      "cell_type": "code",
      "execution_count": null,
      "metadata": {
        "colab": {
          "base_uri": "https://localhost:8080/",
          "height": 582
        },
        "id": "tmmXF5B2zsXC",
        "outputId": "692c52ca-fff2-4f1a-efd1-5d01e257f317"
      },
      "outputs": [
        {
          "name": "stdout",
          "output_type": "stream",
          "text": [
            "Requirement already satisfied: yellowbrick in /usr/local/lib/python3.10/dist-packages (1.5)\n",
            "Requirement already satisfied: scikit-learn in /usr/local/lib/python3.10/dist-packages (1.2.2)\n",
            "Collecting scikit-learn\n",
            "  Using cached scikit_learn-1.4.0-1-cp310-cp310-manylinux_2_17_x86_64.manylinux2014_x86_64.whl (12.1 MB)\n",
            "Requirement already satisfied: matplotlib!=3.0.0,>=2.0.2 in /usr/local/lib/python3.10/dist-packages (from yellowbrick) (3.6.0)\n",
            "Requirement already satisfied: scipy>=1.0.0 in /usr/local/lib/python3.10/dist-packages (from yellowbrick) (1.10.1)\n",
            "Requirement already satisfied: numpy>=1.16.0 in /usr/local/lib/python3.10/dist-packages (from yellowbrick) (1.23.5)\n",
            "Requirement already satisfied: cycler>=0.10.0 in /usr/local/lib/python3.10/dist-packages (from yellowbrick) (0.12.1)\n",
            "Requirement already satisfied: joblib>=1.2.0 in /usr/local/lib/python3.10/dist-packages (from scikit-learn) (1.3.2)\n",
            "Requirement already satisfied: threadpoolctl>=2.0.0 in /usr/local/lib/python3.10/dist-packages (from scikit-learn) (3.2.0)\n",
            "Requirement already satisfied: contourpy>=1.0.1 in /usr/local/lib/python3.10/dist-packages (from matplotlib!=3.0.0,>=2.0.2->yellowbrick) (1.2.0)\n",
            "Requirement already satisfied: fonttools>=4.22.0 in /usr/local/lib/python3.10/dist-packages (from matplotlib!=3.0.0,>=2.0.2->yellowbrick) (4.47.2)\n",
            "Requirement already satisfied: kiwisolver>=1.0.1 in /usr/local/lib/python3.10/dist-packages (from matplotlib!=3.0.0,>=2.0.2->yellowbrick) (1.4.5)\n",
            "Requirement already satisfied: packaging>=20.0 in /usr/local/lib/python3.10/dist-packages (from matplotlib!=3.0.0,>=2.0.2->yellowbrick) (23.2)\n",
            "Requirement already satisfied: pillow>=6.2.0 in /usr/local/lib/python3.10/dist-packages (from matplotlib!=3.0.0,>=2.0.2->yellowbrick) (9.4.0)\n",
            "Requirement already satisfied: pyparsing>=2.2.1 in /usr/local/lib/python3.10/dist-packages (from matplotlib!=3.0.0,>=2.0.2->yellowbrick) (3.1.1)\n",
            "Requirement already satisfied: python-dateutil>=2.7 in /usr/local/lib/python3.10/dist-packages (from matplotlib!=3.0.0,>=2.0.2->yellowbrick) (2.8.2)\n",
            "Requirement already satisfied: six>=1.5 in /usr/local/lib/python3.10/dist-packages (from python-dateutil>=2.7->matplotlib!=3.0.0,>=2.0.2->yellowbrick) (1.16.0)\n",
            "Installing collected packages: scikit-learn\n",
            "  Attempting uninstall: scikit-learn\n",
            "    Found existing installation: scikit-learn 1.2.2\n",
            "    Uninstalling scikit-learn-1.2.2:\n",
            "      Successfully uninstalled scikit-learn-1.2.2\n",
            "\u001b[31mERROR: pip's dependency resolver does not currently take into account all the packages that are installed. This behaviour is the source of the following dependency conflicts.\n",
            "pycaret 3.2.0 requires scikit-learn<1.3.0,>=1.0, but you have scikit-learn 1.4.0 which is incompatible.\n",
            "sktime 0.21.1 requires scikit-learn<1.4.0,>=0.24.0, but you have scikit-learn 1.4.0 which is incompatible.\u001b[0m\u001b[31m\n",
            "\u001b[0mSuccessfully installed scikit-learn-1.4.0\n"
          ]
        },
        {
          "data": {
            "application/vnd.colab-display-data+json": {
              "pip_warning": {
                "packages": [
                  "sklearn"
                ]
              }
            }
          },
          "metadata": {},
          "output_type": "display_data"
        }
      ],
      "source": [
        "!pip install -U yellowbrick scikit-learn"
      ]
    },
    {
      "cell_type": "code",
      "execution_count": null,
      "metadata": {
        "colab": {
          "base_uri": "https://localhost:8080/"
        },
        "id": "pprfBLF21YNa",
        "outputId": "c7b3a9a4-e1c0-4897-e78e-fe573db316b4"
      },
      "outputs": [
        {
          "name": "stdout",
          "output_type": "stream",
          "text": [
            "Collecting yellowbrick==1.3\n",
            "  Downloading yellowbrick-1.3-py3-none-any.whl (271 kB)\n",
            "\u001b[2K     \u001b[90m━━━━━━━━━━━━━━━━━━━━━━━━━━━━━━━━━━━━━━━━\u001b[0m \u001b[32m271.3/271.3 kB\u001b[0m \u001b[31m2.0 MB/s\u001b[0m eta \u001b[36m0:00:00\u001b[0m\n",
            "\u001b[?25hRequirement already satisfied: matplotlib!=3.0.0,>=2.0.2 in /usr/local/lib/python3.10/dist-packages (from yellowbrick==1.3) (3.6.0)\n",
            "Requirement already satisfied: scipy>=1.0.0 in /usr/local/lib/python3.10/dist-packages (from yellowbrick==1.3) (1.10.1)\n",
            "Requirement already satisfied: scikit-learn>=0.20 in /usr/local/lib/python3.10/dist-packages (from yellowbrick==1.3) (1.4.0)\n",
            "Collecting numpy<1.20,>=1.16.0 (from yellowbrick==1.3)\n",
            "  Downloading numpy-1.19.5.zip (7.3 MB)\n",
            "\u001b[2K     \u001b[90m━━━━━━━━━━━━━━━━━━━━━━━━━━━━━━━━━━━━━━━━\u001b[0m \u001b[32m7.3/7.3 MB\u001b[0m \u001b[31m25.1 MB/s\u001b[0m eta \u001b[36m0:00:00\u001b[0m\n",
            "\u001b[?25h  Installing build dependencies ... \u001b[?25l\u001b[?25hdone\n",
            "  Getting requirements to build wheel ... \u001b[?25l\u001b[?25hdone\n",
            "  Preparing metadata (pyproject.toml) ... \u001b[?25l\u001b[?25hdone\n",
            "Requirement already satisfied: cycler>=0.10.0 in /usr/local/lib/python3.10/dist-packages (from yellowbrick==1.3) (0.12.1)\n",
            "Requirement already satisfied: contourpy>=1.0.1 in /usr/local/lib/python3.10/dist-packages (from matplotlib!=3.0.0,>=2.0.2->yellowbrick==1.3) (1.2.0)\n",
            "Requirement already satisfied: fonttools>=4.22.0 in /usr/local/lib/python3.10/dist-packages (from matplotlib!=3.0.0,>=2.0.2->yellowbrick==1.3) (4.47.2)\n",
            "Requirement already satisfied: kiwisolver>=1.0.1 in /usr/local/lib/python3.10/dist-packages (from matplotlib!=3.0.0,>=2.0.2->yellowbrick==1.3) (1.4.5)\n",
            "Requirement already satisfied: packaging>=20.0 in /usr/local/lib/python3.10/dist-packages (from matplotlib!=3.0.0,>=2.0.2->yellowbrick==1.3) (23.2)\n",
            "Requirement already satisfied: pillow>=6.2.0 in /usr/local/lib/python3.10/dist-packages (from matplotlib!=3.0.0,>=2.0.2->yellowbrick==1.3) (9.4.0)\n",
            "Requirement already satisfied: pyparsing>=2.2.1 in /usr/local/lib/python3.10/dist-packages (from matplotlib!=3.0.0,>=2.0.2->yellowbrick==1.3) (3.1.1)\n",
            "Requirement already satisfied: python-dateutil>=2.7 in /usr/local/lib/python3.10/dist-packages (from matplotlib!=3.0.0,>=2.0.2->yellowbrick==1.3) (2.8.2)\n",
            "Requirement already satisfied: joblib>=1.2.0 in /usr/local/lib/python3.10/dist-packages (from scikit-learn>=0.20->yellowbrick==1.3) (1.3.2)\n",
            "Requirement already satisfied: threadpoolctl>=2.0.0 in /usr/local/lib/python3.10/dist-packages (from scikit-learn>=0.20->yellowbrick==1.3) (3.2.0)\n",
            "INFO: pip is looking at multiple versions of contourpy to determine which version is compatible with other requirements. This could take a while.\n",
            "Collecting contourpy>=1.0.1 (from matplotlib!=3.0.0,>=2.0.2->yellowbrick==1.3)\n",
            "  Downloading contourpy-1.1.1-cp310-cp310-manylinux_2_17_x86_64.manylinux2014_x86_64.whl (301 kB)\n",
            "\u001b[2K     \u001b[90m━━━━━━━━━━━━━━━━━━━━━━━━━━━━━━━━━━━━━━━━\u001b[0m \u001b[32m301.7/301.7 kB\u001b[0m \u001b[31m30.7 MB/s\u001b[0m eta \u001b[36m0:00:00\u001b[0m\n",
            "\u001b[?25hRequirement already satisfied: six>=1.5 in /usr/local/lib/python3.10/dist-packages (from python-dateutil>=2.7->matplotlib!=3.0.0,>=2.0.2->yellowbrick==1.3) (1.16.0)\n",
            "Building wheels for collected packages: numpy\n",
            "  \u001b[1;31merror\u001b[0m: \u001b[1msubprocess-exited-with-error\u001b[0m\n",
            "  \n",
            "  \u001b[31m×\u001b[0m \u001b[32mBuilding wheel for numpy \u001b[0m\u001b[1;32m(\u001b[0m\u001b[32mpyproject.toml\u001b[0m\u001b[1;32m)\u001b[0m did not run successfully.\n",
            "  \u001b[31m│\u001b[0m exit code: \u001b[1;36m1\u001b[0m\n",
            "  \u001b[31m╰─>\u001b[0m See above for output.\n",
            "  \n",
            "  \u001b[1;35mnote\u001b[0m: This error originates from a subprocess, and is likely not a problem with pip.\n",
            "  Building wheel for numpy (pyproject.toml) ... \u001b[?25l\u001b[?25herror\n",
            "\u001b[31m  ERROR: Failed building wheel for numpy\u001b[0m\u001b[31m\n",
            "\u001b[0mFailed to build numpy\n",
            "\u001b[31mERROR: Could not build wheels for numpy, which is required to install pyproject.toml-based projects\u001b[0m\u001b[31m\n",
            "\u001b[0m"
          ]
        }
      ],
      "source": [
        "!pip install yellowbrick==1.3"
      ]
    },
    {
      "cell_type": "code",
      "execution_count": null,
      "metadata": {
        "colab": {
          "base_uri": "https://localhost:8080/",
          "height": 443
        },
        "id": "1tIF-z0aymPY",
        "outputId": "049aee3a-4f97-4ca2-97e8-2afb578694ee"
      },
      "outputs": [
        {
          "data": {
            "text/html": [],
            "text/plain": [
              "<IPython.core.display.HTML object>"
            ]
          },
          "metadata": {},
          "output_type": "display_data"
        },
        {
          "ename": "AttributeError",
          "evalue": "module 'yellowbrick.utils' has no attribute 'types'",
          "output_type": "error",
          "traceback": [
            "\u001b[0;31m---------------------------------------------------------------------------\u001b[0m",
            "\u001b[0;31mAttributeError\u001b[0m                            Traceback (most recent call last)",
            "\u001b[0;32m/usr/lib/python3.10/unittest/mock.py\u001b[0m in \u001b[0;36m_dot_lookup\u001b[0;34m(thing, comp, import_path)\u001b[0m\n\u001b[1;32m   1247\u001b[0m     \u001b[0;32mtry\u001b[0m\u001b[0;34m:\u001b[0m\u001b[0;34m\u001b[0m\u001b[0;34m\u001b[0m\u001b[0m\n\u001b[0;32m-> 1248\u001b[0;31m         \u001b[0;32mreturn\u001b[0m \u001b[0mgetattr\u001b[0m\u001b[0;34m(\u001b[0m\u001b[0mthing\u001b[0m\u001b[0;34m,\u001b[0m \u001b[0mcomp\u001b[0m\u001b[0;34m)\u001b[0m\u001b[0;34m\u001b[0m\u001b[0;34m\u001b[0m\u001b[0m\n\u001b[0m\u001b[1;32m   1249\u001b[0m     \u001b[0;32mexcept\u001b[0m \u001b[0mAttributeError\u001b[0m\u001b[0;34m:\u001b[0m\u001b[0;34m\u001b[0m\u001b[0;34m\u001b[0m\u001b[0m\n",
            "\u001b[0;31mAttributeError\u001b[0m: module 'yellowbrick.utils' has no attribute 'types'",
            "\nDuring handling of the above exception, another exception occurred:\n",
            "\u001b[0;31mAttributeError\u001b[0m                            Traceback (most recent call last)",
            "\u001b[0;32m<ipython-input-203-31e11cb28070>\u001b[0m in \u001b[0;36m<cell line: 1>\u001b[0;34m()\u001b[0m\n\u001b[0;32m----> 1\u001b[0;31m \u001b[0mplot_model\u001b[0m\u001b[0;34m(\u001b[0m\u001b[0mestimator\u001b[0m \u001b[0;34m=\u001b[0m \u001b[0mgbc\u001b[0m\u001b[0;34m,\u001b[0m \u001b[0mplot\u001b[0m \u001b[0;34m=\u001b[0m \u001b[0;34m'confusion_matrix'\u001b[0m\u001b[0;34m)\u001b[0m\u001b[0;34m\u001b[0m\u001b[0;34m\u001b[0m\u001b[0m\n\u001b[0m",
            "\u001b[0;32m/usr/local/lib/python3.10/dist-packages/pycaret/utils/generic.py\u001b[0m in \u001b[0;36mwrapper\u001b[0;34m(*args, **kwargs)\u001b[0m\n\u001b[1;32m    963\u001b[0m                 \u001b[0;32mif\u001b[0m \u001b[0mglobals_d\u001b[0m\u001b[0;34m[\u001b[0m\u001b[0mname\u001b[0m\u001b[0;34m]\u001b[0m \u001b[0;32mis\u001b[0m \u001b[0;32mNone\u001b[0m\u001b[0;34m:\u001b[0m\u001b[0;34m\u001b[0m\u001b[0;34m\u001b[0m\u001b[0m\n\u001b[1;32m    964\u001b[0m                     \u001b[0;32mraise\u001b[0m \u001b[0mValueError\u001b[0m\u001b[0;34m(\u001b[0m\u001b[0mmessage\u001b[0m\u001b[0;34m)\u001b[0m\u001b[0;34m\u001b[0m\u001b[0;34m\u001b[0m\u001b[0m\n\u001b[0;32m--> 965\u001b[0;31m             \u001b[0;32mreturn\u001b[0m \u001b[0mfunc\u001b[0m\u001b[0;34m(\u001b[0m\u001b[0;34m*\u001b[0m\u001b[0margs\u001b[0m\u001b[0;34m,\u001b[0m \u001b[0;34m**\u001b[0m\u001b[0mkwargs\u001b[0m\u001b[0;34m)\u001b[0m\u001b[0;34m\u001b[0m\u001b[0;34m\u001b[0m\u001b[0m\n\u001b[0m\u001b[1;32m    966\u001b[0m \u001b[0;34m\u001b[0m\u001b[0m\n\u001b[1;32m    967\u001b[0m         \u001b[0;32mreturn\u001b[0m \u001b[0mwrapper\u001b[0m\u001b[0;34m\u001b[0m\u001b[0;34m\u001b[0m\u001b[0m\n",
            "\u001b[0;32m/usr/local/lib/python3.10/dist-packages/pycaret/classification/functional.py\u001b[0m in \u001b[0;36mplot_model\u001b[0;34m(estimator, plot, scale, save, fold, fit_kwargs, plot_kwargs, groups, verbose, display_format)\u001b[0m\n\u001b[1;32m   1723\u001b[0m     \"\"\"\n\u001b[1;32m   1724\u001b[0m \u001b[0;34m\u001b[0m\u001b[0m\n\u001b[0;32m-> 1725\u001b[0;31m     return _CURRENT_EXPERIMENT.plot_model(\n\u001b[0m\u001b[1;32m   1726\u001b[0m         \u001b[0mestimator\u001b[0m\u001b[0;34m=\u001b[0m\u001b[0mestimator\u001b[0m\u001b[0;34m,\u001b[0m\u001b[0;34m\u001b[0m\u001b[0;34m\u001b[0m\u001b[0m\n\u001b[1;32m   1727\u001b[0m         \u001b[0mplot\u001b[0m\u001b[0;34m=\u001b[0m\u001b[0mplot\u001b[0m\u001b[0;34m,\u001b[0m\u001b[0;34m\u001b[0m\u001b[0;34m\u001b[0m\u001b[0m\n",
            "\u001b[0;32m/usr/local/lib/python3.10/dist-packages/pycaret/classification/oop.py\u001b[0m in \u001b[0;36mplot_model\u001b[0;34m(self, estimator, plot, scale, save, fold, fit_kwargs, plot_kwargs, groups, verbose, display_format)\u001b[0m\n\u001b[1;32m   2069\u001b[0m         \"\"\"\n\u001b[1;32m   2070\u001b[0m \u001b[0;34m\u001b[0m\u001b[0m\n\u001b[0;32m-> 2071\u001b[0;31m         return super().plot_model(\n\u001b[0m\u001b[1;32m   2072\u001b[0m             \u001b[0mestimator\u001b[0m\u001b[0;34m=\u001b[0m\u001b[0mestimator\u001b[0m\u001b[0;34m,\u001b[0m\u001b[0;34m\u001b[0m\u001b[0;34m\u001b[0m\u001b[0m\n\u001b[1;32m   2073\u001b[0m             \u001b[0mplot\u001b[0m\u001b[0;34m=\u001b[0m\u001b[0mplot\u001b[0m\u001b[0;34m,\u001b[0m\u001b[0;34m\u001b[0m\u001b[0;34m\u001b[0m\u001b[0m\n",
            "\u001b[0;32m/usr/local/lib/python3.10/dist-packages/pycaret/internal/pycaret_experiment/tabular_experiment.py\u001b[0m in \u001b[0;36mplot_model\u001b[0;34m(self, estimator, plot, scale, save, fold, fit_kwargs, plot_kwargs, groups, feature_name, label, verbose, display_format)\u001b[0m\n\u001b[1;32m   2043\u001b[0m \u001b[0;34m\u001b[0m\u001b[0m\n\u001b[1;32m   2044\u001b[0m         \"\"\"\n\u001b[0;32m-> 2045\u001b[0;31m         return self._plot_model(\n\u001b[0m\u001b[1;32m   2046\u001b[0m             \u001b[0mestimator\u001b[0m\u001b[0;34m=\u001b[0m\u001b[0mestimator\u001b[0m\u001b[0;34m,\u001b[0m\u001b[0;34m\u001b[0m\u001b[0;34m\u001b[0m\u001b[0m\n\u001b[1;32m   2047\u001b[0m             \u001b[0mplot\u001b[0m\u001b[0;34m=\u001b[0m\u001b[0mplot\u001b[0m\u001b[0;34m,\u001b[0m\u001b[0;34m\u001b[0m\u001b[0;34m\u001b[0m\u001b[0m\n",
            "\u001b[0;32m/usr/local/lib/python3.10/dist-packages/pycaret/internal/pycaret_experiment/tabular_experiment.py\u001b[0m in \u001b[0;36m_plot_model\u001b[0;34m(self, estimator, plot, scale, save, fold, fit_kwargs, plot_kwargs, groups, feature_name, label, verbose, system, display, display_format)\u001b[0m\n\u001b[1;32m    530\u001b[0m         \u001b[0mmodel_name\u001b[0m \u001b[0;34m=\u001b[0m \u001b[0mself\u001b[0m\u001b[0;34m.\u001b[0m\u001b[0m_get_model_name\u001b[0m\u001b[0;34m(\u001b[0m\u001b[0mmodel\u001b[0m\u001b[0;34m)\u001b[0m\u001b[0;34m\u001b[0m\u001b[0;34m\u001b[0m\u001b[0m\n\u001b[1;32m    531\u001b[0m         \u001b[0mbase_plot_filename\u001b[0m \u001b[0;34m=\u001b[0m \u001b[0;34mf\"{plot_name}.png\"\u001b[0m\u001b[0;34m\u001b[0m\u001b[0;34m\u001b[0m\u001b[0m\n\u001b[0;32m--> 532\u001b[0;31m         with patch(\n\u001b[0m\u001b[1;32m    533\u001b[0m             \u001b[0;34m\"yellowbrick.utils.types.is_estimator\"\u001b[0m\u001b[0;34m,\u001b[0m\u001b[0;34m\u001b[0m\u001b[0;34m\u001b[0m\u001b[0m\n\u001b[1;32m    534\u001b[0m             \u001b[0mpycaret\u001b[0m\u001b[0;34m.\u001b[0m\u001b[0minternal\u001b[0m\u001b[0;34m.\u001b[0m\u001b[0mpatches\u001b[0m\u001b[0;34m.\u001b[0m\u001b[0myellowbrick\u001b[0m\u001b[0;34m.\u001b[0m\u001b[0mis_estimator\u001b[0m\u001b[0;34m,\u001b[0m\u001b[0;34m\u001b[0m\u001b[0;34m\u001b[0m\u001b[0m\n",
            "\u001b[0;32m/usr/lib/python3.10/unittest/mock.py\u001b[0m in \u001b[0;36m__enter__\u001b[0;34m(self)\u001b[0m\n\u001b[1;32m   1429\u001b[0m         \u001b[0mautospec\u001b[0m\u001b[0;34m,\u001b[0m \u001b[0mkwargs\u001b[0m \u001b[0;34m=\u001b[0m \u001b[0mself\u001b[0m\u001b[0;34m.\u001b[0m\u001b[0mautospec\u001b[0m\u001b[0;34m,\u001b[0m \u001b[0mself\u001b[0m\u001b[0;34m.\u001b[0m\u001b[0mkwargs\u001b[0m\u001b[0;34m\u001b[0m\u001b[0;34m\u001b[0m\u001b[0m\n\u001b[1;32m   1430\u001b[0m         \u001b[0mnew_callable\u001b[0m \u001b[0;34m=\u001b[0m \u001b[0mself\u001b[0m\u001b[0;34m.\u001b[0m\u001b[0mnew_callable\u001b[0m\u001b[0;34m\u001b[0m\u001b[0;34m\u001b[0m\u001b[0m\n\u001b[0;32m-> 1431\u001b[0;31m         \u001b[0mself\u001b[0m\u001b[0;34m.\u001b[0m\u001b[0mtarget\u001b[0m \u001b[0;34m=\u001b[0m \u001b[0mself\u001b[0m\u001b[0;34m.\u001b[0m\u001b[0mgetter\u001b[0m\u001b[0;34m(\u001b[0m\u001b[0;34m)\u001b[0m\u001b[0;34m\u001b[0m\u001b[0;34m\u001b[0m\u001b[0m\n\u001b[0m\u001b[1;32m   1432\u001b[0m \u001b[0;34m\u001b[0m\u001b[0m\n\u001b[1;32m   1433\u001b[0m         \u001b[0;31m# normalise False to None\u001b[0m\u001b[0;34m\u001b[0m\u001b[0;34m\u001b[0m\u001b[0m\n",
            "\u001b[0;32m/usr/lib/python3.10/unittest/mock.py\u001b[0m in \u001b[0;36m<lambda>\u001b[0;34m()\u001b[0m\n\u001b[1;32m   1616\u001b[0m         raise TypeError(\n\u001b[1;32m   1617\u001b[0m             f\"Need a valid target to patch. You supplied: {target!r}\")\n\u001b[0;32m-> 1618\u001b[0;31m     \u001b[0mgetter\u001b[0m \u001b[0;34m=\u001b[0m \u001b[0;32mlambda\u001b[0m\u001b[0;34m:\u001b[0m \u001b[0m_importer\u001b[0m\u001b[0;34m(\u001b[0m\u001b[0mtarget\u001b[0m\u001b[0;34m)\u001b[0m\u001b[0;34m\u001b[0m\u001b[0;34m\u001b[0m\u001b[0m\n\u001b[0m\u001b[1;32m   1619\u001b[0m     \u001b[0;32mreturn\u001b[0m \u001b[0mgetter\u001b[0m\u001b[0;34m,\u001b[0m \u001b[0mattribute\u001b[0m\u001b[0;34m\u001b[0m\u001b[0;34m\u001b[0m\u001b[0m\n\u001b[1;32m   1620\u001b[0m \u001b[0;34m\u001b[0m\u001b[0m\n",
            "\u001b[0;32m/usr/lib/python3.10/unittest/mock.py\u001b[0m in \u001b[0;36m_importer\u001b[0;34m(target)\u001b[0m\n\u001b[1;32m   1259\u001b[0m     \u001b[0;32mfor\u001b[0m \u001b[0mcomp\u001b[0m \u001b[0;32min\u001b[0m \u001b[0mcomponents\u001b[0m\u001b[0;34m:\u001b[0m\u001b[0;34m\u001b[0m\u001b[0;34m\u001b[0m\u001b[0m\n\u001b[1;32m   1260\u001b[0m         \u001b[0mimport_path\u001b[0m \u001b[0;34m+=\u001b[0m \u001b[0;34m\".%s\"\u001b[0m \u001b[0;34m%\u001b[0m \u001b[0mcomp\u001b[0m\u001b[0;34m\u001b[0m\u001b[0;34m\u001b[0m\u001b[0m\n\u001b[0;32m-> 1261\u001b[0;31m         \u001b[0mthing\u001b[0m \u001b[0;34m=\u001b[0m \u001b[0m_dot_lookup\u001b[0m\u001b[0;34m(\u001b[0m\u001b[0mthing\u001b[0m\u001b[0;34m,\u001b[0m \u001b[0mcomp\u001b[0m\u001b[0;34m,\u001b[0m \u001b[0mimport_path\u001b[0m\u001b[0;34m)\u001b[0m\u001b[0;34m\u001b[0m\u001b[0;34m\u001b[0m\u001b[0m\n\u001b[0m\u001b[1;32m   1262\u001b[0m     \u001b[0;32mreturn\u001b[0m \u001b[0mthing\u001b[0m\u001b[0;34m\u001b[0m\u001b[0;34m\u001b[0m\u001b[0m\n\u001b[1;32m   1263\u001b[0m \u001b[0;34m\u001b[0m\u001b[0m\n",
            "\u001b[0;32m/usr/lib/python3.10/unittest/mock.py\u001b[0m in \u001b[0;36m_dot_lookup\u001b[0;34m(thing, comp, import_path)\u001b[0m\n\u001b[1;32m   1249\u001b[0m     \u001b[0;32mexcept\u001b[0m \u001b[0mAttributeError\u001b[0m\u001b[0;34m:\u001b[0m\u001b[0;34m\u001b[0m\u001b[0;34m\u001b[0m\u001b[0m\n\u001b[1;32m   1250\u001b[0m         \u001b[0m__import__\u001b[0m\u001b[0;34m(\u001b[0m\u001b[0mimport_path\u001b[0m\u001b[0;34m)\u001b[0m\u001b[0;34m\u001b[0m\u001b[0;34m\u001b[0m\u001b[0m\n\u001b[0;32m-> 1251\u001b[0;31m         \u001b[0;32mreturn\u001b[0m \u001b[0mgetattr\u001b[0m\u001b[0;34m(\u001b[0m\u001b[0mthing\u001b[0m\u001b[0;34m,\u001b[0m \u001b[0mcomp\u001b[0m\u001b[0;34m)\u001b[0m\u001b[0;34m\u001b[0m\u001b[0;34m\u001b[0m\u001b[0m\n\u001b[0m\u001b[1;32m   1252\u001b[0m \u001b[0;34m\u001b[0m\u001b[0m\n\u001b[1;32m   1253\u001b[0m \u001b[0;34m\u001b[0m\u001b[0m\n",
            "\u001b[0;31mAttributeError\u001b[0m: module 'yellowbrick.utils' has no attribute 'types'"
          ]
        }
      ],
      "source": [
        "plot_model(estimator = gbc, plot = 'confusion_matrix')"
      ]
    },
    {
      "cell_type": "code",
      "execution_count": null,
      "metadata": {
        "colab": {
          "base_uri": "https://localhost:8080/",
          "height": 81
        },
        "id": "8wAvdbIkzFjE",
        "outputId": "0d3113ab-c760-4446-b6db-6e67dc2ae63f"
      },
      "outputs": [
        {
          "data": {
            "text/html": [
              "<style type=\"text/css\">\n",
              "</style>\n",
              "<table id=\"T_2dc2c\" class=\"dataframe\">\n",
              "  <thead>\n",
              "    <tr>\n",
              "      <th class=\"blank level0\" >&nbsp;</th>\n",
              "      <th id=\"T_2dc2c_level0_col0\" class=\"col_heading level0 col0\" >Model</th>\n",
              "      <th id=\"T_2dc2c_level0_col1\" class=\"col_heading level0 col1\" >Accuracy</th>\n",
              "      <th id=\"T_2dc2c_level0_col2\" class=\"col_heading level0 col2\" >AUC</th>\n",
              "      <th id=\"T_2dc2c_level0_col3\" class=\"col_heading level0 col3\" >Recall</th>\n",
              "      <th id=\"T_2dc2c_level0_col4\" class=\"col_heading level0 col4\" >Prec.</th>\n",
              "      <th id=\"T_2dc2c_level0_col5\" class=\"col_heading level0 col5\" >F1</th>\n",
              "      <th id=\"T_2dc2c_level0_col6\" class=\"col_heading level0 col6\" >Kappa</th>\n",
              "      <th id=\"T_2dc2c_level0_col7\" class=\"col_heading level0 col7\" >MCC</th>\n",
              "    </tr>\n",
              "  </thead>\n",
              "  <tbody>\n",
              "    <tr>\n",
              "      <th id=\"T_2dc2c_level0_row0\" class=\"row_heading level0 row0\" >0</th>\n",
              "      <td id=\"T_2dc2c_row0_col0\" class=\"data row0 col0\" >Voting Classifier</td>\n",
              "      <td id=\"T_2dc2c_row0_col1\" class=\"data row0 col1\" >0.9091</td>\n",
              "      <td id=\"T_2dc2c_row0_col2\" class=\"data row0 col2\" >0.9559</td>\n",
              "      <td id=\"T_2dc2c_row0_col3\" class=\"data row0 col3\" >0.6264</td>\n",
              "      <td id=\"T_2dc2c_row0_col4\" class=\"data row0 col4\" >0.8961</td>\n",
              "      <td id=\"T_2dc2c_row0_col5\" class=\"data row0 col5\" >0.7374</td>\n",
              "      <td id=\"T_2dc2c_row0_col6\" class=\"data row0 col6\" >0.6845</td>\n",
              "      <td id=\"T_2dc2c_row0_col7\" class=\"data row0 col7\" >0.7005</td>\n",
              "    </tr>\n",
              "  </tbody>\n",
              "</table>\n"
            ],
            "text/plain": [
              "<pandas.io.formats.style.Styler at 0x7e5e82176e30>"
            ]
          },
          "metadata": {},
          "output_type": "display_data"
        }
      ],
      "source": [
        "pred = predict_model(blend, data =dataset)"
      ]
    },
    {
      "cell_type": "code",
      "execution_count": null,
      "metadata": {
        "id": "nNCETpD52jaD"
      },
      "outputs": [],
      "source": []
    },
    {
      "cell_type": "markdown",
      "metadata": {
        "id": "tEjYpfmppBnS"
      },
      "source": [
        "## Web Application"
      ]
    },
    {
      "cell_type": "code",
      "execution_count": null,
      "metadata": {
        "id": "u9pakmAtpF9H"
      },
      "outputs": [],
      "source": []
    }
  ],
  "metadata": {
    "accelerator": "GPU",
    "colab": {
      "provenance": [],
      "include_colab_link": true
    },
    "kernelspec": {
      "display_name": "Python 3",
      "name": "python3"
    },
    "language_info": {
      "codemirror_mode": {
        "name": "ipython",
        "version": 3
      },
      "file_extension": ".py",
      "mimetype": "text/x-python",
      "name": "python",
      "nbconvert_exporter": "python",
      "pygments_lexer": "ipython3",
      "version": "3.8.8"
    },
    "widgets": {
      "application/vnd.jupyter.widget-state+json": {
        "012eefc55fe7498b9f7a72b1c485fba0": {
          "model_module": "@jupyter-widgets/controls",
          "model_module_version": "1.5.0",
          "model_name": "HBoxModel",
          "state": {
            "_dom_classes": [],
            "_model_module": "@jupyter-widgets/controls",
            "_model_module_version": "1.5.0",
            "_model_name": "HBoxModel",
            "_view_count": null,
            "_view_module": "@jupyter-widgets/controls",
            "_view_module_version": "1.5.0",
            "_view_name": "HBoxView",
            "box_style": "",
            "children": [
              "IPY_MODEL_7a86c40e756e4531be30fc41fc0241ca",
              "IPY_MODEL_cc55bf9dbe0b40eb97ca763f0ed95b49",
              "IPY_MODEL_cff6cd645a154475926d32d88f678d28"
            ],
            "layout": "IPY_MODEL_236836d6bb0d4ad7ac78590183c54959"
          }
        },
        "08bddc7da0f84a41b9e84833660a82dd": {
          "model_module": "@jupyter-widgets/base",
          "model_module_version": "1.2.0",
          "model_name": "LayoutModel",
          "state": {
            "_model_module": "@jupyter-widgets/base",
            "_model_module_version": "1.2.0",
            "_model_name": "LayoutModel",
            "_view_count": null,
            "_view_module": "@jupyter-widgets/base",
            "_view_module_version": "1.2.0",
            "_view_name": "LayoutView",
            "align_content": null,
            "align_items": null,
            "align_self": null,
            "border": null,
            "bottom": null,
            "display": null,
            "flex": null,
            "flex_flow": null,
            "grid_area": null,
            "grid_auto_columns": null,
            "grid_auto_flow": null,
            "grid_auto_rows": null,
            "grid_column": null,
            "grid_gap": null,
            "grid_row": null,
            "grid_template_areas": null,
            "grid_template_columns": null,
            "grid_template_rows": null,
            "height": null,
            "justify_content": null,
            "justify_items": null,
            "left": null,
            "margin": null,
            "max_height": null,
            "max_width": null,
            "min_height": null,
            "min_width": null,
            "object_fit": null,
            "object_position": null,
            "order": null,
            "overflow": null,
            "overflow_x": null,
            "overflow_y": null,
            "padding": null,
            "right": null,
            "top": null,
            "visibility": null,
            "width": null
          }
        },
        "14b14fbc529048b5a1728e4734e97fc1": {
          "model_module": "@jupyter-widgets/base",
          "model_module_version": "1.2.0",
          "model_name": "LayoutModel",
          "state": {
            "_model_module": "@jupyter-widgets/base",
            "_model_module_version": "1.2.0",
            "_model_name": "LayoutModel",
            "_view_count": null,
            "_view_module": "@jupyter-widgets/base",
            "_view_module_version": "1.2.0",
            "_view_name": "LayoutView",
            "align_content": null,
            "align_items": null,
            "align_self": null,
            "border": null,
            "bottom": null,
            "display": null,
            "flex": null,
            "flex_flow": null,
            "grid_area": null,
            "grid_auto_columns": null,
            "grid_auto_flow": null,
            "grid_auto_rows": null,
            "grid_column": null,
            "grid_gap": null,
            "grid_row": null,
            "grid_template_areas": null,
            "grid_template_columns": null,
            "grid_template_rows": null,
            "height": null,
            "justify_content": null,
            "justify_items": null,
            "left": null,
            "margin": null,
            "max_height": null,
            "max_width": null,
            "min_height": null,
            "min_width": null,
            "object_fit": null,
            "object_position": null,
            "order": null,
            "overflow": null,
            "overflow_x": null,
            "overflow_y": null,
            "padding": null,
            "right": null,
            "top": null,
            "visibility": null,
            "width": null
          }
        },
        "1d235b77799544de802464acd32599c4": {
          "model_module": "@jupyter-widgets/controls",
          "model_module_version": "1.5.0",
          "model_name": "HTMLModel",
          "state": {
            "_dom_classes": [],
            "_model_module": "@jupyter-widgets/controls",
            "_model_module_version": "1.5.0",
            "_model_name": "HTMLModel",
            "_view_count": null,
            "_view_module": "@jupyter-widgets/controls",
            "_view_module_version": "1.5.0",
            "_view_name": "HTMLView",
            "description": "",
            "description_tooltip": null,
            "layout": "IPY_MODEL_a19fa9bb9a854983a049fbb94b2d8687",
            "placeholder": "​",
            "style": "IPY_MODEL_67f6d58ed801401982c452992413f144",
            "value": "Processing: 100%"
          }
        },
        "236836d6bb0d4ad7ac78590183c54959": {
          "model_module": "@jupyter-widgets/base",
          "model_module_version": "1.2.0",
          "model_name": "LayoutModel",
          "state": {
            "_model_module": "@jupyter-widgets/base",
            "_model_module_version": "1.2.0",
            "_model_name": "LayoutModel",
            "_view_count": null,
            "_view_module": "@jupyter-widgets/base",
            "_view_module_version": "1.2.0",
            "_view_name": "LayoutView",
            "align_content": null,
            "align_items": null,
            "align_self": null,
            "border": null,
            "bottom": null,
            "display": null,
            "flex": null,
            "flex_flow": null,
            "grid_area": null,
            "grid_auto_columns": null,
            "grid_auto_flow": null,
            "grid_auto_rows": null,
            "grid_column": null,
            "grid_gap": null,
            "grid_row": null,
            "grid_template_areas": null,
            "grid_template_columns": null,
            "grid_template_rows": null,
            "height": null,
            "justify_content": null,
            "justify_items": null,
            "left": null,
            "margin": null,
            "max_height": null,
            "max_width": null,
            "min_height": null,
            "min_width": null,
            "object_fit": null,
            "object_position": null,
            "order": null,
            "overflow": null,
            "overflow_x": null,
            "overflow_y": null,
            "padding": null,
            "right": null,
            "top": null,
            "visibility": "hidden",
            "width": null
          }
        },
        "27244dd391824d70a6e45342ecfbfea5": {
          "model_module": "@jupyter-widgets/base",
          "model_module_version": "1.2.0",
          "model_name": "LayoutModel",
          "state": {
            "_model_module": "@jupyter-widgets/base",
            "_model_module_version": "1.2.0",
            "_model_name": "LayoutModel",
            "_view_count": null,
            "_view_module": "@jupyter-widgets/base",
            "_view_module_version": "1.2.0",
            "_view_name": "LayoutView",
            "align_content": null,
            "align_items": null,
            "align_self": null,
            "border": null,
            "bottom": null,
            "display": null,
            "flex": null,
            "flex_flow": null,
            "grid_area": null,
            "grid_auto_columns": null,
            "grid_auto_flow": null,
            "grid_auto_rows": null,
            "grid_column": null,
            "grid_gap": null,
            "grid_row": null,
            "grid_template_areas": null,
            "grid_template_columns": null,
            "grid_template_rows": null,
            "height": null,
            "justify_content": null,
            "justify_items": null,
            "left": null,
            "margin": null,
            "max_height": null,
            "max_width": null,
            "min_height": null,
            "min_width": null,
            "object_fit": null,
            "object_position": null,
            "order": null,
            "overflow": null,
            "overflow_x": null,
            "overflow_y": null,
            "padding": null,
            "right": null,
            "top": null,
            "visibility": null,
            "width": null
          }
        },
        "2e04582d7da8469a8dcbf316f80a1ddf": {
          "model_module": "@jupyter-widgets/controls",
          "model_module_version": "1.5.0",
          "model_name": "FloatProgressModel",
          "state": {
            "_dom_classes": [],
            "_model_module": "@jupyter-widgets/controls",
            "_model_module_version": "1.5.0",
            "_model_name": "FloatProgressModel",
            "_view_count": null,
            "_view_module": "@jupyter-widgets/controls",
            "_view_module_version": "1.5.0",
            "_view_name": "ProgressView",
            "bar_style": "",
            "description": "",
            "description_tooltip": null,
            "layout": "IPY_MODEL_9ec073d2045b4bf0b4c083e40358e5f0",
            "max": 4,
            "min": 0,
            "orientation": "horizontal",
            "style": "IPY_MODEL_9d384b4250f5480b80c47f238defc4d5",
            "value": 4
          }
        },
        "3acd2c4d5e114505a6d1c74eec0095c5": {
          "model_module": "@jupyter-widgets/controls",
          "model_module_version": "1.5.0",
          "model_name": "DescriptionStyleModel",
          "state": {
            "_model_module": "@jupyter-widgets/controls",
            "_model_module_version": "1.5.0",
            "_model_name": "DescriptionStyleModel",
            "_view_count": null,
            "_view_module": "@jupyter-widgets/base",
            "_view_module_version": "1.2.0",
            "_view_name": "StyleView",
            "description_width": ""
          }
        },
        "400127a10b264a669b5b89c7f792c591": {
          "model_module": "@jupyter-widgets/controls",
          "model_module_version": "1.5.0",
          "model_name": "DescriptionStyleModel",
          "state": {
            "_model_module": "@jupyter-widgets/controls",
            "_model_module_version": "1.5.0",
            "_model_name": "DescriptionStyleModel",
            "_view_count": null,
            "_view_module": "@jupyter-widgets/base",
            "_view_module_version": "1.2.0",
            "_view_name": "StyleView",
            "description_width": ""
          }
        },
        "47ca0f4c26c44bb6813fc43fb8f93270": {
          "model_module": "@jupyter-widgets/controls",
          "model_module_version": "1.5.0",
          "model_name": "DescriptionStyleModel",
          "state": {
            "_model_module": "@jupyter-widgets/controls",
            "_model_module_version": "1.5.0",
            "_model_name": "DescriptionStyleModel",
            "_view_count": null,
            "_view_module": "@jupyter-widgets/base",
            "_view_module_version": "1.2.0",
            "_view_name": "StyleView",
            "description_width": ""
          }
        },
        "4b7e491d3c18479d87644aa3429517c8": {
          "model_module": "@jupyter-widgets/base",
          "model_module_version": "1.2.0",
          "model_name": "LayoutModel",
          "state": {
            "_model_module": "@jupyter-widgets/base",
            "_model_module_version": "1.2.0",
            "_model_name": "LayoutModel",
            "_view_count": null,
            "_view_module": "@jupyter-widgets/base",
            "_view_module_version": "1.2.0",
            "_view_name": "LayoutView",
            "align_content": null,
            "align_items": null,
            "align_self": null,
            "border": null,
            "bottom": null,
            "display": null,
            "flex": null,
            "flex_flow": null,
            "grid_area": null,
            "grid_auto_columns": null,
            "grid_auto_flow": null,
            "grid_auto_rows": null,
            "grid_column": null,
            "grid_gap": null,
            "grid_row": null,
            "grid_template_areas": null,
            "grid_template_columns": null,
            "grid_template_rows": null,
            "height": null,
            "justify_content": null,
            "justify_items": null,
            "left": null,
            "margin": null,
            "max_height": null,
            "max_width": null,
            "min_height": null,
            "min_width": null,
            "object_fit": null,
            "object_position": null,
            "order": null,
            "overflow": null,
            "overflow_x": null,
            "overflow_y": null,
            "padding": null,
            "right": null,
            "top": null,
            "visibility": "hidden",
            "width": null
          }
        },
        "5268f107eae8434a84e76398d80da24f": {
          "model_module": "@jupyter-widgets/controls",
          "model_module_version": "1.5.0",
          "model_name": "HBoxModel",
          "state": {
            "_dom_classes": [],
            "_model_module": "@jupyter-widgets/controls",
            "_model_module_version": "1.5.0",
            "_model_name": "HBoxModel",
            "_view_count": null,
            "_view_module": "@jupyter-widgets/controls",
            "_view_module_version": "1.5.0",
            "_view_name": "HBoxView",
            "box_style": "",
            "children": [
              "IPY_MODEL_6f2324bea8ff43b29743c9726c128d22",
              "IPY_MODEL_714452637eb84c7c8efb79046278947e",
              "IPY_MODEL_b2ae7782565f4c6e8d48da787a973dd5"
            ],
            "layout": "IPY_MODEL_4b7e491d3c18479d87644aa3429517c8"
          }
        },
        "5e0e87ca03d641cda15e249f026d5f27": {
          "model_module": "@jupyter-widgets/controls",
          "model_module_version": "1.5.0",
          "model_name": "DescriptionStyleModel",
          "state": {
            "_model_module": "@jupyter-widgets/controls",
            "_model_module_version": "1.5.0",
            "_model_name": "DescriptionStyleModel",
            "_view_count": null,
            "_view_module": "@jupyter-widgets/base",
            "_view_module_version": "1.2.0",
            "_view_name": "StyleView",
            "description_width": ""
          }
        },
        "642de79c548e45dd95d4e72e8a6b04dc": {
          "model_module": "@jupyter-widgets/controls",
          "model_module_version": "1.5.0",
          "model_name": "HTMLModel",
          "state": {
            "_dom_classes": [],
            "_model_module": "@jupyter-widgets/controls",
            "_model_module_version": "1.5.0",
            "_model_name": "HTMLModel",
            "_view_count": null,
            "_view_module": "@jupyter-widgets/controls",
            "_view_module_version": "1.5.0",
            "_view_name": "HTMLView",
            "description": "",
            "description_tooltip": null,
            "layout": "IPY_MODEL_08bddc7da0f84a41b9e84833660a82dd",
            "placeholder": "​",
            "style": "IPY_MODEL_5e0e87ca03d641cda15e249f026d5f27",
            "value": "Processing: 100%"
          }
        },
        "67f6d58ed801401982c452992413f144": {
          "model_module": "@jupyter-widgets/controls",
          "model_module_version": "1.5.0",
          "model_name": "DescriptionStyleModel",
          "state": {
            "_model_module": "@jupyter-widgets/controls",
            "_model_module_version": "1.5.0",
            "_model_name": "DescriptionStyleModel",
            "_view_count": null,
            "_view_module": "@jupyter-widgets/base",
            "_view_module_version": "1.2.0",
            "_view_name": "StyleView",
            "description_width": ""
          }
        },
        "6f2324bea8ff43b29743c9726c128d22": {
          "model_module": "@jupyter-widgets/controls",
          "model_module_version": "1.5.0",
          "model_name": "HTMLModel",
          "state": {
            "_dom_classes": [],
            "_model_module": "@jupyter-widgets/controls",
            "_model_module_version": "1.5.0",
            "_model_name": "HTMLModel",
            "_view_count": null,
            "_view_module": "@jupyter-widgets/controls",
            "_view_module_version": "1.5.0",
            "_view_name": "HTMLView",
            "description": "",
            "description_tooltip": null,
            "layout": "IPY_MODEL_14b14fbc529048b5a1728e4734e97fc1",
            "placeholder": "​",
            "style": "IPY_MODEL_47ca0f4c26c44bb6813fc43fb8f93270",
            "value": "Processing: 100%"
          }
        },
        "714452637eb84c7c8efb79046278947e": {
          "model_module": "@jupyter-widgets/controls",
          "model_module_version": "1.5.0",
          "model_name": "FloatProgressModel",
          "state": {
            "_dom_classes": [],
            "_model_module": "@jupyter-widgets/controls",
            "_model_module_version": "1.5.0",
            "_model_name": "FloatProgressModel",
            "_view_count": null,
            "_view_module": "@jupyter-widgets/controls",
            "_view_module_version": "1.5.0",
            "_view_name": "ProgressView",
            "bar_style": "",
            "description": "",
            "description_tooltip": null,
            "layout": "IPY_MODEL_afe0b14aa0654d5397ede367d6215b54",
            "max": 4,
            "min": 0,
            "orientation": "horizontal",
            "style": "IPY_MODEL_8c6f41299f8a40c7828b8314fe2eadfa",
            "value": 4
          }
        },
        "7359e50367bb4f649cc81b68b3d17605": {
          "model_module": "@jupyter-widgets/base",
          "model_module_version": "1.2.0",
          "model_name": "LayoutModel",
          "state": {
            "_model_module": "@jupyter-widgets/base",
            "_model_module_version": "1.2.0",
            "_model_name": "LayoutModel",
            "_view_count": null,
            "_view_module": "@jupyter-widgets/base",
            "_view_module_version": "1.2.0",
            "_view_name": "LayoutView",
            "align_content": null,
            "align_items": null,
            "align_self": null,
            "border": null,
            "bottom": null,
            "display": null,
            "flex": null,
            "flex_flow": null,
            "grid_area": null,
            "grid_auto_columns": null,
            "grid_auto_flow": null,
            "grid_auto_rows": null,
            "grid_column": null,
            "grid_gap": null,
            "grid_row": null,
            "grid_template_areas": null,
            "grid_template_columns": null,
            "grid_template_rows": null,
            "height": null,
            "justify_content": null,
            "justify_items": null,
            "left": null,
            "margin": null,
            "max_height": null,
            "max_width": null,
            "min_height": null,
            "min_width": null,
            "object_fit": null,
            "object_position": null,
            "order": null,
            "overflow": null,
            "overflow_x": null,
            "overflow_y": null,
            "padding": null,
            "right": null,
            "top": null,
            "visibility": "hidden",
            "width": null
          }
        },
        "7a4c81638eb84383ad4d70f5255cc334": {
          "model_module": "@jupyter-widgets/base",
          "model_module_version": "1.2.0",
          "model_name": "LayoutModel",
          "state": {
            "_model_module": "@jupyter-widgets/base",
            "_model_module_version": "1.2.0",
            "_model_name": "LayoutModel",
            "_view_count": null,
            "_view_module": "@jupyter-widgets/base",
            "_view_module_version": "1.2.0",
            "_view_name": "LayoutView",
            "align_content": null,
            "align_items": null,
            "align_self": null,
            "border": null,
            "bottom": null,
            "display": null,
            "flex": null,
            "flex_flow": null,
            "grid_area": null,
            "grid_auto_columns": null,
            "grid_auto_flow": null,
            "grid_auto_rows": null,
            "grid_column": null,
            "grid_gap": null,
            "grid_row": null,
            "grid_template_areas": null,
            "grid_template_columns": null,
            "grid_template_rows": null,
            "height": null,
            "justify_content": null,
            "justify_items": null,
            "left": null,
            "margin": null,
            "max_height": null,
            "max_width": null,
            "min_height": null,
            "min_width": null,
            "object_fit": null,
            "object_position": null,
            "order": null,
            "overflow": null,
            "overflow_x": null,
            "overflow_y": null,
            "padding": null,
            "right": null,
            "top": null,
            "visibility": null,
            "width": null
          }
        },
        "7a86c40e756e4531be30fc41fc0241ca": {
          "model_module": "@jupyter-widgets/controls",
          "model_module_version": "1.5.0",
          "model_name": "HTMLModel",
          "state": {
            "_dom_classes": [],
            "_model_module": "@jupyter-widgets/controls",
            "_model_module_version": "1.5.0",
            "_model_name": "HTMLModel",
            "_view_count": null,
            "_view_module": "@jupyter-widgets/controls",
            "_view_module_version": "1.5.0",
            "_view_name": "HTMLView",
            "description": "",
            "description_tooltip": null,
            "layout": "IPY_MODEL_a489154d84be45d39744dd4c5dcc75ab",
            "placeholder": "​",
            "style": "IPY_MODEL_3acd2c4d5e114505a6d1c74eec0095c5",
            "value": "Processing: 100%"
          }
        },
        "819e078172b742f78f1c9eb5e7bcd50b": {
          "model_module": "@jupyter-widgets/controls",
          "model_module_version": "1.5.0",
          "model_name": "ProgressStyleModel",
          "state": {
            "_model_module": "@jupyter-widgets/controls",
            "_model_module_version": "1.5.0",
            "_model_name": "ProgressStyleModel",
            "_view_count": null,
            "_view_module": "@jupyter-widgets/base",
            "_view_module_version": "1.2.0",
            "_view_name": "StyleView",
            "bar_color": null,
            "description_width": ""
          }
        },
        "86706ab7829d4a4d890fb316913e359c": {
          "model_module": "@jupyter-widgets/controls",
          "model_module_version": "1.5.0",
          "model_name": "DescriptionStyleModel",
          "state": {
            "_model_module": "@jupyter-widgets/controls",
            "_model_module_version": "1.5.0",
            "_model_name": "DescriptionStyleModel",
            "_view_count": null,
            "_view_module": "@jupyter-widgets/base",
            "_view_module_version": "1.2.0",
            "_view_name": "StyleView",
            "description_width": ""
          }
        },
        "8c6f41299f8a40c7828b8314fe2eadfa": {
          "model_module": "@jupyter-widgets/controls",
          "model_module_version": "1.5.0",
          "model_name": "ProgressStyleModel",
          "state": {
            "_model_module": "@jupyter-widgets/controls",
            "_model_module_version": "1.5.0",
            "_model_name": "ProgressStyleModel",
            "_view_count": null,
            "_view_module": "@jupyter-widgets/base",
            "_view_module_version": "1.2.0",
            "_view_name": "StyleView",
            "bar_color": null,
            "description_width": ""
          }
        },
        "8d621f473732426fa301272c0a709917": {
          "model_module": "@jupyter-widgets/controls",
          "model_module_version": "1.5.0",
          "model_name": "HBoxModel",
          "state": {
            "_dom_classes": [],
            "_model_module": "@jupyter-widgets/controls",
            "_model_module_version": "1.5.0",
            "_model_name": "HBoxModel",
            "_view_count": null,
            "_view_module": "@jupyter-widgets/controls",
            "_view_module_version": "1.5.0",
            "_view_name": "HBoxView",
            "box_style": "",
            "children": [
              "IPY_MODEL_1d235b77799544de802464acd32599c4",
              "IPY_MODEL_2e04582d7da8469a8dcbf316f80a1ddf",
              "IPY_MODEL_92e0504a3a3849c2af4dd62eb886f100"
            ],
            "layout": "IPY_MODEL_7359e50367bb4f649cc81b68b3d17605"
          }
        },
        "8e1e43398cd648d78364ed4adf3c7cd6": {
          "model_module": "@jupyter-widgets/controls",
          "model_module_version": "1.5.0",
          "model_name": "ProgressStyleModel",
          "state": {
            "_model_module": "@jupyter-widgets/controls",
            "_model_module_version": "1.5.0",
            "_model_name": "ProgressStyleModel",
            "_view_count": null,
            "_view_module": "@jupyter-widgets/base",
            "_view_module_version": "1.2.0",
            "_view_name": "StyleView",
            "bar_color": null,
            "description_width": ""
          }
        },
        "92e0504a3a3849c2af4dd62eb886f100": {
          "model_module": "@jupyter-widgets/controls",
          "model_module_version": "1.5.0",
          "model_name": "HTMLModel",
          "state": {
            "_dom_classes": [],
            "_model_module": "@jupyter-widgets/controls",
            "_model_module_version": "1.5.0",
            "_model_name": "HTMLModel",
            "_view_count": null,
            "_view_module": "@jupyter-widgets/controls",
            "_view_module_version": "1.5.0",
            "_view_name": "HTMLView",
            "description": "",
            "description_tooltip": null,
            "layout": "IPY_MODEL_e7a8ce9c76e54fe29185b72b3b862e33",
            "placeholder": "​",
            "style": "IPY_MODEL_9c9c44ed6e4e454f8d25c0c4093da0af",
            "value": " 4/4 [00:14&lt;00:00,  3.39s/it]"
          }
        },
        "9c9c44ed6e4e454f8d25c0c4093da0af": {
          "model_module": "@jupyter-widgets/controls",
          "model_module_version": "1.5.0",
          "model_name": "DescriptionStyleModel",
          "state": {
            "_model_module": "@jupyter-widgets/controls",
            "_model_module_version": "1.5.0",
            "_model_name": "DescriptionStyleModel",
            "_view_count": null,
            "_view_module": "@jupyter-widgets/base",
            "_view_module_version": "1.2.0",
            "_view_name": "StyleView",
            "description_width": ""
          }
        },
        "9d384b4250f5480b80c47f238defc4d5": {
          "model_module": "@jupyter-widgets/controls",
          "model_module_version": "1.5.0",
          "model_name": "ProgressStyleModel",
          "state": {
            "_model_module": "@jupyter-widgets/controls",
            "_model_module_version": "1.5.0",
            "_model_name": "ProgressStyleModel",
            "_view_count": null,
            "_view_module": "@jupyter-widgets/base",
            "_view_module_version": "1.2.0",
            "_view_name": "StyleView",
            "bar_color": null,
            "description_width": ""
          }
        },
        "9ec073d2045b4bf0b4c083e40358e5f0": {
          "model_module": "@jupyter-widgets/base",
          "model_module_version": "1.2.0",
          "model_name": "LayoutModel",
          "state": {
            "_model_module": "@jupyter-widgets/base",
            "_model_module_version": "1.2.0",
            "_model_name": "LayoutModel",
            "_view_count": null,
            "_view_module": "@jupyter-widgets/base",
            "_view_module_version": "1.2.0",
            "_view_name": "LayoutView",
            "align_content": null,
            "align_items": null,
            "align_self": null,
            "border": null,
            "bottom": null,
            "display": null,
            "flex": null,
            "flex_flow": null,
            "grid_area": null,
            "grid_auto_columns": null,
            "grid_auto_flow": null,
            "grid_auto_rows": null,
            "grid_column": null,
            "grid_gap": null,
            "grid_row": null,
            "grid_template_areas": null,
            "grid_template_columns": null,
            "grid_template_rows": null,
            "height": null,
            "justify_content": null,
            "justify_items": null,
            "left": null,
            "margin": null,
            "max_height": null,
            "max_width": null,
            "min_height": null,
            "min_width": null,
            "object_fit": null,
            "object_position": null,
            "order": null,
            "overflow": null,
            "overflow_x": null,
            "overflow_y": null,
            "padding": null,
            "right": null,
            "top": null,
            "visibility": null,
            "width": null
          }
        },
        "a19fa9bb9a854983a049fbb94b2d8687": {
          "model_module": "@jupyter-widgets/base",
          "model_module_version": "1.2.0",
          "model_name": "LayoutModel",
          "state": {
            "_model_module": "@jupyter-widgets/base",
            "_model_module_version": "1.2.0",
            "_model_name": "LayoutModel",
            "_view_count": null,
            "_view_module": "@jupyter-widgets/base",
            "_view_module_version": "1.2.0",
            "_view_name": "LayoutView",
            "align_content": null,
            "align_items": null,
            "align_self": null,
            "border": null,
            "bottom": null,
            "display": null,
            "flex": null,
            "flex_flow": null,
            "grid_area": null,
            "grid_auto_columns": null,
            "grid_auto_flow": null,
            "grid_auto_rows": null,
            "grid_column": null,
            "grid_gap": null,
            "grid_row": null,
            "grid_template_areas": null,
            "grid_template_columns": null,
            "grid_template_rows": null,
            "height": null,
            "justify_content": null,
            "justify_items": null,
            "left": null,
            "margin": null,
            "max_height": null,
            "max_width": null,
            "min_height": null,
            "min_width": null,
            "object_fit": null,
            "object_position": null,
            "order": null,
            "overflow": null,
            "overflow_x": null,
            "overflow_y": null,
            "padding": null,
            "right": null,
            "top": null,
            "visibility": null,
            "width": null
          }
        },
        "a489154d84be45d39744dd4c5dcc75ab": {
          "model_module": "@jupyter-widgets/base",
          "model_module_version": "1.2.0",
          "model_name": "LayoutModel",
          "state": {
            "_model_module": "@jupyter-widgets/base",
            "_model_module_version": "1.2.0",
            "_model_name": "LayoutModel",
            "_view_count": null,
            "_view_module": "@jupyter-widgets/base",
            "_view_module_version": "1.2.0",
            "_view_name": "LayoutView",
            "align_content": null,
            "align_items": null,
            "align_self": null,
            "border": null,
            "bottom": null,
            "display": null,
            "flex": null,
            "flex_flow": null,
            "grid_area": null,
            "grid_auto_columns": null,
            "grid_auto_flow": null,
            "grid_auto_rows": null,
            "grid_column": null,
            "grid_gap": null,
            "grid_row": null,
            "grid_template_areas": null,
            "grid_template_columns": null,
            "grid_template_rows": null,
            "height": null,
            "justify_content": null,
            "justify_items": null,
            "left": null,
            "margin": null,
            "max_height": null,
            "max_width": null,
            "min_height": null,
            "min_width": null,
            "object_fit": null,
            "object_position": null,
            "order": null,
            "overflow": null,
            "overflow_x": null,
            "overflow_y": null,
            "padding": null,
            "right": null,
            "top": null,
            "visibility": null,
            "width": null
          }
        },
        "af9bc2b22d0d4bc3af1d087b67fb6463": {
          "model_module": "@jupyter-widgets/base",
          "model_module_version": "1.2.0",
          "model_name": "LayoutModel",
          "state": {
            "_model_module": "@jupyter-widgets/base",
            "_model_module_version": "1.2.0",
            "_model_name": "LayoutModel",
            "_view_count": null,
            "_view_module": "@jupyter-widgets/base",
            "_view_module_version": "1.2.0",
            "_view_name": "LayoutView",
            "align_content": null,
            "align_items": null,
            "align_self": null,
            "border": null,
            "bottom": null,
            "display": null,
            "flex": null,
            "flex_flow": null,
            "grid_area": null,
            "grid_auto_columns": null,
            "grid_auto_flow": null,
            "grid_auto_rows": null,
            "grid_column": null,
            "grid_gap": null,
            "grid_row": null,
            "grid_template_areas": null,
            "grid_template_columns": null,
            "grid_template_rows": null,
            "height": null,
            "justify_content": null,
            "justify_items": null,
            "left": null,
            "margin": null,
            "max_height": null,
            "max_width": null,
            "min_height": null,
            "min_width": null,
            "object_fit": null,
            "object_position": null,
            "order": null,
            "overflow": null,
            "overflow_x": null,
            "overflow_y": null,
            "padding": null,
            "right": null,
            "top": null,
            "visibility": null,
            "width": null
          }
        },
        "afe0b14aa0654d5397ede367d6215b54": {
          "model_module": "@jupyter-widgets/base",
          "model_module_version": "1.2.0",
          "model_name": "LayoutModel",
          "state": {
            "_model_module": "@jupyter-widgets/base",
            "_model_module_version": "1.2.0",
            "_model_name": "LayoutModel",
            "_view_count": null,
            "_view_module": "@jupyter-widgets/base",
            "_view_module_version": "1.2.0",
            "_view_name": "LayoutView",
            "align_content": null,
            "align_items": null,
            "align_self": null,
            "border": null,
            "bottom": null,
            "display": null,
            "flex": null,
            "flex_flow": null,
            "grid_area": null,
            "grid_auto_columns": null,
            "grid_auto_flow": null,
            "grid_auto_rows": null,
            "grid_column": null,
            "grid_gap": null,
            "grid_row": null,
            "grid_template_areas": null,
            "grid_template_columns": null,
            "grid_template_rows": null,
            "height": null,
            "justify_content": null,
            "justify_items": null,
            "left": null,
            "margin": null,
            "max_height": null,
            "max_width": null,
            "min_height": null,
            "min_width": null,
            "object_fit": null,
            "object_position": null,
            "order": null,
            "overflow": null,
            "overflow_x": null,
            "overflow_y": null,
            "padding": null,
            "right": null,
            "top": null,
            "visibility": null,
            "width": null
          }
        },
        "b2ae7782565f4c6e8d48da787a973dd5": {
          "model_module": "@jupyter-widgets/controls",
          "model_module_version": "1.5.0",
          "model_name": "HTMLModel",
          "state": {
            "_dom_classes": [],
            "_model_module": "@jupyter-widgets/controls",
            "_model_module_version": "1.5.0",
            "_model_name": "HTMLModel",
            "_view_count": null,
            "_view_module": "@jupyter-widgets/controls",
            "_view_module_version": "1.5.0",
            "_view_name": "HTMLView",
            "description": "",
            "description_tooltip": null,
            "layout": "IPY_MODEL_27244dd391824d70a6e45342ecfbfea5",
            "placeholder": "​",
            "style": "IPY_MODEL_86706ab7829d4a4d890fb316913e359c",
            "value": " 4/4 [00:13&lt;00:00,  3.25s/it]"
          }
        },
        "c8fdec2650f246d4acc6537a01fda017": {
          "model_module": "@jupyter-widgets/controls",
          "model_module_version": "1.5.0",
          "model_name": "DescriptionStyleModel",
          "state": {
            "_model_module": "@jupyter-widgets/controls",
            "_model_module_version": "1.5.0",
            "_model_name": "DescriptionStyleModel",
            "_view_count": null,
            "_view_module": "@jupyter-widgets/base",
            "_view_module_version": "1.2.0",
            "_view_name": "StyleView",
            "description_width": ""
          }
        },
        "cc55bf9dbe0b40eb97ca763f0ed95b49": {
          "model_module": "@jupyter-widgets/controls",
          "model_module_version": "1.5.0",
          "model_name": "FloatProgressModel",
          "state": {
            "_dom_classes": [],
            "_model_module": "@jupyter-widgets/controls",
            "_model_module_version": "1.5.0",
            "_model_name": "FloatProgressModel",
            "_view_count": null,
            "_view_module": "@jupyter-widgets/controls",
            "_view_module_version": "1.5.0",
            "_view_name": "ProgressView",
            "bar_style": "",
            "description": "",
            "description_tooltip": null,
            "layout": "IPY_MODEL_af9bc2b22d0d4bc3af1d087b67fb6463",
            "max": 4,
            "min": 0,
            "orientation": "horizontal",
            "style": "IPY_MODEL_8e1e43398cd648d78364ed4adf3c7cd6",
            "value": 4
          }
        },
        "cff6cd645a154475926d32d88f678d28": {
          "model_module": "@jupyter-widgets/controls",
          "model_module_version": "1.5.0",
          "model_name": "HTMLModel",
          "state": {
            "_dom_classes": [],
            "_model_module": "@jupyter-widgets/controls",
            "_model_module_version": "1.5.0",
            "_model_name": "HTMLModel",
            "_view_count": null,
            "_view_module": "@jupyter-widgets/controls",
            "_view_module_version": "1.5.0",
            "_view_name": "HTMLView",
            "description": "",
            "description_tooltip": null,
            "layout": "IPY_MODEL_da2d07e4815f48d29ccd9fb9d498ef2e",
            "placeholder": "​",
            "style": "IPY_MODEL_400127a10b264a669b5b89c7f792c591",
            "value": " 4/4 [00:14&lt;00:00,  3.38s/it]"
          }
        },
        "d0b169a2382044c89816fdae176daa63": {
          "model_module": "@jupyter-widgets/controls",
          "model_module_version": "1.5.0",
          "model_name": "HTMLModel",
          "state": {
            "_dom_classes": [],
            "_model_module": "@jupyter-widgets/controls",
            "_model_module_version": "1.5.0",
            "_model_name": "HTMLModel",
            "_view_count": null,
            "_view_module": "@jupyter-widgets/controls",
            "_view_module_version": "1.5.0",
            "_view_name": "HTMLView",
            "description": "",
            "description_tooltip": null,
            "layout": "IPY_MODEL_ec3244a92c8d45318013b662c02084d4",
            "placeholder": "​",
            "style": "IPY_MODEL_c8fdec2650f246d4acc6537a01fda017",
            "value": " 6/6 [00:27&lt;00:00,  4.55s/it]"
          }
        },
        "d79613fa887e4754a7b432fead6bfa70": {
          "model_module": "@jupyter-widgets/controls",
          "model_module_version": "1.5.0",
          "model_name": "HBoxModel",
          "state": {
            "_dom_classes": [],
            "_model_module": "@jupyter-widgets/controls",
            "_model_module_version": "1.5.0",
            "_model_name": "HBoxModel",
            "_view_count": null,
            "_view_module": "@jupyter-widgets/controls",
            "_view_module_version": "1.5.0",
            "_view_name": "HBoxView",
            "box_style": "",
            "children": [
              "IPY_MODEL_642de79c548e45dd95d4e72e8a6b04dc",
              "IPY_MODEL_fa7acea06855473a94fdb10b0de31a58",
              "IPY_MODEL_d0b169a2382044c89816fdae176daa63"
            ],
            "layout": "IPY_MODEL_da233e0e57684d3e9057fe092fae5020"
          }
        },
        "da233e0e57684d3e9057fe092fae5020": {
          "model_module": "@jupyter-widgets/base",
          "model_module_version": "1.2.0",
          "model_name": "LayoutModel",
          "state": {
            "_model_module": "@jupyter-widgets/base",
            "_model_module_version": "1.2.0",
            "_model_name": "LayoutModel",
            "_view_count": null,
            "_view_module": "@jupyter-widgets/base",
            "_view_module_version": "1.2.0",
            "_view_name": "LayoutView",
            "align_content": null,
            "align_items": null,
            "align_self": null,
            "border": null,
            "bottom": null,
            "display": null,
            "flex": null,
            "flex_flow": null,
            "grid_area": null,
            "grid_auto_columns": null,
            "grid_auto_flow": null,
            "grid_auto_rows": null,
            "grid_column": null,
            "grid_gap": null,
            "grid_row": null,
            "grid_template_areas": null,
            "grid_template_columns": null,
            "grid_template_rows": null,
            "height": null,
            "justify_content": null,
            "justify_items": null,
            "left": null,
            "margin": null,
            "max_height": null,
            "max_width": null,
            "min_height": null,
            "min_width": null,
            "object_fit": null,
            "object_position": null,
            "order": null,
            "overflow": null,
            "overflow_x": null,
            "overflow_y": null,
            "padding": null,
            "right": null,
            "top": null,
            "visibility": "hidden",
            "width": null
          }
        },
        "da2d07e4815f48d29ccd9fb9d498ef2e": {
          "model_module": "@jupyter-widgets/base",
          "model_module_version": "1.2.0",
          "model_name": "LayoutModel",
          "state": {
            "_model_module": "@jupyter-widgets/base",
            "_model_module_version": "1.2.0",
            "_model_name": "LayoutModel",
            "_view_count": null,
            "_view_module": "@jupyter-widgets/base",
            "_view_module_version": "1.2.0",
            "_view_name": "LayoutView",
            "align_content": null,
            "align_items": null,
            "align_self": null,
            "border": null,
            "bottom": null,
            "display": null,
            "flex": null,
            "flex_flow": null,
            "grid_area": null,
            "grid_auto_columns": null,
            "grid_auto_flow": null,
            "grid_auto_rows": null,
            "grid_column": null,
            "grid_gap": null,
            "grid_row": null,
            "grid_template_areas": null,
            "grid_template_columns": null,
            "grid_template_rows": null,
            "height": null,
            "justify_content": null,
            "justify_items": null,
            "left": null,
            "margin": null,
            "max_height": null,
            "max_width": null,
            "min_height": null,
            "min_width": null,
            "object_fit": null,
            "object_position": null,
            "order": null,
            "overflow": null,
            "overflow_x": null,
            "overflow_y": null,
            "padding": null,
            "right": null,
            "top": null,
            "visibility": null,
            "width": null
          }
        },
        "e7a8ce9c76e54fe29185b72b3b862e33": {
          "model_module": "@jupyter-widgets/base",
          "model_module_version": "1.2.0",
          "model_name": "LayoutModel",
          "state": {
            "_model_module": "@jupyter-widgets/base",
            "_model_module_version": "1.2.0",
            "_model_name": "LayoutModel",
            "_view_count": null,
            "_view_module": "@jupyter-widgets/base",
            "_view_module_version": "1.2.0",
            "_view_name": "LayoutView",
            "align_content": null,
            "align_items": null,
            "align_self": null,
            "border": null,
            "bottom": null,
            "display": null,
            "flex": null,
            "flex_flow": null,
            "grid_area": null,
            "grid_auto_columns": null,
            "grid_auto_flow": null,
            "grid_auto_rows": null,
            "grid_column": null,
            "grid_gap": null,
            "grid_row": null,
            "grid_template_areas": null,
            "grid_template_columns": null,
            "grid_template_rows": null,
            "height": null,
            "justify_content": null,
            "justify_items": null,
            "left": null,
            "margin": null,
            "max_height": null,
            "max_width": null,
            "min_height": null,
            "min_width": null,
            "object_fit": null,
            "object_position": null,
            "order": null,
            "overflow": null,
            "overflow_x": null,
            "overflow_y": null,
            "padding": null,
            "right": null,
            "top": null,
            "visibility": null,
            "width": null
          }
        },
        "ec3244a92c8d45318013b662c02084d4": {
          "model_module": "@jupyter-widgets/base",
          "model_module_version": "1.2.0",
          "model_name": "LayoutModel",
          "state": {
            "_model_module": "@jupyter-widgets/base",
            "_model_module_version": "1.2.0",
            "_model_name": "LayoutModel",
            "_view_count": null,
            "_view_module": "@jupyter-widgets/base",
            "_view_module_version": "1.2.0",
            "_view_name": "LayoutView",
            "align_content": null,
            "align_items": null,
            "align_self": null,
            "border": null,
            "bottom": null,
            "display": null,
            "flex": null,
            "flex_flow": null,
            "grid_area": null,
            "grid_auto_columns": null,
            "grid_auto_flow": null,
            "grid_auto_rows": null,
            "grid_column": null,
            "grid_gap": null,
            "grid_row": null,
            "grid_template_areas": null,
            "grid_template_columns": null,
            "grid_template_rows": null,
            "height": null,
            "justify_content": null,
            "justify_items": null,
            "left": null,
            "margin": null,
            "max_height": null,
            "max_width": null,
            "min_height": null,
            "min_width": null,
            "object_fit": null,
            "object_position": null,
            "order": null,
            "overflow": null,
            "overflow_x": null,
            "overflow_y": null,
            "padding": null,
            "right": null,
            "top": null,
            "visibility": null,
            "width": null
          }
        },
        "fa7acea06855473a94fdb10b0de31a58": {
          "model_module": "@jupyter-widgets/controls",
          "model_module_version": "1.5.0",
          "model_name": "FloatProgressModel",
          "state": {
            "_dom_classes": [],
            "_model_module": "@jupyter-widgets/controls",
            "_model_module_version": "1.5.0",
            "_model_name": "FloatProgressModel",
            "_view_count": null,
            "_view_module": "@jupyter-widgets/controls",
            "_view_module_version": "1.5.0",
            "_view_name": "ProgressView",
            "bar_style": "",
            "description": "",
            "description_tooltip": null,
            "layout": "IPY_MODEL_7a4c81638eb84383ad4d70f5255cc334",
            "max": 6,
            "min": 0,
            "orientation": "horizontal",
            "style": "IPY_MODEL_819e078172b742f78f1c9eb5e7bcd50b",
            "value": 6
          }
        }
      }
    }
  },
  "nbformat": 4,
  "nbformat_minor": 0
}